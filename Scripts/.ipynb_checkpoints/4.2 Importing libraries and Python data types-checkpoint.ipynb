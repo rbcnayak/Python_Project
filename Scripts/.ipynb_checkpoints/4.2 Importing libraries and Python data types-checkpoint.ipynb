{
 "cells": [
  {
   "cell_type": "markdown",
   "id": "3f7fec19-e05e-459a-a793-e86f918ce634",
   "metadata": {},
   "source": [
    "# O1. Import libraries"
   ]
  },
  {
   "cell_type": "code",
   "execution_count": 1,
   "id": "ed7f8736-be5a-4b35-a714-54e7fa464469",
   "metadata": {},
   "outputs": [],
   "source": [
    "# Import libraries\n",
    "import pandas as pd\n",
    "import numpy as np\n",
    "import os"
   ]
  },
  {
   "cell_type": "markdown",
   "id": "9b45a74a-a069-417c-a7a0-1d5262d78490",
   "metadata": {},
   "source": [
    "# 02. Data types"
   ]
  },
  {
   "cell_type": "code",
   "execution_count": 2,
   "id": "d7d3f159-035f-43f4-aca6-cdf4d265f82c",
   "metadata": {},
   "outputs": [],
   "source": [
    "x = 2"
   ]
  },
  {
   "cell_type": "code",
   "execution_count": 3,
   "id": "968c1801-376b-4608-816c-6c7948f6601d",
   "metadata": {},
   "outputs": [
    {
     "data": {
      "text/plain": [
       "int"
      ]
     },
     "execution_count": 3,
     "metadata": {},
     "output_type": "execute_result"
    }
   ],
   "source": [
    "type(x)"
   ]
  },
  {
   "cell_type": "code",
   "execution_count": 4,
   "id": "c6f00a88-0aa8-41de-ad6e-7f766ef82f19",
   "metadata": {},
   "outputs": [],
   "source": [
    "y = 5.678"
   ]
  },
  {
   "cell_type": "code",
   "execution_count": 5,
   "id": "4f311025-ebda-425b-a7bd-51b6024be59d",
   "metadata": {},
   "outputs": [
    {
     "data": {
      "text/plain": [
       "float"
      ]
     },
     "execution_count": 5,
     "metadata": {},
     "output_type": "execute_result"
    }
   ],
   "source": [
    "type(y)"
   ]
  },
  {
   "cell_type": "code",
   "execution_count": 6,
   "id": "e597adcb-ccd2-42c2-9595-f18acd11aa92",
   "metadata": {},
   "outputs": [],
   "source": [
    "z = 'Brazil'"
   ]
  },
  {
   "cell_type": "code",
   "execution_count": 7,
   "id": "f625a4d3-dfef-4610-be3b-f471d599b89c",
   "metadata": {},
   "outputs": [
    {
     "data": {
      "text/plain": [
       "str"
      ]
     },
     "execution_count": 7,
     "metadata": {},
     "output_type": "execute_result"
    }
   ],
   "source": [
    "type(z)"
   ]
  },
  {
   "cell_type": "code",
   "execution_count": 8,
   "id": "4ff29647-1625-45a4-9b7c-cc0f56e4fbc5",
   "metadata": {},
   "outputs": [
    {
     "data": {
      "text/plain": [
       "str"
      ]
     },
     "execution_count": 8,
     "metadata": {},
     "output_type": "execute_result"
    }
   ],
   "source": [
    "type('Mania')"
   ]
  },
  {
   "cell_type": "code",
   "execution_count": 9,
   "id": "df430b50-75b8-43f6-964a-c6f327c45a9d",
   "metadata": {},
   "outputs": [
    {
     "data": {
      "text/plain": [
       "bool"
      ]
     },
     "execution_count": 9,
     "metadata": {},
     "output_type": "execute_result"
    }
   ],
   "source": [
    "type(True)"
   ]
  },
  {
   "cell_type": "code",
   "execution_count": 10,
   "id": "6b5b769a-eddb-435e-8953-95c7f263b5a1",
   "metadata": {},
   "outputs": [
    {
     "data": {
      "text/plain": [
       "bool"
      ]
     },
     "execution_count": 10,
     "metadata": {},
     "output_type": "execute_result"
    }
   ],
   "source": [
    "type(False)"
   ]
  },
  {
   "cell_type": "code",
   "execution_count": 11,
   "id": "5eac4db4-48c6-475d-8151-e434d836bb1d",
   "metadata": {},
   "outputs": [],
   "source": [
    "# Task: Code 3 different ways of reaching a result of 100 by adding or subtracting numeric variables"
   ]
  },
  {
   "cell_type": "code",
   "execution_count": 12,
   "id": "d9d23bac-0ffb-4363-b794-c2b6c310ddb3",
   "metadata": {},
   "outputs": [
    {
     "name": "stdout",
     "output_type": "stream",
     "text": [
      "2\n"
     ]
    }
   ],
   "source": [
    "print(x)"
   ]
  },
  {
   "cell_type": "code",
   "execution_count": 13,
   "id": "aba3887d-f786-4ac5-b31e-1e34ce14e714",
   "metadata": {},
   "outputs": [],
   "source": [
    "x = x + 4"
   ]
  },
  {
   "cell_type": "code",
   "execution_count": 14,
   "id": "1636c8d9-3d8b-4abe-a19c-4574bf907934",
   "metadata": {},
   "outputs": [
    {
     "name": "stdout",
     "output_type": "stream",
     "text": [
      "6\n"
     ]
    }
   ],
   "source": [
    "print(x)"
   ]
  },
  {
   "cell_type": "code",
   "execution_count": 15,
   "id": "07511e3a-f65b-4cf4-a426-e93db0d996d8",
   "metadata": {},
   "outputs": [
    {
     "data": {
      "text/plain": [
       "60"
      ]
     },
     "execution_count": 15,
     "metadata": {},
     "output_type": "execute_result"
    }
   ],
   "source": [
    "x * 10"
   ]
  },
  {
   "cell_type": "code",
   "execution_count": 16,
   "id": "338a15b0-a80d-4299-bef7-2580c30e7385",
   "metadata": {},
   "outputs": [
    {
     "data": {
      "text/plain": [
       "64"
      ]
     },
     "execution_count": 16,
     "metadata": {},
     "output_type": "execute_result"
    }
   ],
   "source": [
    "x * 9 + 10"
   ]
  },
  {
   "cell_type": "code",
   "execution_count": 17,
   "id": "6c928439-8f22-4f05-b1e0-dbb2e1ae5a8e",
   "metadata": {},
   "outputs": [
    {
     "data": {
      "text/plain": [
       "80"
      ]
     },
     "execution_count": 17,
     "metadata": {},
     "output_type": "execute_result"
    }
   ],
   "source": [
    "(x + 10) * 5 "
   ]
  },
  {
   "cell_type": "code",
   "execution_count": 18,
   "id": "86e0a621-2db2-4f01-9e7a-18c8e2a87bfc",
   "metadata": {},
   "outputs": [],
   "source": [
    "# Task: Code 2 floating-point variables and divide them by each other"
   ]
  },
  {
   "cell_type": "code",
   "execution_count": 19,
   "id": "c8f0346d-342d-4e41-b465-969a3651123e",
   "metadata": {},
   "outputs": [],
   "source": [
    "half = 3.5"
   ]
  },
  {
   "cell_type": "code",
   "execution_count": 20,
   "id": "e996f1b2-50f2-4b5a-8710-2aec9befa49d",
   "metadata": {},
   "outputs": [],
   "source": [
    "slice = 1.75"
   ]
  },
  {
   "cell_type": "code",
   "execution_count": 21,
   "id": "aea25934-dbec-4018-9961-32e070b02d59",
   "metadata": {},
   "outputs": [
    {
     "data": {
      "text/plain": [
       "2.0"
      ]
     },
     "execution_count": 21,
     "metadata": {},
     "output_type": "execute_result"
    }
   ],
   "source": [
    "half / slice"
   ]
  },
  {
   "cell_type": "code",
   "execution_count": 22,
   "id": "8c4985ea-dc00-42ef-a7bf-8268fc89bea1",
   "metadata": {},
   "outputs": [],
   "source": [
    "# Task: Construct a short word made of separate strings "
   ]
  },
  {
   "cell_type": "code",
   "execution_count": 23,
   "id": "25ab9c5b-9b79-4ea3-99a9-5272eca04609",
   "metadata": {},
   "outputs": [],
   "source": [
    "c = 'inter'"
   ]
  },
  {
   "cell_type": "code",
   "execution_count": 24,
   "id": "b95fe43e-d122-47ef-9b50-2bed593e4eea",
   "metadata": {},
   "outputs": [],
   "source": [
    "d = 'net'"
   ]
  },
  {
   "cell_type": "code",
   "execution_count": 25,
   "id": "9af1e31e-87c8-4ec1-9d44-36d97178b123",
   "metadata": {},
   "outputs": [
    {
     "data": {
      "text/plain": [
       "'internet'"
      ]
     },
     "execution_count": 25,
     "metadata": {},
     "output_type": "execute_result"
    }
   ],
   "source": [
    "c + d"
   ]
  },
  {
   "cell_type": "code",
   "execution_count": 26,
   "id": "049cae2b-71a9-44a8-a3dd-cda07543e6d5",
   "metadata": {},
   "outputs": [],
   "source": [
    "# Task: Construct 2 short sentences made of separate strings."
   ]
  },
  {
   "cell_type": "code",
   "execution_count": 27,
   "id": "eef727e9-a6f9-43c9-86f0-44b6eef3c062",
   "metadata": {},
   "outputs": [],
   "source": [
    "e = 'You are right. '"
   ]
  },
  {
   "cell_type": "code",
   "execution_count": 28,
   "id": "ce1bd44c-654f-4eff-825a-304280e90bb3",
   "metadata": {},
   "outputs": [],
   "source": [
    "f = 'Python is fun!'"
   ]
  },
  {
   "cell_type": "code",
   "execution_count": 29,
   "id": "397ab978-e2b5-44eb-a4d2-3664d99ee673",
   "metadata": {},
   "outputs": [
    {
     "data": {
      "text/plain": [
       "'You are right. Python is fun!'"
      ]
     },
     "execution_count": 29,
     "metadata": {},
     "output_type": "execute_result"
    }
   ],
   "source": [
    "e + f"
   ]
  },
  {
   "cell_type": "code",
   "execution_count": 30,
   "id": "c90ec6c9-b85d-4272-bb3f-3cd7b8a16870",
   "metadata": {},
   "outputs": [],
   "source": [
    "# Bonus: At the bottom of your file, include a command that makes a string appear 100 times"
   ]
  },
  {
   "cell_type": "code",
   "execution_count": 31,
   "id": "9a27052d-5f33-4a4e-9362-75799b4771ec",
   "metadata": {},
   "outputs": [],
   "source": [
    "g = '(._.)'"
   ]
  },
  {
   "cell_type": "code",
   "execution_count": 32,
   "id": "5656cd4a-8995-44f2-ae30-38eaabdfa948",
   "metadata": {},
   "outputs": [
    {
     "data": {
      "text/plain": [
       "'(._.)(._.)(._.)(._.)(._.)(._.)(._.)(._.)(._.)(._.)(._.)(._.)(._.)(._.)(._.)(._.)(._.)(._.)(._.)(._.)(._.)(._.)(._.)(._.)(._.)(._.)(._.)(._.)(._.)(._.)(._.)(._.)(._.)(._.)(._.)(._.)(._.)(._.)(._.)(._.)(._.)(._.)(._.)(._.)(._.)(._.)(._.)(._.)(._.)(._.)(._.)(._.)(._.)(._.)(._.)(._.)(._.)(._.)(._.)(._.)(._.)(._.)(._.)(._.)(._.)(._.)(._.)(._.)(._.)(._.)(._.)(._.)(._.)(._.)(._.)(._.)(._.)(._.)(._.)(._.)(._.)(._.)(._.)(._.)(._.)(._.)(._.)(._.)(._.)(._.)(._.)(._.)(._.)(._.)(._.)(._.)(._.)(._.)(._.)(._.)'"
      ]
     },
     "execution_count": 32,
     "metadata": {},
     "output_type": "execute_result"
    }
   ],
   "source": [
    "g * 100"
   ]
  },
  {
   "cell_type": "code",
   "execution_count": null,
   "id": "0a759cb9-a8d4-4b77-ae26-30b7e14dc825",
   "metadata": {},
   "outputs": [],
   "source": []
  }
 ],
 "metadata": {
  "kernelspec": {
   "display_name": "Python 3 (ipykernel)",
   "language": "python",
   "name": "python3"
  },
  "language_info": {
   "codemirror_mode": {
    "name": "ipython",
    "version": 3
   },
   "file_extension": ".py",
   "mimetype": "text/x-python",
   "name": "python",
   "nbconvert_exporter": "python",
   "pygments_lexer": "ipython3",
   "version": "3.11.7"
  }
 },
 "nbformat": 4,
 "nbformat_minor": 5
}
