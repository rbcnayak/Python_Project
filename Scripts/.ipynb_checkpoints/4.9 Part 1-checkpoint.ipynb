{
 "cells": [
  {
   "cell_type": "markdown",
   "id": "51a0af39-278b-4b02-9746-c67e5c090c27",
   "metadata": {},
   "source": [
    "## 01. Import libraries and data"
   ]
  },
  {
   "cell_type": "code",
   "execution_count": 1,
   "id": "868c9d26-89b6-4d67-8c4c-d7a11ec861fb",
   "metadata": {},
   "outputs": [],
   "source": [
    "# Import libraries\n",
    "import pandas as pd\n",
    "import numpy as np\n",
    "import os\n",
    "import matplotlib.pyplot as plt\n",
    "import seaborn as sns\n",
    "import scipy"
   ]
  },
  {
   "cell_type": "code",
   "execution_count": 2,
   "id": "e7fc5218-ba5f-40bd-9da9-158aad68c20d",
   "metadata": {},
   "outputs": [],
   "source": [
    "# Use a path for importing  \n",
    "path = r'/Users/rose/Documents/Career Foundry/Instacart Basket Analysis'"
   ]
  },
  {
   "cell_type": "code",
   "execution_count": 3,
   "id": "c0791d85-ea3d-47e5-b632-af3a91102e0b",
   "metadata": {},
   "outputs": [],
   "source": [
    "# Import most recent version of dataframe: ords_prods_merge dataframe\n",
    "ords_prods_merge = pd.read_pickle(os.path.join(path, '02 Data', 'Prepared Data', 'ords_prods_merge_aggregation2.pkl'))"
   ]
  },
  {
   "cell_type": "code",
   "execution_count": 4,
   "id": "8902c40f-c57d-419f-84a2-af671fb2eb8d",
   "metadata": {},
   "outputs": [
    {
     "data": {
      "image/png": "[encoded data removed]",
      "text/plain": [
       "<Figure size 640x480 with 1 Axes>"
      ]
     },
     "metadata": {},
     "output_type": "display_data"
    }
   ],
   "source": [
    "# Create a barchart using plot.bar() with sort_index()\n",
    "ords_prods_merge['orders_day_of_week'].value_counts().sort_index().plot.bar(color = ['#1a66ff'])\n",
    "\n",
    "# Set custom labels for the x-axis using plt.xticks()\n",
    "plt.xticks(range(7), ['Saturday', 'Sunday', 'Monday', 'Tuesday', 'Wednesday', 'Thursday', 'Friday'])\n",
    "\n",
    "# Add a y-axis label\n",
    "plt.ylabel('Frequency')\n",
    "\n",
    "# Display the plot\n",
    "plt.show()"
   ]
  },
  {
   "cell_type": "code",
   "execution_count": 5,
   "id": "b29fc1ad-2409-4a0f-b80b-73acefe128db",
   "metadata": {},
   "outputs": [
    {
     "data": {
      "text/plain": [
       "orders_day_of_week\n",
       "0    6204182\n",
       "1    5660230\n",
       "2    4213830\n",
       "3    3840534\n",
       "4    3783802\n",
       "5    4205791\n",
       "6    4496490\n",
       "Name: count, dtype: int64"
      ]
     },
     "execution_count": 5,
     "metadata": {},
     "output_type": "execute_result"
    }
   ],
   "source": [
    "# Printing frequency using value_counts() with sort_index()\n",
    "ords_prods_merge['orders_day_of_week'].value_counts().sort_index()"
   ]
  },
  {
   "cell_type": "code",
   "execution_count": 6,
   "id": "8b2331c9",
   "metadata": {},
   "outputs": [
    {
     "data": {
      "text/plain": [
       "(32404859, 24)"
      ]
     },
     "execution_count": 6,
     "metadata": {},
     "output_type": "execute_result"
    }
   ],
   "source": [
    "ords_prods_merge.shape"
   ]
  },
  {
   "cell_type": "code",
   "execution_count": 7,
   "id": "1413b035",
   "metadata": {},
   "outputs": [
    {
     "data": {
      "text/plain": [
       "Index(['order_id', 'user_id', 'order_number', 'orders_day_of_week',\n",
       "       'order_hour_of_day', 'days_since_prior_order', 'product_id',\n",
       "       'add_to_cart_order', 'reordered', 'product_name', 'aisle_id',\n",
       "       'department_id', 'prices', '_merge', 'price_range_loc', 'busiest_day',\n",
       "       'busiest_days', 'busiest_period_of_day', 'max_order', 'loyalty_flag',\n",
       "       'average_spend', 'spend_flag', 'order_frequency', 'frequency_flag'],\n",
       "      dtype='object')"
      ]
     },
     "execution_count": 7,
     "metadata": {},
     "output_type": "execute_result"
    }
   ],
   "source": [
    "# List the dataframe's columns names \n",
    "ords_prods_merge.columns"
   ]
  },
  {
   "cell_type": "code",
   "execution_count": null,
   "id": "c21b53fb-c40e-4fef-834c-ac3a502e80bd",
   "metadata": {},
   "outputs": [],
   "source": [
    "# Adding color using plot.bar() \n",
    "ords_prods_merge['orders_day_of_week'].value_counts().plot.bar(color =['#33cc00', '#73e600', '#a6ff4d', '#ccff33', '#d2ff4d', '#d9ff66', '#f2ffcc'])\n",
    "\n",
    "# Add a y-axis label\n",
    "plt.ylabel('Frequency')\n",
    "\n",
    "# Add a title\n",
    "plt.title('Frequency of Orders by Day of Week')\n",
    "\n",
    "\n",
    "# Display the plot\n",
    "plt.show()"
   ]
  },
  {
   "cell_type": "code",
   "execution_count": null,
   "id": "3a5abedd-0669-43b0-94c0-38bba35fe904",
   "metadata": {},
   "outputs": [],
   "source": [
    "# Saving chart in the notebook, by assigning:\n",
    "bar = ords_prods_merge['orders_day_of_week'].value_counts().plot.bar(color =['#33cc00', '#73e600', '#a6ff4d', '#ccff33', '#d2ff4d', '#d9ff66', '#f2ffcc'])"
   ]
  },
  {
   "cell_type": "markdown",
   "id": "55f77018-fdb1-4272-9076-156c9ffe74ab",
   "metadata": {},
   "source": [
    "## 02. Export charts"
   ]
  },
  {
   "cell_type": "code",
   "execution_count": 10,
   "id": "9f1d4009-f468-477b-868e-f9a0fb91ec72",
   "metadata": {},
   "outputs": [],
   "source": [
    "# Export the chart outside of Jupyter in the form of an image file. This can be done via the figure.savefig() function:\n",
    "bar.figure.savefig(os.path.join(path, '04 Analysis','Visualizations', 'bar_orders_dow.png'))"
   ]
  },
  {
   "cell_type": "code",
   "execution_count": null,
   "id": "c723c5c4-34f6-40c9-9f6f-514db5ec1e73",
   "metadata": {},
   "outputs": [],
   "source": [
    "# Create a histogram of the “prices” column:\n",
    "ords_prods_merge['prices'].plot.hist(bins = 25, color = '#00bfff')\n",
    "\n",
    "# Add a x-axis label\n",
    "plt.ylabel('Prices')\n",
    "\n",
    "# Add a title\n",
    "plt.title('Price Distribution')\n"
   ]
  },
  {
   "cell_type": "code",
   "execution_count": 12,
   "id": "bda24171-4149-41a0-b649-bbf59e8b08ed",
   "metadata": {},
   "outputs": [
    {
     "data": {
      "text/plain": [
       "count    3.239973e+07\n",
       "mean     7.790994e+00\n",
       "std      4.241809e+00\n",
       "min      1.000000e+00\n",
       "25%      4.200000e+00\n",
       "50%      7.400000e+00\n",
       "75%      1.130000e+01\n",
       "max      2.500000e+01\n",
       "Name: prices, dtype: float64"
      ]
     },
     "execution_count": 12,
     "metadata": {},
     "output_type": "execute_result"
    }
   ],
   "source": [
    "ords_prods_merge['prices'].describe()"
   ]
  },
  {
   "cell_type": "markdown",
   "id": "7bd373d2-0938-43f3-b174-36df1a42ce14",
   "metadata": {},
   "source": [
    "Moved data cleaning codes from here to the 4.8 notebook to keep this notebook strictly related to data visualization. "
   ]
  },
  {
   "cell_type": "code",
   "execution_count": 13,
   "id": "b4bc1929-2311-44f2-a2f3-1f906393c551",
   "metadata": {},
   "outputs": [
    {
     "data": {
      "image/png": "[encoded data removed]",
      "text/plain": [
       "<Figure size 640x480 with 1 Axes>"
      ]
     },
     "metadata": {},
     "output_type": "display_data"
    }
   ],
   "source": [
    "# Display histogram of prices\n",
    "hist = ords_prods_merge['prices'].plot.hist(bins = 100, color = '#0099ff')"
   ]
  },
  {
   "cell_type": "code",
   "execution_count": 14,
   "id": "6be194ff-6e6a-42b9-a736-5cb7bf250547",
   "metadata": {},
   "outputs": [],
   "source": [
    "# Export the chart outside of Jupyter in the form of an image file. This can be done via the figure.savefig() function:\n",
    "hist.figure.savefig(os.path.join(path, '04 Analysis','Visualizations', 'hist_orders_dow.png'))"
   ]
  },
  {
   "cell_type": "code",
   "execution_count": null,
   "id": "8160ed23-1a59-44a2-8ead-8e8e7bf3589f",
   "metadata": {},
   "outputs": [],
   "source": [
    "# Create a scatterplot:\n",
    "sns.scatterplot(x = 'prices', y = 'prices', data = ords_prods_merge)"
   ]
  },
  {
   "cell_type": "code",
   "execution_count": null,
   "id": "3ed6b577-0d00-4004-9bc8-d1c9893e4a48",
   "metadata": {},
   "outputs": [],
   "source": [
    "# Save scatterplot\n",
    "splot = sns.scatterplot(x = 'prices', y = 'prices', data = ords_prods_merge)"
   ]
  },
  {
   "cell_type": "code",
   "execution_count": 17,
   "id": "3abddc26-e367-49a8-957a-d6cd6a59b974",
   "metadata": {},
   "outputs": [],
   "source": [
    "# Export the scatterplot chart\n",
    "splot.figure.savefig(os.path.join(path, '04 Analysis','Visualizations', 'splot_price.png'))"
   ]
  },
  {
   "cell_type": "code",
   "execution_count": 18,
   "id": "d2c50abd-9ead-4d3f-85b9-071f082d5437",
   "metadata": {},
   "outputs": [],
   "source": [
    "# Data sampling (seed can be any number)\n",
    "np.random.seed(4)\n",
    "dev = np.random.rand(len(ords_prods_merge)) <= 0.7"
   ]
  },
  {
   "cell_type": "code",
   "execution_count": 19,
   "id": "4d8d31cf-c9f8-42a8-8da0-a6b8883ba32a",
   "metadata": {},
   "outputs": [
    {
     "data": {
      "text/plain": [
       "array([False,  True, False, ...,  True,  True,  True])"
      ]
     },
     "execution_count": 19,
     "metadata": {},
     "output_type": "execute_result"
    }
   ],
   "source": [
    "# Create a boolean array by using dev --(this should result in 70% of True instances):\n",
    "dev"
   ]
  },
  {
   "cell_type": "code",
   "execution_count": 20,
   "id": "4da3f193-22dd-40be-b09c-559162955173",
   "metadata": {},
   "outputs": [
    {
     "data": {
      "text/plain": [
       "array([0.93546686, 0.06557465, 0.85698584, 0.24456371, 0.22683171,\n",
       "       0.17068366, 0.27008946, 0.52534234, 0.83151571, 0.78153402])"
      ]
     },
     "execution_count": 20,
     "metadata": {},
     "output_type": "execute_result"
    }
   ],
   "source": [
    "np.random.rand(10)"
   ]
  },
  {
   "cell_type": "code",
   "execution_count": 21,
   "id": "03342228-11ab-42f4-9dbd-e30188d6cf92",
   "metadata": {},
   "outputs": [
    {
     "data": {
      "text/plain": [
       "(32404859, 24)"
      ]
     },
     "execution_count": 21,
     "metadata": {},
     "output_type": "execute_result"
    }
   ],
   "source": [
    "ords_prods_merge.shape"
   ]
  },
  {
   "cell_type": "code",
   "execution_count": 22,
   "id": "758f46c4-8e3d-47a4-b904-f47d31eca294",
   "metadata": {},
   "outputs": [],
   "source": [
    "# Store 70% of the sample in the dataframe big\n",
    "big = ords_prods_merge[dev]"
   ]
  },
  {
   "cell_type": "code",
   "execution_count": 23,
   "id": "f5fdc767-2092-41b0-8779-f4502cfdc88e",
   "metadata": {},
   "outputs": [],
   "source": [
    "# Store 30% of the sample in the dataframe small\n",
    "small = ords_prods_merge[~dev]"
   ]
  },
  {
   "cell_type": "code",
   "execution_count": 24,
   "id": "ab8a6978-c2a6-43b3-99de-fdc6d3b3b150",
   "metadata": {},
   "outputs": [
    {
     "data": {
      "text/plain": [
       "32404859"
      ]
     },
     "execution_count": 24,
     "metadata": {},
     "output_type": "execute_result"
    }
   ],
   "source": [
    "# Check number of rows for the entire dataframe\n",
    "len(ords_prods_merge)"
   ]
  },
  {
   "cell_type": "code",
   "execution_count": 25,
   "id": "bbab5ff3-3eea-4a9c-9ee6-71acd50cbfea",
   "metadata": {},
   "outputs": [
    {
     "data": {
      "text/plain": [
       "32404859"
      ]
     },
     "execution_count": 25,
     "metadata": {},
     "output_type": "execute_result"
    }
   ],
   "source": [
    "# Check number of rows for the 2 sample subsets (big, 70% and small, 30%)\n",
    "len(big) + len(small)"
   ]
  },
  {
   "cell_type": "code",
   "execution_count": 26,
   "id": "a2303fe1-ef39-4497-87aa-4080640fa522",
   "metadata": {},
   "outputs": [],
   "source": [
    "# Limit samples to only those columns necessary for the chart, namely “prices” and “orders_day_of_week.”\n",
    "df_2 = small[['orders_day_of_week','prices']]"
   ]
  },
  {
   "cell_type": "code",
   "execution_count": null,
   "id": "84102f24-4754-49b1-bd2f-9bba0bd0e887",
   "metadata": {},
   "outputs": [],
   "source": [
    "# Create a lineplot for 'orders_day_of_week' and 'prices' and saving it:\n",
    "line = sns.lineplot(data = df_2, x = 'orders_day_of_week',y = 'prices')"
   ]
  },
  {
   "cell_type": "code",
   "execution_count": 33,
   "id": "15304527-e30d-403b-b6f5-0e7cf6995535",
   "metadata": {},
   "outputs": [],
   "source": [
    "# Export lineplot \n",
    "line.figure.savefig(os.path.join(path, '04 Analysis','Visualizations', 'line_orders_dow.png'))"
   ]
  },
  {
   "cell_type": "code",
   "execution_count": 34,
   "id": "57dbfc34",
   "metadata": {},
   "outputs": [
    {
     "data": {
      "text/plain": [
       "(32404859, 24)"
      ]
     },
     "execution_count": 34,
     "metadata": {},
     "output_type": "execute_result"
    }
   ],
   "source": [
    "ords_prods_merge.shape"
   ]
  },
  {
   "cell_type": "code",
   "execution_count": 35,
   "id": "7433bea9",
   "metadata": {},
   "outputs": [
    {
     "data": {
      "text/plain": [
       "Index(['order_id', 'user_id', 'order_number', 'orders_day_of_week',\n",
       "       'order_hour_of_day', 'days_since_prior_order', 'product_id',\n",
       "       'add_to_cart_order', 'reordered', 'product_name', 'aisle_id',\n",
       "       'department_id', 'prices', '_merge', 'price_range_loc', 'busiest_day',\n",
       "       'busiest_days', 'busiest_period_of_day', 'max_order', 'loyalty_flag',\n",
       "       'average_spend', 'spend_flag', 'order_frequency', 'frequency_flag'],\n",
       "      dtype='object')"
      ]
     },
     "execution_count": 35,
     "metadata": {},
     "output_type": "execute_result"
    }
   ],
   "source": [
    "ords_prods_merge.columns"
   ]
  },
  {
   "cell_type": "markdown",
   "id": "15766446-6865-4cf1-8a25-83bdf73f4a77",
   "metadata": {},
   "source": [
    "## Export as pkl"
   ]
  },
  {
   "cell_type": "code",
   "execution_count": 36,
   "id": "6740c9f2-3df6-4591-ab2b-ba7dd6679020",
   "metadata": {},
   "outputs": [],
   "source": [
    "# Export ords_prods_merge dataframe as “ords_prods_merge_visualization_exercise.pkl” under “Prepared Data” folder. \n",
    "ords_prods_merge.to_pickle(os.path.join(path, '02 Data','Prepared Data', 'ords_prods_merge_visualization_exercise.pkl'))"
   ]
  },
  {
   "cell_type": "code",
   "execution_count": null,
   "id": "12b9a214-f31e-40ee-a716-9c220b396e2d",
   "metadata": {},
   "outputs": [],
   "source": []
  },
  {
   "cell_type": "code",
   "execution_count": null,
   "id": "4fdd2542-e2a1-4f51-b1dc-b39906814e0f",
   "metadata": {},
   "outputs": [],
   "source": []
  },
  {
   "cell_type": "code",
   "execution_count": null,
   "id": "e6868737-2255-4cbd-8319-350182c7c2cd",
   "metadata": {},
   "outputs": [],
   "source": []
  },
  {
   "cell_type": "code",
   "execution_count": null,
   "id": "67011b5b-b8f3-4f47-b803-f579d7ce4078",
   "metadata": {},
   "outputs": [],
   "source": []
  },
  {
   "cell_type": "code",
   "execution_count": null,
   "id": "88ecac2c-6d4b-4d63-b921-277cfff9e2a5",
   "metadata": {},
   "outputs": [],
   "source": []
  }
 ],
 "metadata": {
  "kernelspec": {
   "display_name": "Python 3 (ipykernel)",
   "language": "python",
   "name": "python3"
  },
  "language_info": {
   "codemirror_mode": {
    "name": "ipython",
    "version": 3
   },
   "file_extension": ".py",
   "mimetype": "text/x-python",
   "name": "python",
   "nbconvert_exporter": "python",
   "pygments_lexer": "ipython3",
   "version": "3.11.7"
  }
 },
 "nbformat": 4,
 "nbformat_minor": 5
}
