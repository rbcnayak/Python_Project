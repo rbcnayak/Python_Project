{
 "cells": [
  {
   "cell_type": "markdown",
   "id": "0efb77dd",
   "metadata": {},
   "source": [
    "## Importing Libraries and Data"
   ]
  },
  {
   "cell_type": "code",
   "execution_count": 1,
   "id": "02e13c60",
   "metadata": {},
   "outputs": [],
   "source": [
    "# Import libraries\n",
    "import pandas as pd\n",
    "import numpy as np\n",
    "import os\n",
    "import matplotlib.pyplot as plt\n",
    "import seaborn as sns\n",
    "import scipy"
   ]
  },
  {
   "cell_type": "code",
   "execution_count": 2,
   "id": "b3b1538a",
   "metadata": {},
   "outputs": [],
   "source": [
    "# Use variable path to import most recent dataframe\n",
    "path = r'/Users/rose/Documents/Career Foundry/Instacart Basket Analysis'"
   ]
  },
  {
   "cell_type": "code",
   "execution_count": 3,
   "id": "96bc94ab",
   "metadata": {},
   "outputs": [],
   "source": [
    "# Import most recent version of dataframe: instacart_visualization.pkl from 4.9 Part 2 notebook as\n",
    "instacart = pd.read_pickle(os.path.join(path, '02 Data', 'Prepared Data', 'instacart_visualization.pkl'))"
   ]
  },
  {
   "cell_type": "code",
   "execution_count": 4,
   "id": "d3ad7e09",
   "metadata": {},
   "outputs": [
    {
     "data": {
      "text/html": [
       "<div>\n",
       "<style scoped>\n",
       "    .dataframe tbody tr th:only-of-type {\n",
       "        vertical-align: middle;\n",
       "    }\n",
       "\n",
       "    .dataframe tbody tr th {\n",
       "        vertical-align: top;\n",
       "    }\n",
       "\n",
       "    .dataframe thead th {\n",
       "        text-align: right;\n",
       "    }\n",
       "</style>\n",
       "<table border=\"1\" class=\"dataframe\">\n",
       "  <thead>\n",
       "    <tr style=\"text-align: right;\">\n",
       "      <th></th>\n",
       "      <th>order_id</th>\n",
       "      <th>user_id</th>\n",
       "      <th>order_number</th>\n",
       "      <th>orders_day_of_week</th>\n",
       "      <th>order_hour_of_day</th>\n",
       "      <th>days_since_prior_order</th>\n",
       "      <th>product_id</th>\n",
       "      <th>add_to_cart_order</th>\n",
       "      <th>reordered</th>\n",
       "      <th>product_name</th>\n",
       "      <th>...</th>\n",
       "      <th>first_name</th>\n",
       "      <th>last_name</th>\n",
       "      <th>gender</th>\n",
       "      <th>state</th>\n",
       "      <th>age</th>\n",
       "      <th>date_joined</th>\n",
       "      <th>n_dependants</th>\n",
       "      <th>fam_status</th>\n",
       "      <th>income</th>\n",
       "      <th>_merge</th>\n",
       "    </tr>\n",
       "  </thead>\n",
       "  <tbody>\n",
       "    <tr>\n",
       "      <th>0</th>\n",
       "      <td>2539329</td>\n",
       "      <td>1</td>\n",
       "      <td>1</td>\n",
       "      <td>2</td>\n",
       "      <td>8</td>\n",
       "      <td>NaN</td>\n",
       "      <td>196</td>\n",
       "      <td>1</td>\n",
       "      <td>0</td>\n",
       "      <td>Soda</td>\n",
       "      <td>...</td>\n",
       "      <td>Linda</td>\n",
       "      <td>Nguyen</td>\n",
       "      <td>Female</td>\n",
       "      <td>Alabama</td>\n",
       "      <td>31</td>\n",
       "      <td>2/17/2019</td>\n",
       "      <td>3</td>\n",
       "      <td>married</td>\n",
       "      <td>40423</td>\n",
       "      <td>both</td>\n",
       "    </tr>\n",
       "  </tbody>\n",
       "</table>\n",
       "<p>1 rows × 33 columns</p>\n",
       "</div>"
      ],
      "text/plain": [
       "   order_id  user_id  order_number  orders_day_of_week  order_hour_of_day  \\\n",
       "0   2539329        1             1                   2                  8   \n",
       "\n",
       "   days_since_prior_order  product_id  add_to_cart_order  reordered  \\\n",
       "0                     NaN         196                  1          0   \n",
       "\n",
       "  product_name  ...  first_name  last_name  gender    state age date_joined  \\\n",
       "0         Soda  ...       Linda     Nguyen  Female  Alabama  31   2/17/2019   \n",
       "\n",
       "  n_dependants  fam_status income  _merge  \n",
       "0            3     married  40423    both  \n",
       "\n",
       "[1 rows x 33 columns]"
      ]
     },
     "execution_count": 4,
     "metadata": {},
     "output_type": "execute_result"
    }
   ],
   "source": [
    "instacart.head(1)"
   ]
  },
  {
   "cell_type": "code",
   "execution_count": 5,
   "id": "8c3aadae",
   "metadata": {},
   "outputs": [
    {
     "data": {
      "text/plain": [
       "(30629741, 33)"
      ]
     },
     "execution_count": 5,
     "metadata": {},
     "output_type": "execute_result"
    }
   ],
   "source": [
    "instacart.shape"
   ]
  },
  {
   "cell_type": "code",
   "execution_count": 6,
   "id": "36b9d409",
   "metadata": {},
   "outputs": [
    {
     "data": {
      "text/plain": [
       "loyalty_flag\n",
       "Loyal customer      13410522\n",
       "Regular customer    11317058\n",
       "New customer         5902161\n",
       "Name: count, dtype: int64"
      ]
     },
     "execution_count": 6,
     "metadata": {},
     "output_type": "execute_result"
    }
   ],
   "source": [
    "# Check counts\n",
    "instacart['loyalty_flag'].value_counts()"
   ]
  },
  {
   "cell_type": "markdown",
   "id": "c3de5f6c",
   "metadata": {},
   "source": [
    "# Analysis"
   ]
  },
  {
   "cell_type": "markdown",
   "id": "886dd7f1",
   "metadata": {},
   "source": [
    "## Task 2 Address any PII data in the data\n",
    "The dataframe has a number of personally identifiable information or PII data elements, namely  first name, last name, gender, family status and age, some more sensitive than others. If presented with this dataframe in a real set-up, these will be flagged for proper handling protocol, which may include access controls such as anonymization or encryption as a way of protecting the privacy of individuals as well as ensuring compliance with General Data Protection Regulation (GDPR) and other privacy regulations and standards. For this analysis however, I will delete the first name and last name since both are not pertinent to the analysis. With these two sensitive PII deleted, gender and age are rendered less sensitive and will keep it for analysis. "
   ]
  },
  {
   "cell_type": "code",
   "execution_count": 7,
   "id": "6f04b18e",
   "metadata": {},
   "outputs": [],
   "source": [
    "# Drop first_name and last_name columns from instacart dataframe\n",
    "instacart = instacart.drop(columns = ['first_name', 'last_name'])"
   ]
  },
  {
   "cell_type": "code",
   "execution_count": 8,
   "id": "5cf68d1a",
   "metadata": {},
   "outputs": [
    {
     "data": {
      "text/plain": [
       "(30629741, 31)"
      ]
     },
     "execution_count": 8,
     "metadata": {},
     "output_type": "execute_result"
    }
   ],
   "source": [
    "# Dropped 2 columns--should now be 30 from 32 columns, check to see if successful\n",
    "instacart.shape"
   ]
  },
  {
   "cell_type": "code",
   "execution_count": 9,
   "id": "e63149d6",
   "metadata": {},
   "outputs": [],
   "source": [
    "# Task 3 Create a regional segmentation of the data, using Wiki's List of regions of the United States"
   ]
  },
  {
   "cell_type": "code",
   "execution_count": 10,
   "id": "422d78fc",
   "metadata": {},
   "outputs": [],
   "source": [
    "result = []\n",
    "\n",
    "for state in instacart[\"state\"]:\n",
    "    if state in ('Maine', 'New Hampshire', 'Vermont', 'Massachusetts', 'Rhode Island', 'Connecticut', 'New York', 'Pennsylvania', 'New Jersey'):\n",
    "        result.append(\"Northeast\")\n",
    "    elif state in ('Wisconsin', 'Michigan', 'Illinois', 'Indiana', 'Ohio', 'North Dakota', 'South Dakota', 'Nebraska', 'Kansas', 'Minnesota', 'Iowa', 'Missouri'):\n",
    "        result.append(\"Midwest\")\n",
    "    elif state in ('Delaware', 'Maryland', 'District of Columbia', 'Virginia', 'West Virginia', 'North Carolina', 'South Carolina', 'Georgia', 'Florida', 'Kentucky', 'Tennessee', 'Mississippi', 'Alabama', 'Oklahoma', 'Texas', 'Arkansas', 'Louisiana'):\n",
    "        result.append(\"South\")\n",
    "    else:\n",
    "        result.append(\"West\")"
   ]
  },
  {
   "cell_type": "code",
   "execution_count": 11,
   "id": "df1c69b3",
   "metadata": {},
   "outputs": [],
   "source": [
    "# Create \"region\" column:\n",
    "instacart['region'] = result"
   ]
  },
  {
   "cell_type": "code",
   "execution_count": 12,
   "id": "6233d00f",
   "metadata": {},
   "outputs": [
    {
     "data": {
      "text/plain": [
       "region\n",
       "South        10198982\n",
       "West          7831810\n",
       "Midwest       7176924\n",
       "Northeast     5422025\n",
       "Name: count, dtype: int64"
      ]
     },
     "execution_count": 12,
     "metadata": {},
     "output_type": "execute_result"
    }
   ],
   "source": [
    "instacart['region'].value_counts(dropna = False)"
   ]
  },
  {
   "cell_type": "code",
   "execution_count": 13,
   "id": "b8bbdb4e",
   "metadata": {},
   "outputs": [
    {
     "data": {
      "text/plain": [
       "(30629741, 32)"
      ]
     },
     "execution_count": 13,
     "metadata": {},
     "output_type": "execute_result"
    }
   ],
   "source": [
    "instacart.shape"
   ]
  },
  {
   "cell_type": "code",
   "execution_count": 14,
   "id": "c687011a",
   "metadata": {},
   "outputs": [],
   "source": [
    "# Task 3 Determine whether there’s a difference in spending habits between the different U.S. regions. \n",
    "crosstab = pd.crosstab(instacart['spend_flag'], instacart['region'], dropna = False)"
   ]
  },
  {
   "cell_type": "code",
   "execution_count": 15,
   "id": "da71ba76",
   "metadata": {},
   "outputs": [],
   "source": [
    "crosstab.to_clipboard()"
   ]
  },
  {
   "cell_type": "code",
   "execution_count": 16,
   "id": "c964dade",
   "metadata": {},
   "outputs": [
    {
     "data": {
      "text/html": [
       "<div>\n",
       "<style scoped>\n",
       "    .dataframe tbody tr th:only-of-type {\n",
       "        vertical-align: middle;\n",
       "    }\n",
       "\n",
       "    .dataframe tbody tr th {\n",
       "        vertical-align: top;\n",
       "    }\n",
       "\n",
       "    .dataframe thead th {\n",
       "        text-align: right;\n",
       "    }\n",
       "</style>\n",
       "<table border=\"1\" class=\"dataframe\">\n",
       "  <thead>\n",
       "    <tr style=\"text-align: right;\">\n",
       "      <th>region</th>\n",
       "      <th>Midwest</th>\n",
       "      <th>Northeast</th>\n",
       "      <th>South</th>\n",
       "      <th>West</th>\n",
       "    </tr>\n",
       "    <tr>\n",
       "      <th>spend_flag</th>\n",
       "      <th></th>\n",
       "      <th></th>\n",
       "      <th></th>\n",
       "      <th></th>\n",
       "    </tr>\n",
       "  </thead>\n",
       "  <tbody>\n",
       "    <tr>\n",
       "      <th>High_spender</th>\n",
       "      <td>22892</td>\n",
       "      <td>16766</td>\n",
       "      <td>32818</td>\n",
       "      <td>22600</td>\n",
       "    </tr>\n",
       "    <tr>\n",
       "      <th>Low_spender</th>\n",
       "      <td>7066769</td>\n",
       "      <td>5346203</td>\n",
       "      <td>10050368</td>\n",
       "      <td>7722029</td>\n",
       "    </tr>\n",
       "    <tr>\n",
       "      <th>Regular_spender</th>\n",
       "      <td>87263</td>\n",
       "      <td>59056</td>\n",
       "      <td>115796</td>\n",
       "      <td>87181</td>\n",
       "    </tr>\n",
       "  </tbody>\n",
       "</table>\n",
       "</div>"
      ],
      "text/plain": [
       "region           Midwest  Northeast     South     West\n",
       "spend_flag                                            \n",
       "High_spender       22892      16766     32818    22600\n",
       "Low_spender      7066769    5346203  10050368  7722029\n",
       "Regular_spender    87263      59056    115796    87181"
      ]
     },
     "execution_count": 16,
     "metadata": {},
     "output_type": "execute_result"
    }
   ],
   "source": [
    "crosstab"
   ]
  },
  {
   "cell_type": "code",
   "execution_count": 17,
   "id": "bb5f3019",
   "metadata": {},
   "outputs": [],
   "source": [
    "# Task 4 # Assign an activity flag/column to identify low activity customers\n",
    "instacart.loc[instacart['max_order'] < 5, 'activity_flag'] = 'Low Activity'"
   ]
  },
  {
   "cell_type": "code",
   "execution_count": 18,
   "id": "b2122561",
   "metadata": {},
   "outputs": [],
   "source": [
    "instacart.loc[instacart['max_order'] >= 5, 'activity_flag'] = 'Regular Activity'"
   ]
  },
  {
   "cell_type": "code",
   "execution_count": 19,
   "id": "f3e91a01",
   "metadata": {},
   "outputs": [
    {
     "data": {
      "text/plain": [
       "activity_flag\n",
       "Regular Activity    29270938\n",
       "Low Activity         1358803\n",
       "Name: count, dtype: int64"
      ]
     },
     "execution_count": 19,
     "metadata": {},
     "output_type": "execute_result"
    }
   ],
   "source": [
    "instacart['activity_flag'].value_counts(dropna = False)"
   ]
  },
  {
   "cell_type": "code",
   "execution_count": 20,
   "id": "f4db487d",
   "metadata": {},
   "outputs": [],
   "source": [
    "# Create an exclusion dataframe\n",
    "df_exclusion = instacart[~instacart[\"activity_flag\"].isin([\"Low Activity\"])]"
   ]
  },
  {
   "cell_type": "code",
   "execution_count": 21,
   "id": "07348210",
   "metadata": {},
   "outputs": [
    {
     "data": {
      "text/plain": [
       "order_id                  29270938\n",
       "user_id                   29270938\n",
       "order_number              29270938\n",
       "orders_day_of_week        29270938\n",
       "order_hour_of_day         29270938\n",
       "days_since_prior_order    27699512\n",
       "product_id                29270938\n",
       "add_to_cart_order         29270938\n",
       "reordered                 29270938\n",
       "product_name              29270938\n",
       "aisle_id                  29270938\n",
       "department_id             29270938\n",
       "prices                    29266394\n",
       "price_range_loc           29270938\n",
       "busiest_day               29270938\n",
       "busiest_days              29270938\n",
       "busiest_period_of_day     29270938\n",
       "max_order                 29270938\n",
       "loyalty_flag              29270938\n",
       "average_spend             29270938\n",
       "spend_flag                29270938\n",
       "order_frequency           29270938\n",
       "frequency_flag            29270938\n",
       "gender                    29270938\n",
       "state                     29270938\n",
       "age                       29270938\n",
       "date_joined               29270938\n",
       "n_dependants              29270938\n",
       "fam_status                29270938\n",
       "income                    29270938\n",
       "_merge                    29270938\n",
       "region                    29270938\n",
       "activity_flag             29270938\n",
       "dtype: int64"
      ]
     },
     "execution_count": 21,
     "metadata": {},
     "output_type": "execute_result"
    }
   ],
   "source": [
    "df_exclusion.count()"
   ]
  },
  {
   "cell_type": "code",
   "execution_count": 22,
   "id": "3766116b",
   "metadata": {},
   "outputs": [],
   "source": [
    "# To save memory, don't export until necessary, when ready, remove ## and Export df_exclusion to 'Prepared Data' folder\n",
    "## df_exclusion.to_pickle(os.path.join(path, '05 Sent to client', 'regular_activity'))"
   ]
  },
  {
   "cell_type": "code",
   "execution_count": 23,
   "id": "78434020",
   "metadata": {},
   "outputs": [
    {
     "data": {
      "text/plain": [
       "activity_flag\n",
       "Regular Activity    29270938\n",
       "Name: count, dtype: int64"
      ]
     },
     "execution_count": 23,
     "metadata": {},
     "output_type": "execute_result"
    }
   ],
   "source": [
    "# check counts\n",
    "df_exclusion['activity_flag'].value_counts(dropna = False)"
   ]
  },
  {
   "cell_type": "code",
   "execution_count": 24,
   "id": "6caae826",
   "metadata": {},
   "outputs": [
    {
     "data": {
      "image/png": "[encoded data removed]",
      "text/plain": [
       "<Figure size 640x480 with 1 Axes>"
      ]
     },
     "metadata": {},
     "output_type": "display_data"
    }
   ],
   "source": [
    "# Display histogram of prices\n",
    "hist = df_exclusion['prices'].plot.hist(bins = 25, color = 'royalblue')"
   ]
  },
  {
   "cell_type": "code",
   "execution_count": 25,
   "id": "0331ccef",
   "metadata": {},
   "outputs": [
    {
     "data": {
      "text/plain": [
       "count    2.926639e+07\n",
       "mean     7.791568e+00\n",
       "std      4.241156e+00\n",
       "min      1.000000e+00\n",
       "25%      4.200000e+00\n",
       "50%      7.400000e+00\n",
       "75%      1.130000e+01\n",
       "max      2.500000e+01\n",
       "Name: prices, dtype: float64"
      ]
     },
     "execution_count": 25,
     "metadata": {},
     "output_type": "execute_result"
    }
   ],
   "source": [
    "df_exclusion['prices'].describe()"
   ]
  },
  {
   "cell_type": "markdown",
   "id": "c8cd96e0",
   "metadata": {},
   "source": [
    "### Customer Profiling"
   ]
  },
  {
   "cell_type": "code",
   "execution_count": 26,
   "id": "a258ed19",
   "metadata": {},
   "outputs": [
    {
     "name": "stderr",
     "output_type": "stream",
     "text": [
      "/var/folders/3d/n4rd9d4920lcv99lmvhn9ghr0000gp/T/ipykernel_53579/2449490098.py:2: SettingWithCopyWarning: \n",
      "A value is trying to be set on a copy of a slice from a DataFrame.\n",
      "Try using .loc[row_indexer,col_indexer] = value instead\n",
      "\n",
      "See the caveats in the documentation: https://pandas.pydata.org/pandas-docs/stable/user_guide/indexing.html#returning-a-view-versus-a-copy\n",
      "  df_exclusion.loc[df_exclusion['age'] < 22, 'age_group'] = 'Youth'\n"
     ]
    }
   ],
   "source": [
    "# Based on age\n",
    "df_exclusion.loc[df_exclusion['age'] < 22, 'age_group'] = 'Youth'\n",
    "df_exclusion.loc[df_exclusion['age'] >= 22,'age_group'] = 'Young Adult'\n",
    "df_exclusion.loc[(df_exclusion['age'] >= 30) & (df_exclusion['age']< 60),'age_group'] = 'Adult'\n",
    "df_exclusion.loc[df_exclusion['age'] >= 60,'age_group'] = 'Senior'"
   ]
  },
  {
   "cell_type": "code",
   "execution_count": 27,
   "id": "07831d49",
   "metadata": {},
   "outputs": [
    {
     "data": {
      "text/plain": [
       "age_group\n",
       "Adult          13778563\n",
       "Senior          9998947\n",
       "Young Adult     3650672\n",
       "Youth           1842756\n",
       "Name: count, dtype: int64"
      ]
     },
     "execution_count": 27,
     "metadata": {},
     "output_type": "execute_result"
    }
   ],
   "source": [
    "df_exclusion['age_group'].value_counts(dropna = False)"
   ]
  },
  {
   "cell_type": "code",
   "execution_count": 28,
   "id": "01469611",
   "metadata": {},
   "outputs": [
    {
     "name": "stderr",
     "output_type": "stream",
     "text": [
      "/var/folders/3d/n4rd9d4920lcv99lmvhn9ghr0000gp/T/ipykernel_53579/3565109922.py:2: SettingWithCopyWarning: \n",
      "A value is trying to be set on a copy of a slice from a DataFrame.\n",
      "Try using .loc[row_indexer,col_indexer] = value instead\n",
      "\n",
      "See the caveats in the documentation: https://pandas.pydata.org/pandas-docs/stable/user_guide/indexing.html#returning-a-view-versus-a-copy\n",
      "  df_exclusion.loc[df_exclusion['income'] < 60000, 'income_group'] = 'Low'\n"
     ]
    }
   ],
   "source": [
    "# Based on income\n",
    "df_exclusion.loc[df_exclusion['income'] < 60000, 'income_group'] = 'Low'\n",
    "df_exclusion.loc[(df_exclusion['income'] >= 60000) & (df_exclusion['income']< 120000),'income_group'] = 'Middle'\n",
    "df_exclusion.loc[df_exclusion['income'] >= 120000,'income_group'] = 'High'"
   ]
  },
  {
   "cell_type": "code",
   "execution_count": 29,
   "id": "f4a744e8",
   "metadata": {},
   "outputs": [
    {
     "data": {
      "text/plain": [
       "income_group\n",
       "Middle    15119028\n",
       "High       8676806\n",
       "Low        5475104\n",
       "Name: count, dtype: int64"
      ]
     },
     "execution_count": 29,
     "metadata": {},
     "output_type": "execute_result"
    }
   ],
   "source": [
    "# check counts\n",
    "df_exclusion['income_group'].value_counts(dropna = False)"
   ]
  },
  {
   "cell_type": "code",
   "execution_count": 30,
   "id": "556167d2",
   "metadata": {},
   "outputs": [
    {
     "data": {
      "text/plain": [
       "order_id                  29270938\n",
       "user_id                   29270938\n",
       "order_number              29270938\n",
       "orders_day_of_week        29270938\n",
       "order_hour_of_day         29270938\n",
       "days_since_prior_order    27699512\n",
       "product_id                29270938\n",
       "add_to_cart_order         29270938\n",
       "reordered                 29270938\n",
       "product_name              29270938\n",
       "aisle_id                  29270938\n",
       "department_id             29270938\n",
       "prices                    29266394\n",
       "price_range_loc           29270938\n",
       "busiest_day               29270938\n",
       "busiest_days              29270938\n",
       "busiest_period_of_day     29270938\n",
       "max_order                 29270938\n",
       "loyalty_flag              29270938\n",
       "average_spend             29270938\n",
       "spend_flag                29270938\n",
       "order_frequency           29270938\n",
       "frequency_flag            29270938\n",
       "gender                    29270938\n",
       "state                     29270938\n",
       "age                       29270938\n",
       "date_joined               29270938\n",
       "n_dependants              29270938\n",
       "fam_status                29270938\n",
       "income                    29270938\n",
       "_merge                    29270938\n",
       "region                    29270938\n",
       "activity_flag             29270938\n",
       "age_group                 29270938\n",
       "income_group              29270938\n",
       "dtype: int64"
      ]
     },
     "execution_count": 30,
     "metadata": {},
     "output_type": "execute_result"
    }
   ],
   "source": [
    "df_exclusion.count()"
   ]
  },
  {
   "cell_type": "code",
   "execution_count": 31,
   "id": "8b0003f3",
   "metadata": {},
   "outputs": [],
   "source": [
    "# Determine whether there’s a difference in spending habits between income groups\n",
    "crosstab_spend_income_group = pd.crosstab(df_exclusion['spend_flag'], df_exclusion['income_group'], dropna = False)"
   ]
  },
  {
   "cell_type": "code",
   "execution_count": 32,
   "id": "2c722962",
   "metadata": {},
   "outputs": [],
   "source": [
    "crosstab_spend_income_group.to_clipboard()"
   ]
  },
  {
   "cell_type": "code",
   "execution_count": 33,
   "id": "565247ab",
   "metadata": {},
   "outputs": [
    {
     "data": {
      "text/html": [
       "<div>\n",
       "<style scoped>\n",
       "    .dataframe tbody tr th:only-of-type {\n",
       "        vertical-align: middle;\n",
       "    }\n",
       "\n",
       "    .dataframe tbody tr th {\n",
       "        vertical-align: top;\n",
       "    }\n",
       "\n",
       "    .dataframe thead th {\n",
       "        text-align: right;\n",
       "    }\n",
       "</style>\n",
       "<table border=\"1\" class=\"dataframe\">\n",
       "  <thead>\n",
       "    <tr style=\"text-align: right;\">\n",
       "      <th>income_group</th>\n",
       "      <th>High</th>\n",
       "      <th>Low</th>\n",
       "      <th>Middle</th>\n",
       "    </tr>\n",
       "    <tr>\n",
       "      <th>spend_flag</th>\n",
       "      <th></th>\n",
       "      <th></th>\n",
       "      <th></th>\n",
       "    </tr>\n",
       "  </thead>\n",
       "  <tbody>\n",
       "    <tr>\n",
       "      <th>High_spender</th>\n",
       "      <td>78922</td>\n",
       "      <td>0</td>\n",
       "      <td>10536</td>\n",
       "    </tr>\n",
       "    <tr>\n",
       "      <th>Low_spender</th>\n",
       "      <td>8291229</td>\n",
       "      <td>5475104</td>\n",
       "      <td>15068447</td>\n",
       "    </tr>\n",
       "    <tr>\n",
       "      <th>Regular_spender</th>\n",
       "      <td>306655</td>\n",
       "      <td>0</td>\n",
       "      <td>40045</td>\n",
       "    </tr>\n",
       "  </tbody>\n",
       "</table>\n",
       "</div>"
      ],
      "text/plain": [
       "income_group        High      Low    Middle\n",
       "spend_flag                                 \n",
       "High_spender       78922        0     10536\n",
       "Low_spender      8291229  5475104  15068447\n",
       "Regular_spender   306655        0     40045"
      ]
     },
     "execution_count": 33,
     "metadata": {},
     "output_type": "execute_result"
    }
   ],
   "source": [
    "crosstab_spend_income_group"
   ]
  },
  {
   "cell_type": "code",
   "execution_count": 38,
   "id": "e3b84966",
   "metadata": {
    "scrolled": true
   },
   "outputs": [
    {
     "data": {
      "image/png": "[encoded data removed]",
      "text/plain": [
       "<Figure size 600x300 with 1 Axes>"
      ]
     },
     "metadata": {},
     "output_type": "display_data"
    },
    {
     "data": {
      "text/plain": [
       "<Figure size 640x480 with 0 Axes>"
      ]
     },
     "metadata": {},
     "output_type": "display_data"
    }
   ],
   "source": [
    "# Sort the DataFrame by total spend across income groups\n",
    "crosstab_spend_income_group_sorted = crosstab_spend_income_group.sum(axis=1).sort_values()\n",
    "crosstab_spend_income_group_sorted = crosstab_spend_income_group.loc[crosstab_spend_income_group_sorted.index]\n",
    "\n",
    "# Plot stacked bar chart horizontally\n",
    "colors = ['dodgerblue', 'lightskyblue', 'royalblue']\n",
    "ax = crosstab_spend_income_group_sorted.plot(kind='barh', stacked=True, figsize=(6, 3), color=colors)  # specify figsize for horizontal chart\n",
    "plt.title('Spending Habits by Income Group')\n",
    "plt.xlabel('Spend')\n",
    "plt.ylabel('Spender')\n",
    "\n",
    "# Move legend to the bottom right\n",
    "plt.legend(loc='lower right', bbox_to_anchor=(1, 0), title='Legend')\n",
    "\n",
    "plt.show()\n",
    "\n",
    "# Save the plot before displaying it\n",
    "plt.savefig(os.path.join(path, '04 Analysis', 'Visualizations', 'stacked_spend_income_group.png'))"
   ]
  },
  {
   "cell_type": "code",
   "execution_count": 35,
   "id": "c0b35e95",
   "metadata": {},
   "outputs": [],
   "source": [
    "# What time of the day do patrons order the most?\n",
    "crosstab_spend_hour = pd.crosstab(df_exclusion['order_hour_of_day'], df_exclusion['price_range_loc'], dropna = False)"
   ]
  },
  {
   "cell_type": "code",
   "execution_count": 42,
   "id": "6ff803d2",
   "metadata": {},
   "outputs": [],
   "source": [
    "crosstab_spend_hour.to_clipboard()"
   ]
  },
  {
   "cell_type": "code",
   "execution_count": 43,
   "id": "36c54fab",
   "metadata": {},
   "outputs": [
    {
     "data": {
      "text/html": [
       "<div>\n",
       "<style scoped>\n",
       "    .dataframe tbody tr th:only-of-type {\n",
       "        vertical-align: middle;\n",
       "    }\n",
       "\n",
       "    .dataframe tbody tr th {\n",
       "        vertical-align: top;\n",
       "    }\n",
       "\n",
       "    .dataframe thead th {\n",
       "        text-align: right;\n",
       "    }\n",
       "</style>\n",
       "<table border=\"1\" class=\"dataframe\">\n",
       "  <thead>\n",
       "    <tr style=\"text-align: right;\">\n",
       "      <th>price_range_loc</th>\n",
       "      <th>High Price Range</th>\n",
       "      <th>Low Price Range</th>\n",
       "      <th>Mid Price Range</th>\n",
       "    </tr>\n",
       "    <tr>\n",
       "      <th>order_hour_of_day</th>\n",
       "      <th></th>\n",
       "      <th></th>\n",
       "      <th></th>\n",
       "    </tr>\n",
       "  </thead>\n",
       "  <tbody>\n",
       "    <tr>\n",
       "      <th>0</th>\n",
       "      <td>2487</td>\n",
       "      <td>105997</td>\n",
       "      <td>88008</td>\n",
       "    </tr>\n",
       "    <tr>\n",
       "      <th>1</th>\n",
       "      <td>1271</td>\n",
       "      <td>55845</td>\n",
       "      <td>46356</td>\n",
       "    </tr>\n",
       "    <tr>\n",
       "      <th>2</th>\n",
       "      <td>827</td>\n",
       "      <td>33362</td>\n",
       "      <td>27486</td>\n",
       "    </tr>\n",
       "    <tr>\n",
       "      <th>3</th>\n",
       "      <td>561</td>\n",
       "      <td>24410</td>\n",
       "      <td>20435</td>\n",
       "    </tr>\n",
       "    <tr>\n",
       "      <th>4</th>\n",
       "      <td>611</td>\n",
       "      <td>25295</td>\n",
       "      <td>21169</td>\n",
       "    </tr>\n",
       "    <tr>\n",
       "      <th>5</th>\n",
       "      <td>958</td>\n",
       "      <td>42826</td>\n",
       "      <td>36081</td>\n",
       "    </tr>\n",
       "    <tr>\n",
       "      <th>6</th>\n",
       "      <td>3449</td>\n",
       "      <td>143543</td>\n",
       "      <td>119037</td>\n",
       "    </tr>\n",
       "    <tr>\n",
       "      <th>7</th>\n",
       "      <td>10724</td>\n",
       "      <td>439440</td>\n",
       "      <td>365081</td>\n",
       "    </tr>\n",
       "    <tr>\n",
       "      <th>8</th>\n",
       "      <td>20006</td>\n",
       "      <td>850466</td>\n",
       "      <td>697875</td>\n",
       "    </tr>\n",
       "    <tr>\n",
       "      <th>9</th>\n",
       "      <td>26842</td>\n",
       "      <td>1222237</td>\n",
       "      <td>986152</td>\n",
       "    </tr>\n",
       "    <tr>\n",
       "      <th>10</th>\n",
       "      <td>30580</td>\n",
       "      <td>1371436</td>\n",
       "      <td>1101907</td>\n",
       "    </tr>\n",
       "    <tr>\n",
       "      <th>11</th>\n",
       "      <td>31986</td>\n",
       "      <td>1350317</td>\n",
       "      <td>1088964</td>\n",
       "    </tr>\n",
       "    <tr>\n",
       "      <th>12</th>\n",
       "      <td>31174</td>\n",
       "      <td>1283829</td>\n",
       "      <td>1043256</td>\n",
       "    </tr>\n",
       "    <tr>\n",
       "      <th>13</th>\n",
       "      <td>31591</td>\n",
       "      <td>1307560</td>\n",
       "      <td>1063623</td>\n",
       "    </tr>\n",
       "    <tr>\n",
       "      <th>14</th>\n",
       "      <td>31871</td>\n",
       "      <td>1319462</td>\n",
       "      <td>1077665</td>\n",
       "    </tr>\n",
       "    <tr>\n",
       "      <th>15</th>\n",
       "      <td>31872</td>\n",
       "      <td>1301977</td>\n",
       "      <td>1066099</td>\n",
       "    </tr>\n",
       "    <tr>\n",
       "      <th>16</th>\n",
       "      <td>30246</td>\n",
       "      <td>1240162</td>\n",
       "      <td>1013193</td>\n",
       "    </tr>\n",
       "    <tr>\n",
       "      <th>17</th>\n",
       "      <td>24300</td>\n",
       "      <td>1015033</td>\n",
       "      <td>835560</td>\n",
       "    </tr>\n",
       "    <tr>\n",
       "      <th>18</th>\n",
       "      <td>19085</td>\n",
       "      <td>791365</td>\n",
       "      <td>653161</td>\n",
       "    </tr>\n",
       "    <tr>\n",
       "      <th>19</th>\n",
       "      <td>14069</td>\n",
       "      <td>611833</td>\n",
       "      <td>503047</td>\n",
       "    </tr>\n",
       "    <tr>\n",
       "      <th>20</th>\n",
       "      <td>11110</td>\n",
       "      <td>476039</td>\n",
       "      <td>391449</td>\n",
       "    </tr>\n",
       "    <tr>\n",
       "      <th>21</th>\n",
       "      <td>9359</td>\n",
       "      <td>391012</td>\n",
       "      <td>321501</td>\n",
       "    </tr>\n",
       "    <tr>\n",
       "      <th>22</th>\n",
       "      <td>7288</td>\n",
       "      <td>310134</td>\n",
       "      <td>255890</td>\n",
       "    </tr>\n",
       "    <tr>\n",
       "      <th>23</th>\n",
       "      <td>4604</td>\n",
       "      <td>196492</td>\n",
       "      <td>161000</td>\n",
       "    </tr>\n",
       "  </tbody>\n",
       "</table>\n",
       "</div>"
      ],
      "text/plain": [
       "price_range_loc    High Price Range  Low Price Range  Mid Price Range\n",
       "order_hour_of_day                                                    \n",
       "0                              2487           105997            88008\n",
       "1                              1271            55845            46356\n",
       "2                               827            33362            27486\n",
       "3                               561            24410            20435\n",
       "4                               611            25295            21169\n",
       "5                               958            42826            36081\n",
       "6                              3449           143543           119037\n",
       "7                             10724           439440           365081\n",
       "8                             20006           850466           697875\n",
       "9                             26842          1222237           986152\n",
       "10                            30580          1371436          1101907\n",
       "11                            31986          1350317          1088964\n",
       "12                            31174          1283829          1043256\n",
       "13                            31591          1307560          1063623\n",
       "14                            31871          1319462          1077665\n",
       "15                            31872          1301977          1066099\n",
       "16                            30246          1240162          1013193\n",
       "17                            24300          1015033           835560\n",
       "18                            19085           791365           653161\n",
       "19                            14069           611833           503047\n",
       "20                            11110           476039           391449\n",
       "21                             9359           391012           321501\n",
       "22                             7288           310134           255890\n",
       "23                             4604           196492           161000"
      ]
     },
     "execution_count": 43,
     "metadata": {},
     "output_type": "execute_result"
    }
   ],
   "source": [
    "crosstab_spend_hour"
   ]
  },
  {
   "cell_type": "code",
   "execution_count": 44,
   "id": "5f0a21d7",
   "metadata": {},
   "outputs": [
    {
     "data": {
      "image/png": "[encoded data removed]",
      "text/plain": [
       "<Figure size 1200x600 with 1 Axes>"
      ]
     },
     "metadata": {},
     "output_type": "display_data"
    }
   ],
   "source": [
    "# Plot stacked bar chart\n",
    "colors = ['limegreen', 'deepskyblue', 'slateblue']\n",
    "ax = crosstab_spend_hour.plot(kind='bar', stacked=True, figsize=(12, 6), color=colors)\n",
    "\n",
    "# Define new labels for x-axis\n",
    "new_x_labels_time = ['12', '1', '2', '3', '4', '5', '6', '7', '8', '9', '10', '11', '12', '1', '2', '3', '4', '5', '6', '7', '8', '9', '10', '11']\n",
    "# Set new x-axis labels\n",
    "ax.set_xticklabels(new_x_labels_time)\n",
    "\n",
    "plt.title('Hourly Order by Price Range')\n",
    "plt.xlabel('Hour of Day')\n",
    "plt.ylabel('Order Count')\n",
    "\n",
    "# Save the plot before displaying it\n",
    "plt.savefig(os.path.join(path, '04 Analysis', 'Visualizations', 'stacked_spend_hour.png'))\n",
    "plt.show()"
   ]
  },
  {
   "cell_type": "code",
   "execution_count": 45,
   "id": "abdfff17",
   "metadata": {},
   "outputs": [],
   "source": [
    "# Determine Patron's spending habits by region\n",
    "crosstab_spend_region = pd.crosstab(df_exclusion['region'], df_exclusion['spend_flag'], dropna = False)"
   ]
  },
  {
   "cell_type": "code",
   "execution_count": 46,
   "id": "207bfac7",
   "metadata": {},
   "outputs": [],
   "source": [
    "crosstab.to_clipboard()"
   ]
  },
  {
   "cell_type": "code",
   "execution_count": 47,
   "id": "eaf819cf",
   "metadata": {},
   "outputs": [
    {
     "data": {
      "text/html": [
       "<div>\n",
       "<style scoped>\n",
       "    .dataframe tbody tr th:only-of-type {\n",
       "        vertical-align: middle;\n",
       "    }\n",
       "\n",
       "    .dataframe tbody tr th {\n",
       "        vertical-align: top;\n",
       "    }\n",
       "\n",
       "    .dataframe thead th {\n",
       "        text-align: right;\n",
       "    }\n",
       "</style>\n",
       "<table border=\"1\" class=\"dataframe\">\n",
       "  <thead>\n",
       "    <tr style=\"text-align: right;\">\n",
       "      <th>spend_flag</th>\n",
       "      <th>High_spender</th>\n",
       "      <th>Low_spender</th>\n",
       "      <th>Regular_spender</th>\n",
       "    </tr>\n",
       "    <tr>\n",
       "      <th>region</th>\n",
       "      <th></th>\n",
       "      <th></th>\n",
       "      <th></th>\n",
       "    </tr>\n",
       "  </thead>\n",
       "  <tbody>\n",
       "    <tr>\n",
       "      <th>Midwest</th>\n",
       "      <td>21587</td>\n",
       "      <td>6751635</td>\n",
       "      <td>86633</td>\n",
       "    </tr>\n",
       "    <tr>\n",
       "      <th>Northeast</th>\n",
       "      <td>15801</td>\n",
       "      <td>5103743</td>\n",
       "      <td>58500</td>\n",
       "    </tr>\n",
       "    <tr>\n",
       "      <th>South</th>\n",
       "      <td>30799</td>\n",
       "      <td>9601287</td>\n",
       "      <td>114844</td>\n",
       "    </tr>\n",
       "    <tr>\n",
       "      <th>West</th>\n",
       "      <td>21271</td>\n",
       "      <td>7378115</td>\n",
       "      <td>86723</td>\n",
       "    </tr>\n",
       "  </tbody>\n",
       "</table>\n",
       "</div>"
      ],
      "text/plain": [
       "spend_flag  High_spender  Low_spender  Regular_spender\n",
       "region                                                \n",
       "Midwest            21587      6751635            86633\n",
       "Northeast          15801      5103743            58500\n",
       "South              30799      9601287           114844\n",
       "West               21271      7378115            86723"
      ]
     },
     "execution_count": 47,
     "metadata": {},
     "output_type": "execute_result"
    }
   ],
   "source": [
    "crosstab_spend_region"
   ]
  },
  {
   "cell_type": "code",
   "execution_count": 48,
   "id": "4bc35d22",
   "metadata": {
    "scrolled": true
   },
   "outputs": [
    {
     "data": {
      "image/png": "[encoded data removed]",
      "text/plain": [
       "<Figure size 1200x600 with 1 Axes>"
      ]
     },
     "metadata": {},
     "output_type": "display_data"
    }
   ],
   "source": [
    "# Sort the DataFrame by total spend across regions\n",
    "sorted_df = crosstab_spend_region.sum(axis=1).sort_values(ascending=False)\n",
    "sorted_df = crosstab_spend_region.loc[sorted_df.index]\n",
    "\n",
    "# Plot stacked bar chart\n",
    "sorted_df.plot(kind='bar', stacked=True, figsize=(12, 6), color=colors)\n",
    "plt.title('Spending Habits by Region')\n",
    "plt.xlabel('region')\n",
    "plt.ylabel('spend')\n",
    "\n",
    "# Save the plot before displaying it\n",
    "plt.savefig(os.path.join(path, '04 Analysis', 'Visualizations', 'stacked_spend_region.png'))"
   ]
  },
  {
   "cell_type": "code",
   "execution_count": 49,
   "id": "dc67b8f2",
   "metadata": {},
   "outputs": [
    {
     "data": {
      "text/plain": [
       "age_group\n",
       "Adult          13778563\n",
       "Senior          9998947\n",
       "Young Adult     3650672\n",
       "Youth           1842756\n",
       "Name: count, dtype: int64"
      ]
     },
     "execution_count": 49,
     "metadata": {},
     "output_type": "execute_result"
    }
   ],
   "source": [
    "# by Age_group\n",
    "df_exclusion['age_group'].value_counts(dropna = False)"
   ]
  },
  {
   "cell_type": "code",
   "execution_count": 50,
   "id": "2ca66796",
   "metadata": {},
   "outputs": [
    {
     "data": {
      "text/plain": [
       "fam_status\n",
       "married                             20553278\n",
       "single                               4801897\n",
       "divorced/widowed                     2510623\n",
       "living with parents and siblings     1405140\n",
       "Name: count, dtype: int64"
      ]
     },
     "execution_count": 50,
     "metadata": {},
     "output_type": "execute_result"
    }
   ],
   "source": [
    "# by family status\n",
    "df_exclusion['fam_status'].value_counts(dropna = False)"
   ]
  },
  {
   "cell_type": "code",
   "execution_count": 51,
   "id": "5bc19c73",
   "metadata": {},
   "outputs": [
    {
     "data": {
      "text/plain": [
       "n_dependants\n",
       "3    7338095\n",
       "2    7318645\n",
       "0    7312520\n",
       "1    7301678\n",
       "Name: count, dtype: int64"
      ]
     },
     "execution_count": 51,
     "metadata": {},
     "output_type": "execute_result"
    }
   ],
   "source": [
    "# by Number of dependents\n",
    "df_exclusion['n_dependants'].value_counts(dropna = False)"
   ]
  },
  {
   "cell_type": "code",
   "execution_count": 52,
   "id": "565d49fd",
   "metadata": {},
   "outputs": [
    {
     "data": {
      "text/plain": [
       "region\n",
       "South        9746930\n",
       "West         7486109\n",
       "Midwest      6859855\n",
       "Northeast    5178044\n",
       "Name: count, dtype: int64"
      ]
     },
     "execution_count": 52,
     "metadata": {},
     "output_type": "execute_result"
    }
   ],
   "source": [
    "# by Region\n",
    "df_exclusion['region'].value_counts(dropna = False)"
   ]
  },
  {
   "cell_type": "code",
   "execution_count": 53,
   "id": "cd08d6a2",
   "metadata": {},
   "outputs": [
    {
     "data": {
      "text/plain": [
       "spend_flag\n",
       "Low_spender        28834780\n",
       "Regular_spender      346700\n",
       "High_spender          89458\n",
       "Name: count, dtype: int64"
      ]
     },
     "execution_count": 53,
     "metadata": {},
     "output_type": "execute_result"
    }
   ],
   "source": [
    "# by spend flag\n",
    "df_exclusion['spend_flag'].value_counts(dropna = False)"
   ]
  },
  {
   "cell_type": "code",
   "execution_count": 54,
   "id": "33dd05fa",
   "metadata": {},
   "outputs": [
    {
     "data": {
      "text/plain": [
       "orders_day_of_week\n",
       "0    5585707\n",
       "1    5120353\n",
       "6    4053682\n",
       "5    3813720\n",
       "2    3805426\n",
       "3    3466482\n",
       "4    3425568\n",
       "Name: count, dtype: int64"
      ]
     },
     "execution_count": 54,
     "metadata": {},
     "output_type": "execute_result"
    }
   ],
   "source": [
    "# by day of the week, Saturday is day 0\n",
    "df_exclusion['orders_day_of_week'].value_counts(dropna = False)"
   ]
  },
  {
   "cell_type": "code",
   "execution_count": 55,
   "id": "40bcf10e",
   "metadata": {},
   "outputs": [
    {
     "data": {
      "text/plain": [
       "order_hour_of_day\n",
       "10    2503923\n",
       "11    2471267\n",
       "14    2428998\n",
       "13    2402774\n",
       "15    2399948\n",
       "12    2358259\n",
       "16    2283601\n",
       "9     2235231\n",
       "17    1874893\n",
       "8     1568347\n",
       "18    1463611\n",
       "19    1128949\n",
       "20     878598\n",
       "7      815245\n",
       "21     721872\n",
       "22     573312\n",
       "23     362096\n",
       "6      266029\n",
       "0      196492\n",
       "1      103472\n",
       "5       79865\n",
       "2       61675\n",
       "4       47075\n",
       "3       45406\n",
       "Name: count, dtype: int64"
      ]
     },
     "execution_count": 55,
     "metadata": {},
     "output_type": "execute_result"
    }
   ],
   "source": [
    "# by order_hour_of_day\n",
    "df_exclusion['order_hour_of_day'].value_counts(dropna = False)"
   ]
  },
  {
   "cell_type": "code",
   "execution_count": 56,
   "id": "125dab85",
   "metadata": {},
   "outputs": [
    {
     "data": {
      "text/plain": [
       "department_id\n",
       "4     8586351\n",
       "16    4892140\n",
       "19    2616075\n",
       "7     2430657\n",
       "1     2006425\n",
       "13    1683753\n",
       "3     1059826\n",
       "15     956832\n",
       "20     948799\n",
       "9      777804\n",
       "17     660042\n",
       "12     639068\n",
       "14     632755\n",
       "11     399661\n",
       "18     387739\n",
       "6      242099\n",
       "5      137942\n",
       "8       87853\n",
       "21      61282\n",
       "2       32275\n",
       "10      31560\n",
       "Name: count, dtype: int64"
      ]
     },
     "execution_count": 56,
     "metadata": {},
     "output_type": "execute_result"
    }
   ],
   "source": [
    "# by department_id  \n",
    "df_exclusion['department_id'].value_counts(dropna = False)"
   ]
  },
  {
   "cell_type": "code",
   "execution_count": 57,
   "id": "7e0300c7",
   "metadata": {},
   "outputs": [
    {
     "data": {
      "text/plain": [
       "price_range_loc\n",
       "Low Price Range     15910072\n",
       "Mid Price Range     12983995\n",
       "High Price Range      376871\n",
       "Name: count, dtype: int64"
      ]
     },
     "execution_count": 57,
     "metadata": {},
     "output_type": "execute_result"
    }
   ],
   "source": [
    "# by price_range_loc\n",
    "df_exclusion['price_range_loc'].value_counts(dropna = False)"
   ]
  },
  {
   "cell_type": "code",
   "execution_count": 58,
   "id": "e73d9936",
   "metadata": {},
   "outputs": [
    {
     "data": {
      "text/plain": [
       "busiest_day\n",
       "Regularly busy    20259663\n",
       "Busiest day        5585707\n",
       "Slowest day        3425568\n",
       "Name: count, dtype: int64"
      ]
     },
     "execution_count": 58,
     "metadata": {},
     "output_type": "execute_result"
    }
   ],
   "source": [
    "# by busiest day\n",
    "df_exclusion['busiest_day'].value_counts(dropna = False)"
   ]
  },
  {
   "cell_type": "code",
   "execution_count": 59,
   "id": "f8cffc7e",
   "metadata": {},
   "outputs": [
    {
     "data": {
      "text/plain": [
       "busiest_days\n",
       "Regularly busy    11672828\n",
       "Busiest days      10706060\n",
       "Slowest days       6892050\n",
       "Name: count, dtype: int64"
      ]
     },
     "execution_count": 59,
     "metadata": {},
     "output_type": "execute_result"
    }
   ],
   "source": [
    "# by busiest days\n",
    "df_exclusion['busiest_days'].value_counts(dropna = False)"
   ]
  },
  {
   "cell_type": "code",
   "execution_count": 60,
   "id": "3c3edbf5",
   "metadata": {},
   "outputs": [
    {
     "data": {
      "text/plain": [
       "loyalty_flag\n",
       "Loyal customer      13410522\n",
       "Regular customer    11317058\n",
       "New customer         4543358\n",
       "Name: count, dtype: int64"
      ]
     },
     "execution_count": 60,
     "metadata": {},
     "output_type": "execute_result"
    }
   ],
   "source": [
    "# by loyalty_flag\n",
    "df_exclusion['loyalty_flag'].value_counts(dropna = False)"
   ]
  },
  {
   "cell_type": "code",
   "execution_count": 61,
   "id": "f7abd0d5",
   "metadata": {},
   "outputs": [
    {
     "data": {
      "text/plain": [
       "frequency_flag\n",
       "Frequent customer        20026966\n",
       "Regular customer          6501809\n",
       "Non-Frequent customer     2742163\n",
       "Name: count, dtype: int64"
      ]
     },
     "execution_count": 61,
     "metadata": {},
     "output_type": "execute_result"
    }
   ],
   "source": [
    "# by frequency_flag\n",
    "df_exclusion['frequency_flag'].value_counts(dropna = False)"
   ]
  },
  {
   "cell_type": "code",
   "execution_count": 62,
   "id": "123e3c3b",
   "metadata": {},
   "outputs": [
    {
     "data": {
      "text/plain": [
       "income_group\n",
       "Middle    15119028\n",
       "High       8676806\n",
       "Low        5475104\n",
       "Name: count, dtype: int64"
      ]
     },
     "execution_count": 62,
     "metadata": {},
     "output_type": "execute_result"
    }
   ],
   "source": [
    "# by income_group\n",
    "df_exclusion['income_group'].value_counts(dropna = False)"
   ]
  },
  {
   "cell_type": "code",
   "execution_count": 63,
   "id": "8cae4f90",
   "metadata": {},
   "outputs": [],
   "source": [
    "# Determine the frequency of orders by family status\n",
    "crosstab_frequency = pd.crosstab(df_exclusion['frequency_flag'], df_exclusion['fam_status'], dropna = False)"
   ]
  },
  {
   "cell_type": "code",
   "execution_count": 64,
   "id": "8e091428",
   "metadata": {},
   "outputs": [],
   "source": [
    "crosstab_frequency.to_clipboard()"
   ]
  },
  {
   "cell_type": "code",
   "execution_count": 65,
   "id": "30cc0235",
   "metadata": {},
   "outputs": [
    {
     "data": {
      "text/html": [
       "<div>\n",
       "<style scoped>\n",
       "    .dataframe tbody tr th:only-of-type {\n",
       "        vertical-align: middle;\n",
       "    }\n",
       "\n",
       "    .dataframe tbody tr th {\n",
       "        vertical-align: top;\n",
       "    }\n",
       "\n",
       "    .dataframe thead th {\n",
       "        text-align: right;\n",
       "    }\n",
       "</style>\n",
       "<table border=\"1\" class=\"dataframe\">\n",
       "  <thead>\n",
       "    <tr style=\"text-align: right;\">\n",
       "      <th>fam_status</th>\n",
       "      <th>divorced/widowed</th>\n",
       "      <th>living with parents and siblings</th>\n",
       "      <th>married</th>\n",
       "      <th>single</th>\n",
       "    </tr>\n",
       "    <tr>\n",
       "      <th>frequency_flag</th>\n",
       "      <th></th>\n",
       "      <th></th>\n",
       "      <th></th>\n",
       "      <th></th>\n",
       "    </tr>\n",
       "  </thead>\n",
       "  <tbody>\n",
       "    <tr>\n",
       "      <th>Frequent customer</th>\n",
       "      <td>1730463</td>\n",
       "      <td>976876</td>\n",
       "      <td>14060191</td>\n",
       "      <td>3259436</td>\n",
       "    </tr>\n",
       "    <tr>\n",
       "      <th>Non-Frequent customer</th>\n",
       "      <td>228254</td>\n",
       "      <td>131548</td>\n",
       "      <td>1932355</td>\n",
       "      <td>450006</td>\n",
       "    </tr>\n",
       "    <tr>\n",
       "      <th>Regular customer</th>\n",
       "      <td>551906</td>\n",
       "      <td>296716</td>\n",
       "      <td>4560732</td>\n",
       "      <td>1092455</td>\n",
       "    </tr>\n",
       "  </tbody>\n",
       "</table>\n",
       "</div>"
      ],
      "text/plain": [
       "fam_status             divorced/widowed  living with parents and siblings  \\\n",
       "frequency_flag                                                              \n",
       "Frequent customer               1730463                            976876   \n",
       "Non-Frequent customer            228254                            131548   \n",
       "Regular customer                 551906                            296716   \n",
       "\n",
       "fam_status              married   single  \n",
       "frequency_flag                            \n",
       "Frequent customer      14060191  3259436  \n",
       "Non-Frequent customer   1932355   450006  \n",
       "Regular customer        4560732  1092455  "
      ]
     },
     "execution_count": 65,
     "metadata": {},
     "output_type": "execute_result"
    }
   ],
   "source": [
    "crosstab_frequency"
   ]
  },
  {
   "cell_type": "code",
   "execution_count": 66,
   "id": "02540dbc",
   "metadata": {},
   "outputs": [],
   "source": [
    "# Determine shopping habits by fam_status, by orders_day_of_week \n",
    "crosstab_pref_day = pd.crosstab(df_exclusion['orders_day_of_week'], df_exclusion['fam_status'], dropna = False)"
   ]
  },
  {
   "cell_type": "code",
   "execution_count": 67,
   "id": "e9a872a1",
   "metadata": {},
   "outputs": [],
   "source": [
    "crosstab_pref_day.to_clipboard()"
   ]
  },
  {
   "cell_type": "code",
   "execution_count": 68,
   "id": "ef3eea46",
   "metadata": {
    "scrolled": true
   },
   "outputs": [
    {
     "data": {
      "text/html": [
       "<div>\n",
       "<style scoped>\n",
       "    .dataframe tbody tr th:only-of-type {\n",
       "        vertical-align: middle;\n",
       "    }\n",
       "\n",
       "    .dataframe tbody tr th {\n",
       "        vertical-align: top;\n",
       "    }\n",
       "\n",
       "    .dataframe thead th {\n",
       "        text-align: right;\n",
       "    }\n",
       "</style>\n",
       "<table border=\"1\" class=\"dataframe\">\n",
       "  <thead>\n",
       "    <tr style=\"text-align: right;\">\n",
       "      <th>fam_status</th>\n",
       "      <th>divorced/widowed</th>\n",
       "      <th>living with parents and siblings</th>\n",
       "      <th>married</th>\n",
       "      <th>single</th>\n",
       "    </tr>\n",
       "    <tr>\n",
       "      <th>orders_day_of_week</th>\n",
       "      <th></th>\n",
       "      <th></th>\n",
       "      <th></th>\n",
       "      <th></th>\n",
       "    </tr>\n",
       "  </thead>\n",
       "  <tbody>\n",
       "    <tr>\n",
       "      <th>0</th>\n",
       "      <td>475927</td>\n",
       "      <td>266323</td>\n",
       "      <td>3925400</td>\n",
       "      <td>918057</td>\n",
       "    </tr>\n",
       "    <tr>\n",
       "      <th>1</th>\n",
       "      <td>437024</td>\n",
       "      <td>247740</td>\n",
       "      <td>3583664</td>\n",
       "      <td>851925</td>\n",
       "    </tr>\n",
       "    <tr>\n",
       "      <th>2</th>\n",
       "      <td>325440</td>\n",
       "      <td>182347</td>\n",
       "      <td>2675790</td>\n",
       "      <td>621849</td>\n",
       "    </tr>\n",
       "    <tr>\n",
       "      <th>3</th>\n",
       "      <td>298590</td>\n",
       "      <td>165291</td>\n",
       "      <td>2434429</td>\n",
       "      <td>568172</td>\n",
       "    </tr>\n",
       "    <tr>\n",
       "      <th>4</th>\n",
       "      <td>291364</td>\n",
       "      <td>163853</td>\n",
       "      <td>2405329</td>\n",
       "      <td>565022</td>\n",
       "    </tr>\n",
       "    <tr>\n",
       "      <th>5</th>\n",
       "      <td>332025</td>\n",
       "      <td>185145</td>\n",
       "      <td>2670899</td>\n",
       "      <td>625651</td>\n",
       "    </tr>\n",
       "    <tr>\n",
       "      <th>6</th>\n",
       "      <td>350253</td>\n",
       "      <td>194441</td>\n",
       "      <td>2857767</td>\n",
       "      <td>651221</td>\n",
       "    </tr>\n",
       "  </tbody>\n",
       "</table>\n",
       "</div>"
      ],
      "text/plain": [
       "fam_status          divorced/widowed  living with parents and siblings  \\\n",
       "orders_day_of_week                                                       \n",
       "0                             475927                            266323   \n",
       "1                             437024                            247740   \n",
       "2                             325440                            182347   \n",
       "3                             298590                            165291   \n",
       "4                             291364                            163853   \n",
       "5                             332025                            185145   \n",
       "6                             350253                            194441   \n",
       "\n",
       "fam_status          married  single  \n",
       "orders_day_of_week                   \n",
       "0                   3925400  918057  \n",
       "1                   3583664  851925  \n",
       "2                   2675790  621849  \n",
       "3                   2434429  568172  \n",
       "4                   2405329  565022  \n",
       "5                   2670899  625651  \n",
       "6                   2857767  651221  "
      ]
     },
     "execution_count": 68,
     "metadata": {},
     "output_type": "execute_result"
    }
   ],
   "source": [
    "crosstab_pref_day"
   ]
  },
  {
   "cell_type": "code",
   "execution_count": 69,
   "id": "43ebb719",
   "metadata": {},
   "outputs": [
    {
     "data": {
      "image/png": "[encoded data removed]",
      "text/plain": [
       "<Figure size 1000x800 with 1 Axes>"
      ]
     },
     "metadata": {},
     "output_type": "display_data"
    }
   ],
   "source": [
    "# Sort the DataFrame by the total frequency of orders in each price range\n",
    "crosstab_pref_day_sorted = crosstab_pref_day.sum(axis=1)\n",
    "crosstab_pref_day_sorted = crosstab_pref_day.loc[crosstab_pref_day_sorted.index]\n",
    "\n",
    "# Plot stacked bar chart with sorted DataFrame\n",
    "colors = ['deepskyblue', 'gold', 'royalblue', 'lavender']\n",
    "ax_pref_day = crosstab_pref_day_sorted.plot(kind='bar', stacked=True, figsize=(10, 8), color=colors)\n",
    "\n",
    "# Define new labels for x-axis\n",
    "new_x_labels = ['Saturday', 'Sunday', 'Monday', 'Tuesday', 'Wednesday', 'Thursday', 'Friday']  \n",
    "# Set new x-axis labels\n",
    "ax_pref_day.set_xticklabels(new_x_labels)\n",
    "\n",
    "# Set titles and labels\n",
    "plt.title('Orders by Day of the Week and Family Status')\n",
    "plt.xlabel('Day of Week')\n",
    "plt.ylabel('Count')\n",
    "plt.legend(title='Family Status')\n",
    "plt.tight_layout()  # Adjust layout to prevent clipping of labels\n",
    "\n",
    "# Save the plot before displaying it\n",
    "plt.savefig(os.path.join(path, '04 Analysis', 'Visualizations', 'stacked_pref_day.png'))\n"
   ]
  },
  {
   "cell_type": "code",
   "execution_count": 70,
   "id": "02ff330f",
   "metadata": {},
   "outputs": [],
   "source": [
    "# Determine shopping habits by fam_status, by order_hour_of_day \n",
    "crosstab_pref_hour = pd.crosstab(df_exclusion['order_hour_of_day'], df_exclusion['fam_status'], dropna = False)"
   ]
  },
  {
   "cell_type": "code",
   "execution_count": 71,
   "id": "9d821e39",
   "metadata": {},
   "outputs": [],
   "source": [
    "crosstab_pref_hour.to_clipboard()"
   ]
  },
  {
   "cell_type": "code",
   "execution_count": 72,
   "id": "4f0a8d7d",
   "metadata": {},
   "outputs": [
    {
     "data": {
      "text/html": [
       "<div>\n",
       "<style scoped>\n",
       "    .dataframe tbody tr th:only-of-type {\n",
       "        vertical-align: middle;\n",
       "    }\n",
       "\n",
       "    .dataframe tbody tr th {\n",
       "        vertical-align: top;\n",
       "    }\n",
       "\n",
       "    .dataframe thead th {\n",
       "        text-align: right;\n",
       "    }\n",
       "</style>\n",
       "<table border=\"1\" class=\"dataframe\">\n",
       "  <thead>\n",
       "    <tr style=\"text-align: right;\">\n",
       "      <th>fam_status</th>\n",
       "      <th>divorced/widowed</th>\n",
       "      <th>living with parents and siblings</th>\n",
       "      <th>married</th>\n",
       "      <th>single</th>\n",
       "    </tr>\n",
       "    <tr>\n",
       "      <th>order_hour_of_day</th>\n",
       "      <th></th>\n",
       "      <th></th>\n",
       "      <th></th>\n",
       "      <th></th>\n",
       "    </tr>\n",
       "  </thead>\n",
       "  <tbody>\n",
       "    <tr>\n",
       "      <th>0</th>\n",
       "      <td>15094</td>\n",
       "      <td>10139</td>\n",
       "      <td>138040</td>\n",
       "      <td>33219</td>\n",
       "    </tr>\n",
       "    <tr>\n",
       "      <th>1</th>\n",
       "      <td>8068</td>\n",
       "      <td>5257</td>\n",
       "      <td>73032</td>\n",
       "      <td>17115</td>\n",
       "    </tr>\n",
       "    <tr>\n",
       "      <th>2</th>\n",
       "      <td>5691</td>\n",
       "      <td>3278</td>\n",
       "      <td>42686</td>\n",
       "      <td>10020</td>\n",
       "    </tr>\n",
       "    <tr>\n",
       "      <th>3</th>\n",
       "      <td>4127</td>\n",
       "      <td>2388</td>\n",
       "      <td>31306</td>\n",
       "      <td>7585</td>\n",
       "    </tr>\n",
       "    <tr>\n",
       "      <th>4</th>\n",
       "      <td>3707</td>\n",
       "      <td>2637</td>\n",
       "      <td>33123</td>\n",
       "      <td>7608</td>\n",
       "    </tr>\n",
       "    <tr>\n",
       "      <th>5</th>\n",
       "      <td>7233</td>\n",
       "      <td>4040</td>\n",
       "      <td>55917</td>\n",
       "      <td>12675</td>\n",
       "    </tr>\n",
       "    <tr>\n",
       "      <th>6</th>\n",
       "      <td>22405</td>\n",
       "      <td>13831</td>\n",
       "      <td>185247</td>\n",
       "      <td>44546</td>\n",
       "    </tr>\n",
       "    <tr>\n",
       "      <th>7</th>\n",
       "      <td>73124</td>\n",
       "      <td>40044</td>\n",
       "      <td>568143</td>\n",
       "      <td>133934</td>\n",
       "    </tr>\n",
       "    <tr>\n",
       "      <th>8</th>\n",
       "      <td>135499</td>\n",
       "      <td>72050</td>\n",
       "      <td>1104116</td>\n",
       "      <td>256682</td>\n",
       "    </tr>\n",
       "    <tr>\n",
       "      <th>9</th>\n",
       "      <td>190474</td>\n",
       "      <td>104295</td>\n",
       "      <td>1573314</td>\n",
       "      <td>367148</td>\n",
       "    </tr>\n",
       "    <tr>\n",
       "      <th>10</th>\n",
       "      <td>213036</td>\n",
       "      <td>120277</td>\n",
       "      <td>1765486</td>\n",
       "      <td>405124</td>\n",
       "    </tr>\n",
       "    <tr>\n",
       "      <th>11</th>\n",
       "      <td>210456</td>\n",
       "      <td>118480</td>\n",
       "      <td>1737667</td>\n",
       "      <td>404664</td>\n",
       "    </tr>\n",
       "    <tr>\n",
       "      <th>12</th>\n",
       "      <td>202039</td>\n",
       "      <td>112872</td>\n",
       "      <td>1659063</td>\n",
       "      <td>384285</td>\n",
       "    </tr>\n",
       "    <tr>\n",
       "      <th>13</th>\n",
       "      <td>205145</td>\n",
       "      <td>116697</td>\n",
       "      <td>1689151</td>\n",
       "      <td>391781</td>\n",
       "    </tr>\n",
       "    <tr>\n",
       "      <th>14</th>\n",
       "      <td>207581</td>\n",
       "      <td>116801</td>\n",
       "      <td>1707174</td>\n",
       "      <td>397442</td>\n",
       "    </tr>\n",
       "    <tr>\n",
       "      <th>15</th>\n",
       "      <td>205365</td>\n",
       "      <td>115302</td>\n",
       "      <td>1682399</td>\n",
       "      <td>396882</td>\n",
       "    </tr>\n",
       "    <tr>\n",
       "      <th>16</th>\n",
       "      <td>197492</td>\n",
       "      <td>110471</td>\n",
       "      <td>1594764</td>\n",
       "      <td>380874</td>\n",
       "    </tr>\n",
       "    <tr>\n",
       "      <th>17</th>\n",
       "      <td>159489</td>\n",
       "      <td>90861</td>\n",
       "      <td>1315205</td>\n",
       "      <td>309338</td>\n",
       "    </tr>\n",
       "    <tr>\n",
       "      <th>18</th>\n",
       "      <td>123185</td>\n",
       "      <td>70824</td>\n",
       "      <td>1032084</td>\n",
       "      <td>237518</td>\n",
       "    </tr>\n",
       "    <tr>\n",
       "      <th>19</th>\n",
       "      <td>98928</td>\n",
       "      <td>55152</td>\n",
       "      <td>790766</td>\n",
       "      <td>184103</td>\n",
       "    </tr>\n",
       "    <tr>\n",
       "      <th>20</th>\n",
       "      <td>77465</td>\n",
       "      <td>41211</td>\n",
       "      <td>615090</td>\n",
       "      <td>144832</td>\n",
       "    </tr>\n",
       "    <tr>\n",
       "      <th>21</th>\n",
       "      <td>63570</td>\n",
       "      <td>33418</td>\n",
       "      <td>507300</td>\n",
       "      <td>117584</td>\n",
       "    </tr>\n",
       "    <tr>\n",
       "      <th>22</th>\n",
       "      <td>49610</td>\n",
       "      <td>27254</td>\n",
       "      <td>400431</td>\n",
       "      <td>96017</td>\n",
       "    </tr>\n",
       "    <tr>\n",
       "      <th>23</th>\n",
       "      <td>31840</td>\n",
       "      <td>17561</td>\n",
       "      <td>251774</td>\n",
       "      <td>60921</td>\n",
       "    </tr>\n",
       "  </tbody>\n",
       "</table>\n",
       "</div>"
      ],
      "text/plain": [
       "fam_status         divorced/widowed  living with parents and siblings  \\\n",
       "order_hour_of_day                                                       \n",
       "0                             15094                             10139   \n",
       "1                              8068                              5257   \n",
       "2                              5691                              3278   \n",
       "3                              4127                              2388   \n",
       "4                              3707                              2637   \n",
       "5                              7233                              4040   \n",
       "6                             22405                             13831   \n",
       "7                             73124                             40044   \n",
       "8                            135499                             72050   \n",
       "9                            190474                            104295   \n",
       "10                           213036                            120277   \n",
       "11                           210456                            118480   \n",
       "12                           202039                            112872   \n",
       "13                           205145                            116697   \n",
       "14                           207581                            116801   \n",
       "15                           205365                            115302   \n",
       "16                           197492                            110471   \n",
       "17                           159489                             90861   \n",
       "18                           123185                             70824   \n",
       "19                            98928                             55152   \n",
       "20                            77465                             41211   \n",
       "21                            63570                             33418   \n",
       "22                            49610                             27254   \n",
       "23                            31840                             17561   \n",
       "\n",
       "fam_status         married  single  \n",
       "order_hour_of_day                   \n",
       "0                   138040   33219  \n",
       "1                    73032   17115  \n",
       "2                    42686   10020  \n",
       "3                    31306    7585  \n",
       "4                    33123    7608  \n",
       "5                    55917   12675  \n",
       "6                   185247   44546  \n",
       "7                   568143  133934  \n",
       "8                  1104116  256682  \n",
       "9                  1573314  367148  \n",
       "10                 1765486  405124  \n",
       "11                 1737667  404664  \n",
       "12                 1659063  384285  \n",
       "13                 1689151  391781  \n",
       "14                 1707174  397442  \n",
       "15                 1682399  396882  \n",
       "16                 1594764  380874  \n",
       "17                 1315205  309338  \n",
       "18                 1032084  237518  \n",
       "19                  790766  184103  \n",
       "20                  615090  144832  \n",
       "21                  507300  117584  \n",
       "22                  400431   96017  \n",
       "23                  251774   60921  "
      ]
     },
     "execution_count": 72,
     "metadata": {},
     "output_type": "execute_result"
    }
   ],
   "source": [
    "crosstab_pref_hour"
   ]
  },
  {
   "cell_type": "code",
   "execution_count": 73,
   "id": "4cbe5997",
   "metadata": {},
   "outputs": [
    {
     "data": {
      "image/png": "[encoded data removed]",
      "text/plain": [
       "<Figure size 1200x600 with 1 Axes>"
      ]
     },
     "metadata": {},
     "output_type": "display_data"
    }
   ],
   "source": [
    "# Plot stacked bar chart\n",
    "colors = ['deepskyblue', 'gold', 'royalblue', 'lavender']\n",
    "crosstab_pref_hour.plot(kind='bar', stacked=True, figsize=(12, 6), color=colors)\n",
    "plt.title('Orders by Hour of Day and Family Status')\n",
    "plt.xlabel('Hour of Day')\n",
    "plt.ylabel('Count')\n",
    "plt.legend(title='Family Status')\n",
    "\n",
    "# Save the plot before displaying it\n",
    "plt.savefig(os.path.join(path, '04 Analysis', 'Visualizations', 'stacked_pref_hour.png'))\n"
   ]
  },
  {
   "cell_type": "code",
   "execution_count": 74,
   "id": "94d139a2",
   "metadata": {},
   "outputs": [],
   "source": [
    "plt.show()"
   ]
  },
  {
   "cell_type": "code",
   "execution_count": 75,
   "id": "36eedd46",
   "metadata": {},
   "outputs": [],
   "source": [
    "# Determine shopping habits by hour of day and department_id \n",
    "crosstab_dept_hour_pref = pd.crosstab(df_exclusion['order_hour_of_day'], df_exclusion['department_id'], dropna = False)"
   ]
  },
  {
   "cell_type": "code",
   "execution_count": 76,
   "id": "b22c1109",
   "metadata": {},
   "outputs": [],
   "source": [
    "crosstab_dept_hour_pref.to_clipboard()"
   ]
  },
  {
   "cell_type": "code",
   "execution_count": 77,
   "id": "11eb559a",
   "metadata": {},
   "outputs": [
    {
     "data": {
      "text/html": [
       "<div>\n",
       "<style scoped>\n",
       "    .dataframe tbody tr th:only-of-type {\n",
       "        vertical-align: middle;\n",
       "    }\n",
       "\n",
       "    .dataframe tbody tr th {\n",
       "        vertical-align: top;\n",
       "    }\n",
       "\n",
       "    .dataframe thead th {\n",
       "        text-align: right;\n",
       "    }\n",
       "</style>\n",
       "<table border=\"1\" class=\"dataframe\">\n",
       "  <thead>\n",
       "    <tr style=\"text-align: right;\">\n",
       "      <th>department_id</th>\n",
       "      <th>1</th>\n",
       "      <th>2</th>\n",
       "      <th>3</th>\n",
       "      <th>4</th>\n",
       "      <th>5</th>\n",
       "      <th>6</th>\n",
       "      <th>7</th>\n",
       "      <th>8</th>\n",
       "      <th>9</th>\n",
       "      <th>10</th>\n",
       "      <th>...</th>\n",
       "      <th>12</th>\n",
       "      <th>13</th>\n",
       "      <th>14</th>\n",
       "      <th>15</th>\n",
       "      <th>16</th>\n",
       "      <th>17</th>\n",
       "      <th>18</th>\n",
       "      <th>19</th>\n",
       "      <th>20</th>\n",
       "      <th>21</th>\n",
       "    </tr>\n",
       "    <tr>\n",
       "      <th>order_hour_of_day</th>\n",
       "      <th></th>\n",
       "      <th></th>\n",
       "      <th></th>\n",
       "      <th></th>\n",
       "      <th></th>\n",
       "      <th></th>\n",
       "      <th></th>\n",
       "      <th></th>\n",
       "      <th></th>\n",
       "      <th></th>\n",
       "      <th></th>\n",
       "      <th></th>\n",
       "      <th></th>\n",
       "      <th></th>\n",
       "      <th></th>\n",
       "      <th></th>\n",
       "      <th></th>\n",
       "      <th></th>\n",
       "      <th></th>\n",
       "      <th></th>\n",
       "      <th></th>\n",
       "    </tr>\n",
       "  </thead>\n",
       "  <tbody>\n",
       "    <tr>\n",
       "      <th>0</th>\n",
       "      <td>13969</td>\n",
       "      <td>214</td>\n",
       "      <td>6550</td>\n",
       "      <td>61497</td>\n",
       "      <td>443</td>\n",
       "      <td>1689</td>\n",
       "      <td>15733</td>\n",
       "      <td>597</td>\n",
       "      <td>5251</td>\n",
       "      <td>217</td>\n",
       "      <td>...</td>\n",
       "      <td>4226</td>\n",
       "      <td>12213</td>\n",
       "      <td>3895</td>\n",
       "      <td>6478</td>\n",
       "      <td>31252</td>\n",
       "      <td>4475</td>\n",
       "      <td>2186</td>\n",
       "      <td>15972</td>\n",
       "      <td>6221</td>\n",
       "      <td>498</td>\n",
       "    </tr>\n",
       "    <tr>\n",
       "      <th>1</th>\n",
       "      <td>7918</td>\n",
       "      <td>118</td>\n",
       "      <td>3384</td>\n",
       "      <td>31412</td>\n",
       "      <td>273</td>\n",
       "      <td>920</td>\n",
       "      <td>9019</td>\n",
       "      <td>398</td>\n",
       "      <td>2720</td>\n",
       "      <td>105</td>\n",
       "      <td>...</td>\n",
       "      <td>2150</td>\n",
       "      <td>6488</td>\n",
       "      <td>2083</td>\n",
       "      <td>3458</td>\n",
       "      <td>15860</td>\n",
       "      <td>2581</td>\n",
       "      <td>1016</td>\n",
       "      <td>8226</td>\n",
       "      <td>3296</td>\n",
       "      <td>285</td>\n",
       "    </tr>\n",
       "    <tr>\n",
       "      <th>2</th>\n",
       "      <td>4759</td>\n",
       "      <td>108</td>\n",
       "      <td>2144</td>\n",
       "      <td>17893</td>\n",
       "      <td>228</td>\n",
       "      <td>522</td>\n",
       "      <td>5524</td>\n",
       "      <td>239</td>\n",
       "      <td>1609</td>\n",
       "      <td>61</td>\n",
       "      <td>...</td>\n",
       "      <td>1373</td>\n",
       "      <td>3965</td>\n",
       "      <td>1230</td>\n",
       "      <td>2117</td>\n",
       "      <td>9490</td>\n",
       "      <td>1656</td>\n",
       "      <td>572</td>\n",
       "      <td>4956</td>\n",
       "      <td>2012</td>\n",
       "      <td>153</td>\n",
       "    </tr>\n",
       "    <tr>\n",
       "      <th>3</th>\n",
       "      <td>3670</td>\n",
       "      <td>63</td>\n",
       "      <td>1588</td>\n",
       "      <td>12749</td>\n",
       "      <td>169</td>\n",
       "      <td>428</td>\n",
       "      <td>4137</td>\n",
       "      <td>237</td>\n",
       "      <td>1153</td>\n",
       "      <td>46</td>\n",
       "      <td>...</td>\n",
       "      <td>977</td>\n",
       "      <td>2819</td>\n",
       "      <td>934</td>\n",
       "      <td>1523</td>\n",
       "      <td>7152</td>\n",
       "      <td>1276</td>\n",
       "      <td>411</td>\n",
       "      <td>3718</td>\n",
       "      <td>1446</td>\n",
       "      <td>116</td>\n",
       "    </tr>\n",
       "    <tr>\n",
       "      <th>4</th>\n",
       "      <td>3726</td>\n",
       "      <td>59</td>\n",
       "      <td>1683</td>\n",
       "      <td>13593</td>\n",
       "      <td>165</td>\n",
       "      <td>398</td>\n",
       "      <td>4251</td>\n",
       "      <td>253</td>\n",
       "      <td>1291</td>\n",
       "      <td>42</td>\n",
       "      <td>...</td>\n",
       "      <td>1037</td>\n",
       "      <td>2903</td>\n",
       "      <td>976</td>\n",
       "      <td>1577</td>\n",
       "      <td>7118</td>\n",
       "      <td>1415</td>\n",
       "      <td>488</td>\n",
       "      <td>3609</td>\n",
       "      <td>1456</td>\n",
       "      <td>133</td>\n",
       "    </tr>\n",
       "    <tr>\n",
       "      <th>5</th>\n",
       "      <td>5826</td>\n",
       "      <td>93</td>\n",
       "      <td>2791</td>\n",
       "      <td>24625</td>\n",
       "      <td>251</td>\n",
       "      <td>653</td>\n",
       "      <td>6720</td>\n",
       "      <td>286</td>\n",
       "      <td>1951</td>\n",
       "      <td>73</td>\n",
       "      <td>...</td>\n",
       "      <td>1666</td>\n",
       "      <td>4469</td>\n",
       "      <td>1685</td>\n",
       "      <td>2595</td>\n",
       "      <td>13036</td>\n",
       "      <td>2072</td>\n",
       "      <td>1026</td>\n",
       "      <td>6033</td>\n",
       "      <td>2529</td>\n",
       "      <td>160</td>\n",
       "    </tr>\n",
       "    <tr>\n",
       "      <th>6</th>\n",
       "      <td>17609</td>\n",
       "      <td>284</td>\n",
       "      <td>9845</td>\n",
       "      <td>80237</td>\n",
       "      <td>600</td>\n",
       "      <td>2024</td>\n",
       "      <td>21051</td>\n",
       "      <td>907</td>\n",
       "      <td>6880</td>\n",
       "      <td>304</td>\n",
       "      <td>...</td>\n",
       "      <td>5719</td>\n",
       "      <td>14501</td>\n",
       "      <td>6226</td>\n",
       "      <td>8136</td>\n",
       "      <td>47119</td>\n",
       "      <td>6159</td>\n",
       "      <td>4492</td>\n",
       "      <td>21444</td>\n",
       "      <td>8175</td>\n",
       "      <td>544</td>\n",
       "    </tr>\n",
       "    <tr>\n",
       "      <th>7</th>\n",
       "      <td>51912</td>\n",
       "      <td>830</td>\n",
       "      <td>31196</td>\n",
       "      <td>247255</td>\n",
       "      <td>1925</td>\n",
       "      <td>5839</td>\n",
       "      <td>62572</td>\n",
       "      <td>2261</td>\n",
       "      <td>21214</td>\n",
       "      <td>857</td>\n",
       "      <td>...</td>\n",
       "      <td>17860</td>\n",
       "      <td>43706</td>\n",
       "      <td>19596</td>\n",
       "      <td>24469</td>\n",
       "      <td>145772</td>\n",
       "      <td>18774</td>\n",
       "      <td>15412</td>\n",
       "      <td>66211</td>\n",
       "      <td>24918</td>\n",
       "      <td>1705</td>\n",
       "    </tr>\n",
       "    <tr>\n",
       "      <th>8</th>\n",
       "      <td>95564</td>\n",
       "      <td>1642</td>\n",
       "      <td>58071</td>\n",
       "      <td>467851</td>\n",
       "      <td>4826</td>\n",
       "      <td>11465</td>\n",
       "      <td>127745</td>\n",
       "      <td>4124</td>\n",
       "      <td>39100</td>\n",
       "      <td>1663</td>\n",
       "      <td>...</td>\n",
       "      <td>33692</td>\n",
       "      <td>85194</td>\n",
       "      <td>36986</td>\n",
       "      <td>48341</td>\n",
       "      <td>280153</td>\n",
       "      <td>35816</td>\n",
       "      <td>26492</td>\n",
       "      <td>137491</td>\n",
       "      <td>48405</td>\n",
       "      <td>3069</td>\n",
       "    </tr>\n",
       "    <tr>\n",
       "      <th>9</th>\n",
       "      <td>132894</td>\n",
       "      <td>2383</td>\n",
       "      <td>80929</td>\n",
       "      <td>652019</td>\n",
       "      <td>9373</td>\n",
       "      <td>16817</td>\n",
       "      <td>199728</td>\n",
       "      <td>5694</td>\n",
       "      <td>53510</td>\n",
       "      <td>2486</td>\n",
       "      <td>...</td>\n",
       "      <td>45254</td>\n",
       "      <td>122040</td>\n",
       "      <td>53141</td>\n",
       "      <td>68436</td>\n",
       "      <td>391698</td>\n",
       "      <td>50934</td>\n",
       "      <td>31730</td>\n",
       "      <td>213086</td>\n",
       "      <td>69806</td>\n",
       "      <td>4591</td>\n",
       "    </tr>\n",
       "    <tr>\n",
       "      <th>10</th>\n",
       "      <td>152942</td>\n",
       "      <td>2639</td>\n",
       "      <td>89061</td>\n",
       "      <td>726372</td>\n",
       "      <td>12032</td>\n",
       "      <td>20388</td>\n",
       "      <td>222882</td>\n",
       "      <td>6822</td>\n",
       "      <td>62112</td>\n",
       "      <td>2818</td>\n",
       "      <td>...</td>\n",
       "      <td>51496</td>\n",
       "      <td>142525</td>\n",
       "      <td>56619</td>\n",
       "      <td>80913</td>\n",
       "      <td>427075</td>\n",
       "      <td>57536</td>\n",
       "      <td>31354</td>\n",
       "      <td>239869</td>\n",
       "      <td>80030</td>\n",
       "      <td>5201</td>\n",
       "    </tr>\n",
       "    <tr>\n",
       "      <th>11</th>\n",
       "      <td>158785</td>\n",
       "      <td>2660</td>\n",
       "      <td>88516</td>\n",
       "      <td>720434</td>\n",
       "      <td>12445</td>\n",
       "      <td>20841</td>\n",
       "      <td>211903</td>\n",
       "      <td>7096</td>\n",
       "      <td>64764</td>\n",
       "      <td>2685</td>\n",
       "      <td>...</td>\n",
       "      <td>54285</td>\n",
       "      <td>145057</td>\n",
       "      <td>52777</td>\n",
       "      <td>83423</td>\n",
       "      <td>409389</td>\n",
       "      <td>57277</td>\n",
       "      <td>29178</td>\n",
       "      <td>231279</td>\n",
       "      <td>80529</td>\n",
       "      <td>5126</td>\n",
       "    </tr>\n",
       "    <tr>\n",
       "      <th>12</th>\n",
       "      <td>158979</td>\n",
       "      <td>2628</td>\n",
       "      <td>85623</td>\n",
       "      <td>693660</td>\n",
       "      <td>11938</td>\n",
       "      <td>20529</td>\n",
       "      <td>193483</td>\n",
       "      <td>7196</td>\n",
       "      <td>64099</td>\n",
       "      <td>2479</td>\n",
       "      <td>...</td>\n",
       "      <td>53031</td>\n",
       "      <td>140505</td>\n",
       "      <td>48761</td>\n",
       "      <td>81455</td>\n",
       "      <td>384823</td>\n",
       "      <td>54445</td>\n",
       "      <td>28134</td>\n",
       "      <td>211941</td>\n",
       "      <td>77501</td>\n",
       "      <td>4902</td>\n",
       "    </tr>\n",
       "    <tr>\n",
       "      <th>13</th>\n",
       "      <td>164669</td>\n",
       "      <td>2644</td>\n",
       "      <td>87074</td>\n",
       "      <td>705526</td>\n",
       "      <td>12644</td>\n",
       "      <td>20691</td>\n",
       "      <td>198025</td>\n",
       "      <td>7104</td>\n",
       "      <td>66109</td>\n",
       "      <td>2575</td>\n",
       "      <td>...</td>\n",
       "      <td>53500</td>\n",
       "      <td>142379</td>\n",
       "      <td>49325</td>\n",
       "      <td>82928</td>\n",
       "      <td>392888</td>\n",
       "      <td>54185</td>\n",
       "      <td>30678</td>\n",
       "      <td>214537</td>\n",
       "      <td>78007</td>\n",
       "      <td>4995</td>\n",
       "    </tr>\n",
       "    <tr>\n",
       "      <th>14</th>\n",
       "      <td>167348</td>\n",
       "      <td>2702</td>\n",
       "      <td>88679</td>\n",
       "      <td>712387</td>\n",
       "      <td>13499</td>\n",
       "      <td>20792</td>\n",
       "      <td>200082</td>\n",
       "      <td>7112</td>\n",
       "      <td>66621</td>\n",
       "      <td>2529</td>\n",
       "      <td>...</td>\n",
       "      <td>54475</td>\n",
       "      <td>142422</td>\n",
       "      <td>50643</td>\n",
       "      <td>81980</td>\n",
       "      <td>399861</td>\n",
       "      <td>53341</td>\n",
       "      <td>31334</td>\n",
       "      <td>217018</td>\n",
       "      <td>79105</td>\n",
       "      <td>5034</td>\n",
       "    </tr>\n",
       "    <tr>\n",
       "      <th>15</th>\n",
       "      <td>169459</td>\n",
       "      <td>2678</td>\n",
       "      <td>88480</td>\n",
       "      <td>701005</td>\n",
       "      <td>13630</td>\n",
       "      <td>20779</td>\n",
       "      <td>197817</td>\n",
       "      <td>7082</td>\n",
       "      <td>66300</td>\n",
       "      <td>2599</td>\n",
       "      <td>...</td>\n",
       "      <td>54380</td>\n",
       "      <td>139202</td>\n",
       "      <td>49816</td>\n",
       "      <td>80177</td>\n",
       "      <td>394794</td>\n",
       "      <td>51411</td>\n",
       "      <td>30211</td>\n",
       "      <td>214110</td>\n",
       "      <td>79176</td>\n",
       "      <td>5089</td>\n",
       "    </tr>\n",
       "    <tr>\n",
       "      <th>16</th>\n",
       "      <td>165801</td>\n",
       "      <td>2509</td>\n",
       "      <td>84670</td>\n",
       "      <td>663771</td>\n",
       "      <td>12783</td>\n",
       "      <td>19634</td>\n",
       "      <td>189280</td>\n",
       "      <td>7298</td>\n",
       "      <td>62837</td>\n",
       "      <td>2353</td>\n",
       "      <td>...</td>\n",
       "      <td>51240</td>\n",
       "      <td>129413</td>\n",
       "      <td>48262</td>\n",
       "      <td>74804</td>\n",
       "      <td>376511</td>\n",
       "      <td>48608</td>\n",
       "      <td>27515</td>\n",
       "      <td>204437</td>\n",
       "      <td>76833</td>\n",
       "      <td>4589</td>\n",
       "    </tr>\n",
       "    <tr>\n",
       "      <th>17</th>\n",
       "      <td>143893</td>\n",
       "      <td>2251</td>\n",
       "      <td>69386</td>\n",
       "      <td>534892</td>\n",
       "      <td>10850</td>\n",
       "      <td>15769</td>\n",
       "      <td>157334</td>\n",
       "      <td>6660</td>\n",
       "      <td>51556</td>\n",
       "      <td>1929</td>\n",
       "      <td>...</td>\n",
       "      <td>41843</td>\n",
       "      <td>107823</td>\n",
       "      <td>39226</td>\n",
       "      <td>60177</td>\n",
       "      <td>306301</td>\n",
       "      <td>41938</td>\n",
       "      <td>21389</td>\n",
       "      <td>166971</td>\n",
       "      <td>63901</td>\n",
       "      <td>3962</td>\n",
       "    </tr>\n",
       "    <tr>\n",
       "      <th>18</th>\n",
       "      <td>116999</td>\n",
       "      <td>1728</td>\n",
       "      <td>53284</td>\n",
       "      <td>414490</td>\n",
       "      <td>7898</td>\n",
       "      <td>11817</td>\n",
       "      <td>124079</td>\n",
       "      <td>5543</td>\n",
       "      <td>39787</td>\n",
       "      <td>1484</td>\n",
       "      <td>...</td>\n",
       "      <td>32668</td>\n",
       "      <td>83532</td>\n",
       "      <td>31071</td>\n",
       "      <td>45459</td>\n",
       "      <td>240202</td>\n",
       "      <td>34126</td>\n",
       "      <td>16942</td>\n",
       "      <td>127427</td>\n",
       "      <td>49277</td>\n",
       "      <td>3250</td>\n",
       "    </tr>\n",
       "    <tr>\n",
       "      <th>19</th>\n",
       "      <td>90527</td>\n",
       "      <td>1336</td>\n",
       "      <td>40449</td>\n",
       "      <td>320545</td>\n",
       "      <td>5238</td>\n",
       "      <td>9009</td>\n",
       "      <td>94604</td>\n",
       "      <td>4267</td>\n",
       "      <td>30315</td>\n",
       "      <td>1207</td>\n",
       "      <td>...</td>\n",
       "      <td>23802</td>\n",
       "      <td>64285</td>\n",
       "      <td>24669</td>\n",
       "      <td>35317</td>\n",
       "      <td>186193</td>\n",
       "      <td>27072</td>\n",
       "      <td>14500</td>\n",
       "      <td>98217</td>\n",
       "      <td>37002</td>\n",
       "      <td>2460</td>\n",
       "    </tr>\n",
       "    <tr>\n",
       "      <th>20</th>\n",
       "      <td>66476</td>\n",
       "      <td>977</td>\n",
       "      <td>30664</td>\n",
       "      <td>260273</td>\n",
       "      <td>2978</td>\n",
       "      <td>7051</td>\n",
       "      <td>68081</td>\n",
       "      <td>2717</td>\n",
       "      <td>23343</td>\n",
       "      <td>1057</td>\n",
       "      <td>...</td>\n",
       "      <td>18751</td>\n",
       "      <td>50367</td>\n",
       "      <td>19280</td>\n",
       "      <td>27803</td>\n",
       "      <td>147476</td>\n",
       "      <td>20081</td>\n",
       "      <td>14559</td>\n",
       "      <td>74308</td>\n",
       "      <td>27552</td>\n",
       "      <td>1822</td>\n",
       "    </tr>\n",
       "    <tr>\n",
       "      <th>21</th>\n",
       "      <td>49484</td>\n",
       "      <td>761</td>\n",
       "      <td>24603</td>\n",
       "      <td>225876</td>\n",
       "      <td>1744</td>\n",
       "      <td>5885</td>\n",
       "      <td>50404</td>\n",
       "      <td>1794</td>\n",
       "      <td>19691</td>\n",
       "      <td>872</td>\n",
       "      <td>...</td>\n",
       "      <td>15570</td>\n",
       "      <td>42377</td>\n",
       "      <td>15756</td>\n",
       "      <td>23995</td>\n",
       "      <td>122241</td>\n",
       "      <td>15240</td>\n",
       "      <td>13524</td>\n",
       "      <td>58966</td>\n",
       "      <td>22160</td>\n",
       "      <td>1532</td>\n",
       "    </tr>\n",
       "    <tr>\n",
       "      <th>22</th>\n",
       "      <td>38420</td>\n",
       "      <td>581</td>\n",
       "      <td>19079</td>\n",
       "      <td>183843</td>\n",
       "      <td>1255</td>\n",
       "      <td>4962</td>\n",
       "      <td>39266</td>\n",
       "      <td>1300</td>\n",
       "      <td>15888</td>\n",
       "      <td>653</td>\n",
       "      <td>...</td>\n",
       "      <td>12235</td>\n",
       "      <td>33892</td>\n",
       "      <td>12070</td>\n",
       "      <td>19388</td>\n",
       "      <td>95833</td>\n",
       "      <td>11974</td>\n",
       "      <td>9569</td>\n",
       "      <td>46326</td>\n",
       "      <td>17942</td>\n",
       "      <td>1253</td>\n",
       "    </tr>\n",
       "    <tr>\n",
       "      <th>23</th>\n",
       "      <td>24796</td>\n",
       "      <td>387</td>\n",
       "      <td>12077</td>\n",
       "      <td>114146</td>\n",
       "      <td>755</td>\n",
       "      <td>3197</td>\n",
       "      <td>26937</td>\n",
       "      <td>866</td>\n",
       "      <td>9703</td>\n",
       "      <td>466</td>\n",
       "      <td>...</td>\n",
       "      <td>7838</td>\n",
       "      <td>21676</td>\n",
       "      <td>7728</td>\n",
       "      <td>11883</td>\n",
       "      <td>59903</td>\n",
       "      <td>7650</td>\n",
       "      <td>5027</td>\n",
       "      <td>29923</td>\n",
       "      <td>11520</td>\n",
       "      <td>813</td>\n",
       "    </tr>\n",
       "  </tbody>\n",
       "</table>\n",
       "<p>24 rows × 21 columns</p>\n",
       "</div>"
      ],
      "text/plain": [
       "department_id          1     2      3       4      5      6       7     8   \\\n",
       "order_hour_of_day                                                            \n",
       "0                   13969   214   6550   61497    443   1689   15733   597   \n",
       "1                    7918   118   3384   31412    273    920    9019   398   \n",
       "2                    4759   108   2144   17893    228    522    5524   239   \n",
       "3                    3670    63   1588   12749    169    428    4137   237   \n",
       "4                    3726    59   1683   13593    165    398    4251   253   \n",
       "5                    5826    93   2791   24625    251    653    6720   286   \n",
       "6                   17609   284   9845   80237    600   2024   21051   907   \n",
       "7                   51912   830  31196  247255   1925   5839   62572  2261   \n",
       "8                   95564  1642  58071  467851   4826  11465  127745  4124   \n",
       "9                  132894  2383  80929  652019   9373  16817  199728  5694   \n",
       "10                 152942  2639  89061  726372  12032  20388  222882  6822   \n",
       "11                 158785  2660  88516  720434  12445  20841  211903  7096   \n",
       "12                 158979  2628  85623  693660  11938  20529  193483  7196   \n",
       "13                 164669  2644  87074  705526  12644  20691  198025  7104   \n",
       "14                 167348  2702  88679  712387  13499  20792  200082  7112   \n",
       "15                 169459  2678  88480  701005  13630  20779  197817  7082   \n",
       "16                 165801  2509  84670  663771  12783  19634  189280  7298   \n",
       "17                 143893  2251  69386  534892  10850  15769  157334  6660   \n",
       "18                 116999  1728  53284  414490   7898  11817  124079  5543   \n",
       "19                  90527  1336  40449  320545   5238   9009   94604  4267   \n",
       "20                  66476   977  30664  260273   2978   7051   68081  2717   \n",
       "21                  49484   761  24603  225876   1744   5885   50404  1794   \n",
       "22                  38420   581  19079  183843   1255   4962   39266  1300   \n",
       "23                  24796   387  12077  114146    755   3197   26937   866   \n",
       "\n",
       "department_id         9     10  ...     12      13     14     15      16  \\\n",
       "order_hour_of_day               ...                                        \n",
       "0                   5251   217  ...   4226   12213   3895   6478   31252   \n",
       "1                   2720   105  ...   2150    6488   2083   3458   15860   \n",
       "2                   1609    61  ...   1373    3965   1230   2117    9490   \n",
       "3                   1153    46  ...    977    2819    934   1523    7152   \n",
       "4                   1291    42  ...   1037    2903    976   1577    7118   \n",
       "5                   1951    73  ...   1666    4469   1685   2595   13036   \n",
       "6                   6880   304  ...   5719   14501   6226   8136   47119   \n",
       "7                  21214   857  ...  17860   43706  19596  24469  145772   \n",
       "8                  39100  1663  ...  33692   85194  36986  48341  280153   \n",
       "9                  53510  2486  ...  45254  122040  53141  68436  391698   \n",
       "10                 62112  2818  ...  51496  142525  56619  80913  427075   \n",
       "11                 64764  2685  ...  54285  145057  52777  83423  409389   \n",
       "12                 64099  2479  ...  53031  140505  48761  81455  384823   \n",
       "13                 66109  2575  ...  53500  142379  49325  82928  392888   \n",
       "14                 66621  2529  ...  54475  142422  50643  81980  399861   \n",
       "15                 66300  2599  ...  54380  139202  49816  80177  394794   \n",
       "16                 62837  2353  ...  51240  129413  48262  74804  376511   \n",
       "17                 51556  1929  ...  41843  107823  39226  60177  306301   \n",
       "18                 39787  1484  ...  32668   83532  31071  45459  240202   \n",
       "19                 30315  1207  ...  23802   64285  24669  35317  186193   \n",
       "20                 23343  1057  ...  18751   50367  19280  27803  147476   \n",
       "21                 19691   872  ...  15570   42377  15756  23995  122241   \n",
       "22                 15888   653  ...  12235   33892  12070  19388   95833   \n",
       "23                  9703   466  ...   7838   21676   7728  11883   59903   \n",
       "\n",
       "department_id         17     18      19     20    21  \n",
       "order_hour_of_day                                     \n",
       "0                   4475   2186   15972   6221   498  \n",
       "1                   2581   1016    8226   3296   285  \n",
       "2                   1656    572    4956   2012   153  \n",
       "3                   1276    411    3718   1446   116  \n",
       "4                   1415    488    3609   1456   133  \n",
       "5                   2072   1026    6033   2529   160  \n",
       "6                   6159   4492   21444   8175   544  \n",
       "7                  18774  15412   66211  24918  1705  \n",
       "8                  35816  26492  137491  48405  3069  \n",
       "9                  50934  31730  213086  69806  4591  \n",
       "10                 57536  31354  239869  80030  5201  \n",
       "11                 57277  29178  231279  80529  5126  \n",
       "12                 54445  28134  211941  77501  4902  \n",
       "13                 54185  30678  214537  78007  4995  \n",
       "14                 53341  31334  217018  79105  5034  \n",
       "15                 51411  30211  214110  79176  5089  \n",
       "16                 48608  27515  204437  76833  4589  \n",
       "17                 41938  21389  166971  63901  3962  \n",
       "18                 34126  16942  127427  49277  3250  \n",
       "19                 27072  14500   98217  37002  2460  \n",
       "20                 20081  14559   74308  27552  1822  \n",
       "21                 15240  13524   58966  22160  1532  \n",
       "22                 11974   9569   46326  17942  1253  \n",
       "23                  7650   5027   29923  11520   813  \n",
       "\n",
       "[24 rows x 21 columns]"
      ]
     },
     "execution_count": 77,
     "metadata": {},
     "output_type": "execute_result"
    }
   ],
   "source": [
    "crosstab_dept_hour_pref"
   ]
  },
  {
   "cell_type": "code",
   "execution_count": 78,
   "id": "dd178fae",
   "metadata": {},
   "outputs": [],
   "source": [
    "# Determine shopping habits by fam_status, by price_range_loc \n",
    "crosstab_fam_spend_pref = pd.crosstab(df_exclusion['price_range_loc'], df_exclusion['fam_status'], dropna = False)"
   ]
  },
  {
   "cell_type": "code",
   "execution_count": 79,
   "id": "4a528eae",
   "metadata": {},
   "outputs": [],
   "source": [
    "crosstab_fam_spend_pref.to_clipboard()"
   ]
  },
  {
   "cell_type": "code",
   "execution_count": 80,
   "id": "7ba5455c",
   "metadata": {},
   "outputs": [
    {
     "data": {
      "text/html": [
       "<div>\n",
       "<style scoped>\n",
       "    .dataframe tbody tr th:only-of-type {\n",
       "        vertical-align: middle;\n",
       "    }\n",
       "\n",
       "    .dataframe tbody tr th {\n",
       "        vertical-align: top;\n",
       "    }\n",
       "\n",
       "    .dataframe thead th {\n",
       "        text-align: right;\n",
       "    }\n",
       "</style>\n",
       "<table border=\"1\" class=\"dataframe\">\n",
       "  <thead>\n",
       "    <tr style=\"text-align: right;\">\n",
       "      <th>fam_status</th>\n",
       "      <th>divorced/widowed</th>\n",
       "      <th>living with parents and siblings</th>\n",
       "      <th>married</th>\n",
       "      <th>single</th>\n",
       "    </tr>\n",
       "    <tr>\n",
       "      <th>price_range_loc</th>\n",
       "      <th></th>\n",
       "      <th></th>\n",
       "      <th></th>\n",
       "      <th></th>\n",
       "    </tr>\n",
       "  </thead>\n",
       "  <tbody>\n",
       "    <tr>\n",
       "      <th>High Price Range</th>\n",
       "      <td>32504</td>\n",
       "      <td>18064</td>\n",
       "      <td>266460</td>\n",
       "      <td>59843</td>\n",
       "    </tr>\n",
       "    <tr>\n",
       "      <th>Low Price Range</th>\n",
       "      <td>1361374</td>\n",
       "      <td>760817</td>\n",
       "      <td>11174730</td>\n",
       "      <td>2613151</td>\n",
       "    </tr>\n",
       "    <tr>\n",
       "      <th>Mid Price Range</th>\n",
       "      <td>1116745</td>\n",
       "      <td>626259</td>\n",
       "      <td>9112088</td>\n",
       "      <td>2128903</td>\n",
       "    </tr>\n",
       "  </tbody>\n",
       "</table>\n",
       "</div>"
      ],
      "text/plain": [
       "fam_status        divorced/widowed  living with parents and siblings  \\\n",
       "price_range_loc                                                        \n",
       "High Price Range             32504                             18064   \n",
       "Low Price Range            1361374                            760817   \n",
       "Mid Price Range            1116745                            626259   \n",
       "\n",
       "fam_status         married   single  \n",
       "price_range_loc                      \n",
       "High Price Range    266460    59843  \n",
       "Low Price Range   11174730  2613151  \n",
       "Mid Price Range    9112088  2128903  "
      ]
     },
     "execution_count": 80,
     "metadata": {},
     "output_type": "execute_result"
    }
   ],
   "source": [
    "crosstab_fam_spend_pref"
   ]
  },
  {
   "cell_type": "code",
   "execution_count": 81,
   "id": "13514525",
   "metadata": {},
   "outputs": [
    {
     "data": {
      "image/png": "[encoded data removed]",
      "text/plain": [
       "<Figure size 1000x600 with 1 Axes>"
      ]
     },
     "metadata": {},
     "output_type": "display_data"
    }
   ],
   "source": [
    "# Plot grouped bar chart\n",
    "colors = ['deepskyblue', 'gold', 'royalblue', 'lavender']\n",
    "crosstab_fam_spend_pref.plot(kind='bar', figsize=(10, 6), color=colors)\n",
    "plt.title('Order Frequency by Price Range and Family Status')\n",
    "plt.xlabel('Price Range')\n",
    "plt.ylabel('Frequency')\n",
    "plt.legend(title='Family Status')\n",
    "plt.xticks(rotation=45)  # Rotate x-axis labels for better readability\n",
    "plt.tight_layout()  # Adjust layout to prevent clipping of labels\n",
    "\n",
    "# Save the plot before displaying it\n",
    "plt.savefig(os.path.join(path, '04 Analysis', 'Visualizations', 'stacked_bar_fam_pricerange.png'))"
   ]
  },
  {
   "cell_type": "code",
   "execution_count": 82,
   "id": "40779b7b",
   "metadata": {},
   "outputs": [],
   "source": [
    "# Display the plot\n",
    "plt.show()"
   ]
  },
  {
   "cell_type": "code",
   "execution_count": 83,
   "id": "53666a10",
   "metadata": {},
   "outputs": [],
   "source": [
    "# Determine shopping habits by age_group, by frequency_flag\n",
    "crosstab_age_frequency = pd.crosstab(df_exclusion['age_group'], df_exclusion['frequency_flag'], dropna = False)"
   ]
  },
  {
   "cell_type": "code",
   "execution_count": 84,
   "id": "cb520b23",
   "metadata": {},
   "outputs": [],
   "source": [
    "crosstab_age_frequency.to_clipboard()"
   ]
  },
  {
   "cell_type": "code",
   "execution_count": 85,
   "id": "062bf054",
   "metadata": {},
   "outputs": [
    {
     "data": {
      "text/html": [
       "<div>\n",
       "<style scoped>\n",
       "    .dataframe tbody tr th:only-of-type {\n",
       "        vertical-align: middle;\n",
       "    }\n",
       "\n",
       "    .dataframe tbody tr th {\n",
       "        vertical-align: top;\n",
       "    }\n",
       "\n",
       "    .dataframe thead th {\n",
       "        text-align: right;\n",
       "    }\n",
       "</style>\n",
       "<table border=\"1\" class=\"dataframe\">\n",
       "  <thead>\n",
       "    <tr style=\"text-align: right;\">\n",
       "      <th>frequency_flag</th>\n",
       "      <th>Frequent customer</th>\n",
       "      <th>Non-Frequent customer</th>\n",
       "      <th>Regular customer</th>\n",
       "    </tr>\n",
       "    <tr>\n",
       "      <th>age_group</th>\n",
       "      <th></th>\n",
       "      <th></th>\n",
       "      <th></th>\n",
       "    </tr>\n",
       "  </thead>\n",
       "  <tbody>\n",
       "    <tr>\n",
       "      <th>Adult</th>\n",
       "      <td>9405899</td>\n",
       "      <td>1297001</td>\n",
       "      <td>3075663</td>\n",
       "    </tr>\n",
       "    <tr>\n",
       "      <th>Senior</th>\n",
       "      <td>6856591</td>\n",
       "      <td>933372</td>\n",
       "      <td>2208984</td>\n",
       "    </tr>\n",
       "    <tr>\n",
       "      <th>Young Adult</th>\n",
       "      <td>2502641</td>\n",
       "      <td>335585</td>\n",
       "      <td>812446</td>\n",
       "    </tr>\n",
       "    <tr>\n",
       "      <th>Youth</th>\n",
       "      <td>1261835</td>\n",
       "      <td>176205</td>\n",
       "      <td>404716</td>\n",
       "    </tr>\n",
       "  </tbody>\n",
       "</table>\n",
       "</div>"
      ],
      "text/plain": [
       "frequency_flag  Frequent customer  Non-Frequent customer  Regular customer\n",
       "age_group                                                                 \n",
       "Adult                     9405899                1297001           3075663\n",
       "Senior                    6856591                 933372           2208984\n",
       "Young Adult               2502641                 335585            812446\n",
       "Youth                     1261835                 176205            404716"
      ]
     },
     "execution_count": 85,
     "metadata": {},
     "output_type": "execute_result"
    }
   ],
   "source": [
    "crosstab_age_frequency"
   ]
  },
  {
   "cell_type": "code",
   "execution_count": 86,
   "id": "73d19ec6",
   "metadata": {},
   "outputs": [
    {
     "data": {
      "image/png": "[encoded data removed]",
      "text/plain": [
       "<Figure size 1000x600 with 1 Axes>"
      ]
     },
     "metadata": {},
     "output_type": "display_data"
    }
   ],
   "source": [
    "# Sort the DataFrame by the total frequency of orders in each price range\n",
    "crosstab_age_frequency_sorted = crosstab_age_frequency.sum(axis=1).sort_values(ascending=False)\n",
    "crosstab_age_frequency_sorted = crosstab_age_frequency.loc[crosstab_age_frequency_sorted.index]\n",
    "\n",
    "# Plot stacked bar chart with sorted DataFrame\n",
    "colors = ['royalblue', 'lime', 'deepskyblue']\n",
    "crosstab_age_frequency_sorted.plot(kind='bar', stacked=True, figsize=(10, 6), color=colors)\n",
    "plt.title('Order Frequency by Age Group')\n",
    "plt.xlabel('Age Group')\n",
    "plt.ylabel('Frequency')\n",
    "plt.legend(title='Loyalty')\n",
    "plt.tight_layout()  # Adjust layout to prevent clipping of labels\n",
    "\n",
    "# Save the plot before displaying it\n",
    "plt.savefig(os.path.join(path, '04 Analysis', 'Visualizations', 'stacked_bar_age_frequency.png'))\n"
   ]
  },
  {
   "cell_type": "code",
   "execution_count": 87,
   "id": "2de6bbdf",
   "metadata": {},
   "outputs": [],
   "source": [
    "# Display the plot\n",
    "plt.show()"
   ]
  },
  {
   "cell_type": "code",
   "execution_count": 88,
   "id": "0199642c",
   "metadata": {},
   "outputs": [],
   "source": [
    "# Determine shopping habits by age_group, by department_id\n",
    "crosstab_age_dept = pd.crosstab(df_exclusion['department_id'], df_exclusion['age_group'], dropna = False)"
   ]
  },
  {
   "cell_type": "code",
   "execution_count": 89,
   "id": "6fdd72f0",
   "metadata": {},
   "outputs": [],
   "source": [
    "crosstab_age_dept.to_clipboard()"
   ]
  },
  {
   "cell_type": "code",
   "execution_count": 90,
   "id": "30e62abf",
   "metadata": {},
   "outputs": [
    {
     "data": {
      "text/html": [
       "<div>\n",
       "<style scoped>\n",
       "    .dataframe tbody tr th:only-of-type {\n",
       "        vertical-align: middle;\n",
       "    }\n",
       "\n",
       "    .dataframe tbody tr th {\n",
       "        vertical-align: top;\n",
       "    }\n",
       "\n",
       "    .dataframe thead th {\n",
       "        text-align: right;\n",
       "    }\n",
       "</style>\n",
       "<table border=\"1\" class=\"dataframe\">\n",
       "  <thead>\n",
       "    <tr style=\"text-align: right;\">\n",
       "      <th>age_group</th>\n",
       "      <th>Adult</th>\n",
       "      <th>Senior</th>\n",
       "      <th>Young Adult</th>\n",
       "      <th>Youth</th>\n",
       "    </tr>\n",
       "    <tr>\n",
       "      <th>department_id</th>\n",
       "      <th></th>\n",
       "      <th></th>\n",
       "      <th></th>\n",
       "      <th></th>\n",
       "    </tr>\n",
       "  </thead>\n",
       "  <tbody>\n",
       "    <tr>\n",
       "      <th>1</th>\n",
       "      <td>941535</td>\n",
       "      <td>688334</td>\n",
       "      <td>249058</td>\n",
       "      <td>127498</td>\n",
       "    </tr>\n",
       "    <tr>\n",
       "      <th>2</th>\n",
       "      <td>14926</td>\n",
       "      <td>10865</td>\n",
       "      <td>4227</td>\n",
       "      <td>2257</td>\n",
       "    </tr>\n",
       "    <tr>\n",
       "      <th>3</th>\n",
       "      <td>499957</td>\n",
       "      <td>361256</td>\n",
       "      <td>131944</td>\n",
       "      <td>66669</td>\n",
       "    </tr>\n",
       "    <tr>\n",
       "      <th>4</th>\n",
       "      <td>4042525</td>\n",
       "      <td>2937565</td>\n",
       "      <td>1069556</td>\n",
       "      <td>536705</td>\n",
       "    </tr>\n",
       "    <tr>\n",
       "      <th>5</th>\n",
       "      <td>66116</td>\n",
       "      <td>44873</td>\n",
       "      <td>16912</td>\n",
       "      <td>10041</td>\n",
       "    </tr>\n",
       "    <tr>\n",
       "      <th>6</th>\n",
       "      <td>114085</td>\n",
       "      <td>81589</td>\n",
       "      <td>30677</td>\n",
       "      <td>15748</td>\n",
       "    </tr>\n",
       "    <tr>\n",
       "      <th>7</th>\n",
       "      <td>1143834</td>\n",
       "      <td>836098</td>\n",
       "      <td>299486</td>\n",
       "      <td>151239</td>\n",
       "    </tr>\n",
       "    <tr>\n",
       "      <th>8</th>\n",
       "      <td>40677</td>\n",
       "      <td>29958</td>\n",
       "      <td>10598</td>\n",
       "      <td>6620</td>\n",
       "    </tr>\n",
       "    <tr>\n",
       "      <th>9</th>\n",
       "      <td>365406</td>\n",
       "      <td>264717</td>\n",
       "      <td>98325</td>\n",
       "      <td>49356</td>\n",
       "    </tr>\n",
       "    <tr>\n",
       "      <th>10</th>\n",
       "      <td>14684</td>\n",
       "      <td>10787</td>\n",
       "      <td>4014</td>\n",
       "      <td>2075</td>\n",
       "    </tr>\n",
       "    <tr>\n",
       "      <th>11</th>\n",
       "      <td>189556</td>\n",
       "      <td>135206</td>\n",
       "      <td>49359</td>\n",
       "      <td>25540</td>\n",
       "    </tr>\n",
       "    <tr>\n",
       "      <th>12</th>\n",
       "      <td>299201</td>\n",
       "      <td>219929</td>\n",
       "      <td>79756</td>\n",
       "      <td>40182</td>\n",
       "    </tr>\n",
       "    <tr>\n",
       "      <th>13</th>\n",
       "      <td>792709</td>\n",
       "      <td>575910</td>\n",
       "      <td>208815</td>\n",
       "      <td>106319</td>\n",
       "    </tr>\n",
       "    <tr>\n",
       "      <th>14</th>\n",
       "      <td>296810</td>\n",
       "      <td>215122</td>\n",
       "      <td>79903</td>\n",
       "      <td>40920</td>\n",
       "    </tr>\n",
       "    <tr>\n",
       "      <th>15</th>\n",
       "      <td>449946</td>\n",
       "      <td>325093</td>\n",
       "      <td>121700</td>\n",
       "      <td>60093</td>\n",
       "    </tr>\n",
       "    <tr>\n",
       "      <th>16</th>\n",
       "      <td>2305090</td>\n",
       "      <td>1667081</td>\n",
       "      <td>610977</td>\n",
       "      <td>308992</td>\n",
       "    </tr>\n",
       "    <tr>\n",
       "      <th>17</th>\n",
       "      <td>310604</td>\n",
       "      <td>226661</td>\n",
       "      <td>80852</td>\n",
       "      <td>41925</td>\n",
       "    </tr>\n",
       "    <tr>\n",
       "      <th>18</th>\n",
       "      <td>183080</td>\n",
       "      <td>131442</td>\n",
       "      <td>49506</td>\n",
       "      <td>23711</td>\n",
       "    </tr>\n",
       "    <tr>\n",
       "      <th>19</th>\n",
       "      <td>1232678</td>\n",
       "      <td>891087</td>\n",
       "      <td>328961</td>\n",
       "      <td>163349</td>\n",
       "    </tr>\n",
       "    <tr>\n",
       "      <th>20</th>\n",
       "      <td>446231</td>\n",
       "      <td>324768</td>\n",
       "      <td>118340</td>\n",
       "      <td>59460</td>\n",
       "    </tr>\n",
       "    <tr>\n",
       "      <th>21</th>\n",
       "      <td>28913</td>\n",
       "      <td>20606</td>\n",
       "      <td>7706</td>\n",
       "      <td>4057</td>\n",
       "    </tr>\n",
       "  </tbody>\n",
       "</table>\n",
       "</div>"
      ],
      "text/plain": [
       "age_group        Adult   Senior  Young Adult   Youth\n",
       "department_id                                       \n",
       "1               941535   688334       249058  127498\n",
       "2                14926    10865         4227    2257\n",
       "3               499957   361256       131944   66669\n",
       "4              4042525  2937565      1069556  536705\n",
       "5                66116    44873        16912   10041\n",
       "6               114085    81589        30677   15748\n",
       "7              1143834   836098       299486  151239\n",
       "8                40677    29958        10598    6620\n",
       "9               365406   264717        98325   49356\n",
       "10               14684    10787         4014    2075\n",
       "11              189556   135206        49359   25540\n",
       "12              299201   219929        79756   40182\n",
       "13              792709   575910       208815  106319\n",
       "14              296810   215122        79903   40920\n",
       "15              449946   325093       121700   60093\n",
       "16             2305090  1667081       610977  308992\n",
       "17              310604   226661        80852   41925\n",
       "18              183080   131442        49506   23711\n",
       "19             1232678   891087       328961  163349\n",
       "20              446231   324768       118340   59460\n",
       "21               28913    20606         7706    4057"
      ]
     },
     "execution_count": 90,
     "metadata": {},
     "output_type": "execute_result"
    }
   ],
   "source": [
    "crosstab_age_dept"
   ]
  },
  {
   "cell_type": "code",
   "execution_count": 91,
   "id": "7c4090bc",
   "metadata": {},
   "outputs": [
    {
     "data": {
      "image/png": "[encoded data removed]",
      "text/plain": [
       "<Figure size 1000x800 with 1 Axes>"
      ]
     },
     "metadata": {},
     "output_type": "display_data"
    }
   ],
   "source": [
    "# Sort the DataFrame by the total frequency of orders in each price range\n",
    "crosstab_age_dept_sorted = crosstab_age_dept.sum(axis=1).sort_values(ascending=False)\n",
    "crosstab_age_dept_sorted = crosstab_age_dept.loc[crosstab_age_dept_sorted.index]\n",
    "\n",
    "# Plot stacked bar chart with sorted DataFrame\n",
    "colors = ['royalblue', 'dodgerblue', 'deepskyblue', 'gold']\n",
    "ax = crosstab_age_dept_sorted.plot(kind='bar', stacked=True, figsize=(10, 8), color=colors)\n",
    "\n",
    "# Define new labels for x-axis\n",
    "new_x_labels = ['Produce', 'Dairy Eggs', 'Snacks', 'Beverages', 'Frozen', 'Pantry', 'Bakery', 'Canned Goods', 'Deli', 'Dry Goods Pasta', 'HouseHold', 'Meat Seafood', 'Breakfast', 'Personal Care', 'Babies', 'International', 'Alcohol', 'Pets', 'Missing', 'Other', 'Bulk']  # Replace with your desired labels\n",
    "\n",
    "# Set new x-axis labels\n",
    "ax.set_xticklabels(new_x_labels)\n",
    "\n",
    "# Set titles and labels\n",
    "plt.title('Department Preference by Age Group')\n",
    "plt.xlabel('Department ID')\n",
    "plt.ylabel('Count')\n",
    "plt.legend(title='Age Group')\n",
    "plt.tight_layout()  # Adjust layout to prevent clipping of labels\n",
    "\n",
    "# Save the plot before displaying it\n",
    "plt.savefig(os.path.join(path, '04 Analysis', 'Visualizations', 'stacked_bar_age_dept.png'))"
   ]
  },
  {
   "cell_type": "code",
   "execution_count": 92,
   "id": "e31e73fa",
   "metadata": {},
   "outputs": [],
   "source": [
    "# Determine shopping habits by age_group, and family status\n",
    "crosstab_age_fam_status = pd.crosstab(df_exclusion['age_group'], df_exclusion['fam_status'], dropna = False)"
   ]
  },
  {
   "cell_type": "code",
   "execution_count": 93,
   "id": "116a63c9",
   "metadata": {},
   "outputs": [],
   "source": [
    "crosstab_age_fam_status.to_clipboard()"
   ]
  },
  {
   "cell_type": "code",
   "execution_count": 94,
   "id": "cb34da43",
   "metadata": {},
   "outputs": [
    {
     "data": {
      "text/html": [
       "<div>\n",
       "<style scoped>\n",
       "    .dataframe tbody tr th:only-of-type {\n",
       "        vertical-align: middle;\n",
       "    }\n",
       "\n",
       "    .dataframe tbody tr th {\n",
       "        vertical-align: top;\n",
       "    }\n",
       "\n",
       "    .dataframe thead th {\n",
       "        text-align: right;\n",
       "    }\n",
       "</style>\n",
       "<table border=\"1\" class=\"dataframe\">\n",
       "  <thead>\n",
       "    <tr style=\"text-align: right;\">\n",
       "      <th>fam_status</th>\n",
       "      <th>divorced/widowed</th>\n",
       "      <th>living with parents and siblings</th>\n",
       "      <th>married</th>\n",
       "      <th>single</th>\n",
       "    </tr>\n",
       "    <tr>\n",
       "      <th>age_group</th>\n",
       "      <th></th>\n",
       "      <th></th>\n",
       "      <th></th>\n",
       "      <th></th>\n",
       "    </tr>\n",
       "  </thead>\n",
       "  <tbody>\n",
       "    <tr>\n",
       "      <th>Adult</th>\n",
       "      <td>0</td>\n",
       "      <td>0</td>\n",
       "      <td>10332440</td>\n",
       "      <td>3446123</td>\n",
       "    </tr>\n",
       "    <tr>\n",
       "      <th>Senior</th>\n",
       "      <td>2510623</td>\n",
       "      <td>0</td>\n",
       "      <td>7488324</td>\n",
       "      <td>0</td>\n",
       "    </tr>\n",
       "    <tr>\n",
       "      <th>Young Adult</th>\n",
       "      <td>0</td>\n",
       "      <td>0</td>\n",
       "      <td>2732514</td>\n",
       "      <td>918158</td>\n",
       "    </tr>\n",
       "    <tr>\n",
       "      <th>Youth</th>\n",
       "      <td>0</td>\n",
       "      <td>1405140</td>\n",
       "      <td>0</td>\n",
       "      <td>437616</td>\n",
       "    </tr>\n",
       "  </tbody>\n",
       "</table>\n",
       "</div>"
      ],
      "text/plain": [
       "fam_status   divorced/widowed  living with parents and siblings   married  \\\n",
       "age_group                                                                   \n",
       "Adult                       0                                 0  10332440   \n",
       "Senior                2510623                                 0   7488324   \n",
       "Young Adult                 0                                 0   2732514   \n",
       "Youth                       0                           1405140         0   \n",
       "\n",
       "fam_status    single  \n",
       "age_group             \n",
       "Adult        3446123  \n",
       "Senior             0  \n",
       "Young Adult   918158  \n",
       "Youth         437616  "
      ]
     },
     "execution_count": 94,
     "metadata": {},
     "output_type": "execute_result"
    }
   ],
   "source": [
    "crosstab_age_fam_status"
   ]
  },
  {
   "cell_type": "code",
   "execution_count": 95,
   "id": "49bc7cc8",
   "metadata": {},
   "outputs": [
    {
     "data": {
      "image/png": "[encoded data removed]",
      "text/plain": [
       "<Figure size 1000x600 with 1 Axes>"
      ]
     },
     "metadata": {},
     "output_type": "display_data"
    }
   ],
   "source": [
    "# Sort the DataFrame by the total frequency of orders in each price range\n",
    "crosstab_age_fam_status_sorted = crosstab_age_fam_status.sum(axis=1).sort_values(ascending=False)\n",
    "crosstab_age_fam_status_sorted = crosstab_age_fam_status.loc[crosstab_age_fam_status_sorted.index]\n",
    "\n",
    "# Plot stacked bar chart with sorted DataFrame\n",
    "colors = ['deepskyblue', 'gold', 'royalblue', 'lavender']\n",
    "crosstab_age_fam_status_sorted.plot(kind='bar', stacked=True, figsize=(10, 6), color=colors)\n",
    "plt.title('Order Frequency by Age Group and Family Status')\n",
    "plt.xlabel('Age Group')\n",
    "plt.ylabel('Frequency')\n",
    "plt.legend(title='Family Status')\n",
    "plt.tight_layout()  # Adjust layout to prevent clipping of labels\n",
    "\n",
    "# Save the plot before displaying it\n",
    "plt.savefig(os.path.join(path, '04 Analysis', 'Visualizations', 'stacked_bar_crosstab_age_fam_status.png'))"
   ]
  },
  {
   "cell_type": "markdown",
   "id": "fe1a55ef",
   "metadata": {},
   "source": [
    "## Export dataframe"
   ]
  },
  {
   "cell_type": "code",
   "execution_count": 99,
   "id": "2eaa59fd",
   "metadata": {},
   "outputs": [],
   "source": [
    "# Export df_exclusion (datafrane with exclusion flag applied)\n",
    "df_exclusion.to_pickle(os.path.join(path, '02 Data','Prepared Data', 'instacart_cust_profile_high_activity.pkl'))"
   ]
  },
  {
   "cell_type": "code",
   "execution_count": 100,
   "id": "e26897bd",
   "metadata": {},
   "outputs": [],
   "source": [
    "# Export instacart (dataframe without exclusion, includes all activities, both high and low activity)\n",
    "instacart.to_pickle(os.path.join(path, '02 Data','Prepared Data', 'instacart_cust_profile_all_activity.pkl'))"
   ]
  },
  {
   "cell_type": "code",
   "execution_count": null,
   "id": "c834962a",
   "metadata": {},
   "outputs": [],
   "source": []
  }
 ],
 "metadata": {
  "kernelspec": {
   "display_name": "Python 3 (ipykernel)",
   "language": "python",
   "name": "python3"
  },
  "language_info": {
   "codemirror_mode": {
    "name": "ipython",
    "version": 3
   },
   "file_extension": ".py",
   "mimetype": "text/x-python",
   "name": "python",
   "nbconvert_exporter": "python",
   "pygments_lexer": "ipython3",
   "version": "3.11.7"
  }
 },
 "nbformat": 4,
 "nbformat_minor": 5
}
