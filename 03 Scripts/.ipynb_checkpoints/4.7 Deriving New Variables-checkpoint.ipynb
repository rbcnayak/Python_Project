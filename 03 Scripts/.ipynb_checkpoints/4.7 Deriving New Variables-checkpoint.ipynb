{
 "cells": [
  {
   "cell_type": "markdown",
   "id": "e40eeb55-f62e-4b6c-adb8-b99f67554f9f",
   "metadata": {},
   "source": [
    "## 01. Importing libraries"
   ]
  },
  {
   "cell_type": "code",
   "execution_count": 1,
   "id": "af7c8549-9e47-4104-bdee-9ce373ca7021",
   "metadata": {},
   "outputs": [],
   "source": [
    "# Import libraries\n",
    "import pandas as pd\n",
    "import numpy as np\n",
    "import os"
   ]
  },
  {
   "cell_type": "markdown",
   "id": "a783d58a-0964-4799-aaeb-d083806d39d3",
   "metadata": {},
   "source": [
    "## 02. Importing Data"
   ]
  },
  {
   "cell_type": "code",
   "execution_count": 2,
   "id": "5909e727-a500-4ec1-96bc-82fe46347247",
   "metadata": {},
   "outputs": [],
   "source": [
    "# Import Data ords_prods_merge dataframe, use path: \n",
    "path = r'/Users/rose/Documents/Career Foundry/Instacart Basket Analysis'"
   ]
  },
  {
   "cell_type": "code",
   "execution_count": 3,
   "id": "7f8e8538-ec12-436e-a43d-a561578d44e5",
   "metadata": {},
   "outputs": [],
   "source": [
    "df_ords_prods_merge = pd.read_pickle(os.path.join(path, '02 Data', 'Prepared Data', 'ords_prods_merge.pkl'))"
   ]
  },
  {
   "cell_type": "code",
   "execution_count": 4,
   "id": "39dbcd97",
   "metadata": {},
   "outputs": [
    {
     "data": {
      "text/plain": [
       "(32404859, 14)"
      ]
     },
     "execution_count": 4,
     "metadata": {},
     "output_type": "execute_result"
    }
   ],
   "source": [
    "df_ords_prods_merge.shape"
   ]
  },
  {
   "cell_type": "code",
   "execution_count": 5,
   "id": "ec03549e-377f-4451-8076-663f4e53c214",
   "metadata": {},
   "outputs": [],
   "source": [
    "# Create a subset\n",
    "df = df_ords_prods_merge[:1000000]"
   ]
  },
  {
   "cell_type": "code",
   "execution_count": 6,
   "id": "c10091ca-a5a8-4986-ab4a-3ac9a7d77482",
   "metadata": {},
   "outputs": [
    {
     "data": {
      "text/html": [
       "<div>\n",
       "<style scoped>\n",
       "    .dataframe tbody tr th:only-of-type {\n",
       "        vertical-align: middle;\n",
       "    }\n",
       "\n",
       "    .dataframe tbody tr th {\n",
       "        vertical-align: top;\n",
       "    }\n",
       "\n",
       "    .dataframe thead th {\n",
       "        text-align: right;\n",
       "    }\n",
       "</style>\n",
       "<table border=\"1\" class=\"dataframe\">\n",
       "  <thead>\n",
       "    <tr style=\"text-align: right;\">\n",
       "      <th></th>\n",
       "      <th>order_id</th>\n",
       "      <th>user_id</th>\n",
       "      <th>order_number</th>\n",
       "      <th>orders_day_of_week</th>\n",
       "      <th>order_hour_of_day</th>\n",
       "      <th>days_since_prior_order</th>\n",
       "      <th>product_id</th>\n",
       "      <th>add_to_cart_order</th>\n",
       "      <th>reordered</th>\n",
       "      <th>product_name</th>\n",
       "      <th>aisle_id</th>\n",
       "      <th>department_id</th>\n",
       "      <th>prices</th>\n",
       "      <th>_merge</th>\n",
       "    </tr>\n",
       "  </thead>\n",
       "  <tbody>\n",
       "    <tr>\n",
       "      <th>0</th>\n",
       "      <td>2539329</td>\n",
       "      <td>1</td>\n",
       "      <td>1</td>\n",
       "      <td>2</td>\n",
       "      <td>8</td>\n",
       "      <td>NaN</td>\n",
       "      <td>196</td>\n",
       "      <td>1</td>\n",
       "      <td>0</td>\n",
       "      <td>Soda</td>\n",
       "      <td>77</td>\n",
       "      <td>7</td>\n",
       "      <td>9.0</td>\n",
       "      <td>both</td>\n",
       "    </tr>\n",
       "    <tr>\n",
       "      <th>1</th>\n",
       "      <td>2398795</td>\n",
       "      <td>1</td>\n",
       "      <td>2</td>\n",
       "      <td>3</td>\n",
       "      <td>7</td>\n",
       "      <td>15.0</td>\n",
       "      <td>196</td>\n",
       "      <td>1</td>\n",
       "      <td>1</td>\n",
       "      <td>Soda</td>\n",
       "      <td>77</td>\n",
       "      <td>7</td>\n",
       "      <td>9.0</td>\n",
       "      <td>both</td>\n",
       "    </tr>\n",
       "    <tr>\n",
       "      <th>2</th>\n",
       "      <td>473747</td>\n",
       "      <td>1</td>\n",
       "      <td>3</td>\n",
       "      <td>3</td>\n",
       "      <td>12</td>\n",
       "      <td>21.0</td>\n",
       "      <td>196</td>\n",
       "      <td>1</td>\n",
       "      <td>1</td>\n",
       "      <td>Soda</td>\n",
       "      <td>77</td>\n",
       "      <td>7</td>\n",
       "      <td>9.0</td>\n",
       "      <td>both</td>\n",
       "    </tr>\n",
       "    <tr>\n",
       "      <th>3</th>\n",
       "      <td>2254736</td>\n",
       "      <td>1</td>\n",
       "      <td>4</td>\n",
       "      <td>4</td>\n",
       "      <td>7</td>\n",
       "      <td>29.0</td>\n",
       "      <td>196</td>\n",
       "      <td>1</td>\n",
       "      <td>1</td>\n",
       "      <td>Soda</td>\n",
       "      <td>77</td>\n",
       "      <td>7</td>\n",
       "      <td>9.0</td>\n",
       "      <td>both</td>\n",
       "    </tr>\n",
       "    <tr>\n",
       "      <th>4</th>\n",
       "      <td>431534</td>\n",
       "      <td>1</td>\n",
       "      <td>5</td>\n",
       "      <td>4</td>\n",
       "      <td>15</td>\n",
       "      <td>28.0</td>\n",
       "      <td>196</td>\n",
       "      <td>1</td>\n",
       "      <td>1</td>\n",
       "      <td>Soda</td>\n",
       "      <td>77</td>\n",
       "      <td>7</td>\n",
       "      <td>9.0</td>\n",
       "      <td>both</td>\n",
       "    </tr>\n",
       "  </tbody>\n",
       "</table>\n",
       "</div>"
      ],
      "text/plain": [
       "   order_id  user_id  order_number  orders_day_of_week  order_hour_of_day  \\\n",
       "0   2539329        1             1                   2                  8   \n",
       "1   2398795        1             2                   3                  7   \n",
       "2    473747        1             3                   3                 12   \n",
       "3   2254736        1             4                   4                  7   \n",
       "4    431534        1             5                   4                 15   \n",
       "\n",
       "   days_since_prior_order  product_id  add_to_cart_order  reordered  \\\n",
       "0                     NaN         196                  1          0   \n",
       "1                    15.0         196                  1          1   \n",
       "2                    21.0         196                  1          1   \n",
       "3                    29.0         196                  1          1   \n",
       "4                    28.0         196                  1          1   \n",
       "\n",
       "  product_name  aisle_id  department_id  prices _merge  \n",
       "0         Soda        77              7     9.0   both  \n",
       "1         Soda        77              7     9.0   both  \n",
       "2         Soda        77              7     9.0   both  \n",
       "3         Soda        77              7     9.0   both  \n",
       "4         Soda        77              7     9.0   both  "
      ]
     },
     "execution_count": 6,
     "metadata": {},
     "output_type": "execute_result"
    }
   ],
   "source": [
    "df.head()"
   ]
  },
  {
   "cell_type": "code",
   "execution_count": 7,
   "id": "3fc97f95-5e7a-43f3-833f-2b007c6b8f9e",
   "metadata": {},
   "outputs": [
    {
     "data": {
      "text/plain": [
       "(1000000, 14)"
      ]
     },
     "execution_count": 7,
     "metadata": {},
     "output_type": "execute_result"
    }
   ],
   "source": [
    "df.shape"
   ]
  },
  {
   "cell_type": "code",
   "execution_count": 8,
   "id": "af846832",
   "metadata": {},
   "outputs": [
    {
     "data": {
      "text/plain": [
       "14.8"
      ]
     },
     "execution_count": 8,
     "metadata": {},
     "output_type": "execute_result"
    }
   ],
   "source": [
    "max_price = df['prices'].max()\n",
    "max_price"
   ]
  },
  {
   "cell_type": "code",
   "execution_count": 9,
   "id": "57f1d81d-7b7d-4597-b375-4ac6e920a160",
   "metadata": {},
   "outputs": [],
   "source": [
    "# Define a custom function\n",
    "def price_label(row):\n",
    "\n",
    "  if row['prices'] <= 5:\n",
    "    return 'Low-range product'\n",
    "  elif (row['prices'] > 5) and (row['prices'] <= 15):\n",
    "    return 'Mid-range product'\n",
    "  elif row['prices'] > 15:\n",
    "    return 'High range'\n",
    "  else: return 'Not enough data'"
   ]
  },
  {
   "cell_type": "code",
   "execution_count": 10,
   "id": "92367653-816e-4baa-9808-2dc4963b68ea",
   "metadata": {},
   "outputs": [
    {
     "name": "stderr",
     "output_type": "stream",
     "text": [
      "/var/folders/3d/n4rd9d4920lcv99lmvhn9ghr0000gp/T/ipykernel_37687/2881021499.py:2: SettingWithCopyWarning: \n",
      "A value is trying to be set on a copy of a slice from a DataFrame.\n",
      "Try using .loc[row_indexer,col_indexer] = value instead\n",
      "\n",
      "See the caveats in the documentation: https://pandas.pydata.org/pandas-docs/stable/user_guide/indexing.html#returning-a-view-versus-a-copy\n",
      "  df['price_range'] = df.apply(price_label, axis=1)\n"
     ]
    }
   ],
   "source": [
    "# For the subset defined above, df: Create a new column 'price_range' and to apply the custom function 'price_label' to all rows (axis=1)\n",
    "df['price_range'] = df.apply(price_label, axis=1)"
   ]
  },
  {
   "cell_type": "code",
   "execution_count": 11,
   "id": "ccf80a20-db53-46fd-8d20-8a9d3e270460",
   "metadata": {},
   "outputs": [
    {
     "data": {
      "text/plain": [
       "price_range\n",
       "Mid-range product    756450\n",
       "Low-range product    243550\n",
       "Name: count, dtype: int64"
      ]
     },
     "execution_count": 11,
     "metadata": {},
     "output_type": "execute_result"
    }
   ],
   "source": [
    "# Use the value_counts() function to count the number of products within each label\n",
    "df['price_range'].value_counts(dropna = False)"
   ]
  },
  {
   "cell_type": "code",
   "execution_count": 12,
   "id": "49f37818-7ccf-49b2-b18a-a5956bda7cbe",
   "metadata": {},
   "outputs": [
    {
     "data": {
      "text/plain": [
       "14.8"
      ]
     },
     "execution_count": 12,
     "metadata": {},
     "output_type": "execute_result"
    }
   ],
   "source": [
    "# Checked for highest priced item within the subset to verify the accuracy of the value count results, which indicates zero items in the high-range tier\n",
    "df['prices'].max()"
   ]
  },
  {
   "cell_type": "code",
   "execution_count": 13,
   "id": "0e923dec-304d-4641-8abd-c112c785b0ff",
   "metadata": {},
   "outputs": [],
   "source": [
    "# Use of If statements, using the predefined function loc() to create a new column 'price_range_loc' in df"
   ]
  },
  {
   "cell_type": "code",
   "execution_count": 14,
   "id": "01e049fc-48ac-405b-a0cd-29acfaff64cc",
   "metadata": {},
   "outputs": [
    {
     "name": "stderr",
     "output_type": "stream",
     "text": [
      "/var/folders/3d/n4rd9d4920lcv99lmvhn9ghr0000gp/T/ipykernel_37687/1169838859.py:1: SettingWithCopyWarning: \n",
      "A value is trying to be set on a copy of a slice from a DataFrame.\n",
      "Try using .loc[row_indexer,col_indexer] = value instead\n",
      "\n",
      "See the caveats in the documentation: https://pandas.pydata.org/pandas-docs/stable/user_guide/indexing.html#returning-a-view-versus-a-copy\n",
      "  df.loc[df['prices'] > 15, 'price_range_loc'] = 'High-range product'\n"
     ]
    }
   ],
   "source": [
    "df.loc[df['prices'] > 15, 'price_range_loc'] = 'High-range product'"
   ]
  },
  {
   "cell_type": "code",
   "execution_count": 15,
   "id": "ba603190-6189-4e75-bc1a-d8cb381abf8f",
   "metadata": {},
   "outputs": [],
   "source": [
    "df.loc[(df['prices'] <= 15) & (df['prices'] > 5), 'price_range_loc'] = 'Mid-range product'"
   ]
  },
  {
   "cell_type": "code",
   "execution_count": 16,
   "id": "2f27e475-fc92-4030-911e-a8eafba1016e",
   "metadata": {},
   "outputs": [],
   "source": [
    "df.loc[df['prices'] <= 5, 'price_range_loc'] = 'Low-range product'"
   ]
  },
  {
   "cell_type": "code",
   "execution_count": 17,
   "id": "3035d4f9-386c-45b0-90d4-0729ab03eebd",
   "metadata": {},
   "outputs": [
    {
     "data": {
      "text/plain": [
       "price_range_loc\n",
       "Mid-range product    756450\n",
       "Low-range product    243550\n",
       "Name: count, dtype: int64"
      ]
     },
     "execution_count": 17,
     "metadata": {},
     "output_type": "execute_result"
    }
   ],
   "source": [
    "df['price_range_loc'].value_counts(dropna = False)"
   ]
  },
  {
   "cell_type": "code",
   "execution_count": 18,
   "id": "8f4327c5",
   "metadata": {},
   "outputs": [
    {
     "data": {
      "text/plain": [
       "[9.0,\n",
       " 12.5,\n",
       " 4.4,\n",
       " 4.7,\n",
       " 1.0,\n",
       " 3.0,\n",
       " 10.3,\n",
       " 4.0,\n",
       " 8.6,\n",
       " 3.2,\n",
       " 2.7,\n",
       " 14.0,\n",
       " 5.0,\n",
       " 13.4,\n",
       " 1.8,\n",
       " 6.8,\n",
       " 12.6,\n",
       " 1.3,\n",
       " 5.2,\n",
       " 6.3,\n",
       " 2.3,\n",
       " 10.9,\n",
       " 4.1,\n",
       " 9.4,\n",
       " 14.8,\n",
       " 7.5]"
      ]
     },
     "execution_count": 18,
     "metadata": {},
     "output_type": "execute_result"
    }
   ],
   "source": [
    "df['prices'].unique().tolist()"
   ]
  },
  {
   "cell_type": "code",
   "execution_count": 19,
   "id": "2c3be732",
   "metadata": {},
   "outputs": [
    {
     "data": {
      "text/plain": [
       "prices\n",
       "10.3    379450\n",
       "6.3     176815\n",
       "1.8      76360\n",
       "1.3      57895\n",
       "7.5      57198\n",
       "5.0      42605\n",
       "14.8     41473\n",
       "9.0      35791\n",
       "3.2      21490\n",
       "12.5     15935\n",
       "14.0     13880\n",
       "12.6     13238\n",
       "4.1      10557\n",
       "2.3      10195\n",
       "13.4      8558\n",
       "2.7       8538\n",
       "4.4       6476\n",
       "8.6       6196\n",
       "6.8       5019\n",
       "4.0       3751\n",
       "4.7       2523\n",
       "3.0       1946\n",
       "5.2       1370\n",
       "1.0       1214\n",
       "10.9      1166\n",
       "9.4        361\n",
       "Name: count, dtype: int64"
      ]
     },
     "execution_count": 19,
     "metadata": {},
     "output_type": "execute_result"
    }
   ],
   "source": [
    "df['prices'].value_counts(dropna = False)"
   ]
  },
  {
   "cell_type": "markdown",
   "id": "76a2b12f-9f2a-426e-9c47-0cebe28bdd09",
   "metadata": {},
   "source": [
    "## 03. Creating 'Price_range_loc' & 'Busiest day' columns"
   ]
  },
  {
   "cell_type": "code",
   "execution_count": 20,
   "id": "2c30edae",
   "metadata": {
    "scrolled": true
   },
   "outputs": [
    {
     "data": {
      "text/plain": [
       "(32404859, 14)"
      ]
     },
     "execution_count": 20,
     "metadata": {},
     "output_type": "execute_result"
    }
   ],
   "source": [
    "df_ords_prods_merge.shape"
   ]
  },
  {
   "cell_type": "code",
   "execution_count": 21,
   "id": "24b6f46b",
   "metadata": {},
   "outputs": [
    {
     "data": {
      "text/html": [
       "<div>\n",
       "<style scoped>\n",
       "    .dataframe tbody tr th:only-of-type {\n",
       "        vertical-align: middle;\n",
       "    }\n",
       "\n",
       "    .dataframe tbody tr th {\n",
       "        vertical-align: top;\n",
       "    }\n",
       "\n",
       "    .dataframe thead th {\n",
       "        text-align: right;\n",
       "    }\n",
       "</style>\n",
       "<table border=\"1\" class=\"dataframe\">\n",
       "  <thead>\n",
       "    <tr style=\"text-align: right;\">\n",
       "      <th></th>\n",
       "      <th>order_id</th>\n",
       "      <th>user_id</th>\n",
       "      <th>order_number</th>\n",
       "      <th>orders_day_of_week</th>\n",
       "      <th>order_hour_of_day</th>\n",
       "      <th>days_since_prior_order</th>\n",
       "      <th>product_id</th>\n",
       "      <th>add_to_cart_order</th>\n",
       "      <th>reordered</th>\n",
       "      <th>aisle_id</th>\n",
       "      <th>department_id</th>\n",
       "      <th>prices</th>\n",
       "    </tr>\n",
       "  </thead>\n",
       "  <tbody>\n",
       "    <tr>\n",
       "      <th>count</th>\n",
       "      <td>3.240486e+07</td>\n",
       "      <td>3.240486e+07</td>\n",
       "      <td>3.240486e+07</td>\n",
       "      <td>3.240486e+07</td>\n",
       "      <td>3.240486e+07</td>\n",
       "      <td>3.032876e+07</td>\n",
       "      <td>3.240486e+07</td>\n",
       "      <td>3.240486e+07</td>\n",
       "      <td>3.240486e+07</td>\n",
       "      <td>3.240486e+07</td>\n",
       "      <td>3.240486e+07</td>\n",
       "      <td>3.240486e+07</td>\n",
       "    </tr>\n",
       "    <tr>\n",
       "      <th>mean</th>\n",
       "      <td>1.710745e+06</td>\n",
       "      <td>1.029372e+05</td>\n",
       "      <td>1.714230e+01</td>\n",
       "      <td>2.738867e+00</td>\n",
       "      <td>1.342515e+01</td>\n",
       "      <td>1.110408e+01</td>\n",
       "      <td>2.559866e+04</td>\n",
       "      <td>8.352547e+00</td>\n",
       "      <td>5.895873e-01</td>\n",
       "      <td>7.119612e+01</td>\n",
       "      <td>9.919792e+00</td>\n",
       "      <td>1.198023e+01</td>\n",
       "    </tr>\n",
       "    <tr>\n",
       "      <th>std</th>\n",
       "      <td>9.872988e+05</td>\n",
       "      <td>5.946610e+04</td>\n",
       "      <td>1.753532e+01</td>\n",
       "      <td>2.090077e+00</td>\n",
       "      <td>4.246380e+00</td>\n",
       "      <td>8.779064e+00</td>\n",
       "      <td>1.408400e+04</td>\n",
       "      <td>7.127071e+00</td>\n",
       "      <td>4.919087e-01</td>\n",
       "      <td>3.821139e+01</td>\n",
       "      <td>6.281485e+00</td>\n",
       "      <td>4.956554e+02</td>\n",
       "    </tr>\n",
       "    <tr>\n",
       "      <th>min</th>\n",
       "      <td>2.000000e+00</td>\n",
       "      <td>1.000000e+00</td>\n",
       "      <td>1.000000e+00</td>\n",
       "      <td>0.000000e+00</td>\n",
       "      <td>0.000000e+00</td>\n",
       "      <td>0.000000e+00</td>\n",
       "      <td>1.000000e+00</td>\n",
       "      <td>1.000000e+00</td>\n",
       "      <td>0.000000e+00</td>\n",
       "      <td>1.000000e+00</td>\n",
       "      <td>1.000000e+00</td>\n",
       "      <td>1.000000e+00</td>\n",
       "    </tr>\n",
       "    <tr>\n",
       "      <th>25%</th>\n",
       "      <td>8.559470e+05</td>\n",
       "      <td>5.142200e+04</td>\n",
       "      <td>5.000000e+00</td>\n",
       "      <td>1.000000e+00</td>\n",
       "      <td>1.000000e+01</td>\n",
       "      <td>5.000000e+00</td>\n",
       "      <td>1.354400e+04</td>\n",
       "      <td>3.000000e+00</td>\n",
       "      <td>0.000000e+00</td>\n",
       "      <td>3.100000e+01</td>\n",
       "      <td>4.000000e+00</td>\n",
       "      <td>4.200000e+00</td>\n",
       "    </tr>\n",
       "    <tr>\n",
       "      <th>50%</th>\n",
       "      <td>1.711049e+06</td>\n",
       "      <td>1.026160e+05</td>\n",
       "      <td>1.100000e+01</td>\n",
       "      <td>3.000000e+00</td>\n",
       "      <td>1.300000e+01</td>\n",
       "      <td>8.000000e+00</td>\n",
       "      <td>2.530200e+04</td>\n",
       "      <td>6.000000e+00</td>\n",
       "      <td>1.000000e+00</td>\n",
       "      <td>8.300000e+01</td>\n",
       "      <td>9.000000e+00</td>\n",
       "      <td>7.400000e+00</td>\n",
       "    </tr>\n",
       "    <tr>\n",
       "      <th>75%</th>\n",
       "      <td>2.565499e+06</td>\n",
       "      <td>1.543890e+05</td>\n",
       "      <td>2.400000e+01</td>\n",
       "      <td>5.000000e+00</td>\n",
       "      <td>1.600000e+01</td>\n",
       "      <td>1.500000e+01</td>\n",
       "      <td>3.794700e+04</td>\n",
       "      <td>1.100000e+01</td>\n",
       "      <td>1.000000e+00</td>\n",
       "      <td>1.070000e+02</td>\n",
       "      <td>1.600000e+01</td>\n",
       "      <td>1.130000e+01</td>\n",
       "    </tr>\n",
       "    <tr>\n",
       "      <th>max</th>\n",
       "      <td>3.421083e+06</td>\n",
       "      <td>2.062090e+05</td>\n",
       "      <td>9.900000e+01</td>\n",
       "      <td>6.000000e+00</td>\n",
       "      <td>2.300000e+01</td>\n",
       "      <td>3.000000e+01</td>\n",
       "      <td>4.968800e+04</td>\n",
       "      <td>1.450000e+02</td>\n",
       "      <td>1.000000e+00</td>\n",
       "      <td>1.340000e+02</td>\n",
       "      <td>2.100000e+01</td>\n",
       "      <td>9.999900e+04</td>\n",
       "    </tr>\n",
       "  </tbody>\n",
       "</table>\n",
       "</div>"
      ],
      "text/plain": [
       "           order_id       user_id  order_number  orders_day_of_week  \\\n",
       "count  3.240486e+07  3.240486e+07  3.240486e+07        3.240486e+07   \n",
       "mean   1.710745e+06  1.029372e+05  1.714230e+01        2.738867e+00   \n",
       "std    9.872988e+05  5.946610e+04  1.753532e+01        2.090077e+00   \n",
       "min    2.000000e+00  1.000000e+00  1.000000e+00        0.000000e+00   \n",
       "25%    8.559470e+05  5.142200e+04  5.000000e+00        1.000000e+00   \n",
       "50%    1.711049e+06  1.026160e+05  1.100000e+01        3.000000e+00   \n",
       "75%    2.565499e+06  1.543890e+05  2.400000e+01        5.000000e+00   \n",
       "max    3.421083e+06  2.062090e+05  9.900000e+01        6.000000e+00   \n",
       "\n",
       "       order_hour_of_day  days_since_prior_order    product_id  \\\n",
       "count       3.240486e+07            3.032876e+07  3.240486e+07   \n",
       "mean        1.342515e+01            1.110408e+01  2.559866e+04   \n",
       "std         4.246380e+00            8.779064e+00  1.408400e+04   \n",
       "min         0.000000e+00            0.000000e+00  1.000000e+00   \n",
       "25%         1.000000e+01            5.000000e+00  1.354400e+04   \n",
       "50%         1.300000e+01            8.000000e+00  2.530200e+04   \n",
       "75%         1.600000e+01            1.500000e+01  3.794700e+04   \n",
       "max         2.300000e+01            3.000000e+01  4.968800e+04   \n",
       "\n",
       "       add_to_cart_order     reordered      aisle_id  department_id  \\\n",
       "count       3.240486e+07  3.240486e+07  3.240486e+07   3.240486e+07   \n",
       "mean        8.352547e+00  5.895873e-01  7.119612e+01   9.919792e+00   \n",
       "std         7.127071e+00  4.919087e-01  3.821139e+01   6.281485e+00   \n",
       "min         1.000000e+00  0.000000e+00  1.000000e+00   1.000000e+00   \n",
       "25%         3.000000e+00  0.000000e+00  3.100000e+01   4.000000e+00   \n",
       "50%         6.000000e+00  1.000000e+00  8.300000e+01   9.000000e+00   \n",
       "75%         1.100000e+01  1.000000e+00  1.070000e+02   1.600000e+01   \n",
       "max         1.450000e+02  1.000000e+00  1.340000e+02   2.100000e+01   \n",
       "\n",
       "             prices  \n",
       "count  3.240486e+07  \n",
       "mean   1.198023e+01  \n",
       "std    4.956554e+02  \n",
       "min    1.000000e+00  \n",
       "25%    4.200000e+00  \n",
       "50%    7.400000e+00  \n",
       "75%    1.130000e+01  \n",
       "max    9.999900e+04  "
      ]
     },
     "execution_count": 21,
     "metadata": {},
     "output_type": "execute_result"
    }
   ],
   "source": [
    "df_ords_prods_merge.describe()"
   ]
  },
  {
   "cell_type": "code",
   "execution_count": 22,
   "id": "d6d08c46",
   "metadata": {},
   "outputs": [
    {
     "data": {
      "text/plain": [
       "99999.0"
      ]
     },
     "execution_count": 22,
     "metadata": {},
     "output_type": "execute_result"
    }
   ],
   "source": [
    "# Checked for highest priced item-- find outliers\n",
    "df_ords_prods_merge['prices'].max()"
   ]
  },
  {
   "cell_type": "code",
   "execution_count": 23,
   "id": "978460a2",
   "metadata": {},
   "outputs": [
    {
     "data": {
      "text/plain": [
       "prices\n",
       "12.3       624261\n",
       "10.3       510496\n",
       "4.0        447272\n",
       "6.3        438467\n",
       "1.3        425691\n",
       "7.3        411924\n",
       "8.2        404015\n",
       "1.4        392209\n",
       "6.7        379126\n",
       "4.5        367223\n",
       "4.4        357026\n",
       "6.8        354168\n",
       "7.9        342988\n",
       "14.3       334811\n",
       "13.2       333183\n",
       "5.7        323997\n",
       "1.8        321184\n",
       "9.1        320782\n",
       "4.9        318220\n",
       "8.8        318091\n",
       "3.8        315426\n",
       "6.9        314196\n",
       "14.0       311640\n",
       "12.8       309727\n",
       "11.4       303015\n",
       "3.6        300127\n",
       "1.6        299352\n",
       "2.0        286259\n",
       "11.8       284476\n",
       "5.3        284243\n",
       "7.0        282884\n",
       "14.7       279291\n",
       "6.5        278357\n",
       "8.3        276230\n",
       "4.1        268269\n",
       "2.9        264700\n",
       "1.2        256258\n",
       "8.6        254009\n",
       "3.2        253782\n",
       "5.2        251509\n",
       "5.5        250136\n",
       "3.1        249256\n",
       "2.5        246421\n",
       "4.2        245755\n",
       "6.1        244209\n",
       "1.1        242782\n",
       "2.3        242051\n",
       "5.8        241047\n",
       "7.5        239261\n",
       "14.1       238211\n",
       "3.3        238041\n",
       "10.5       237657\n",
       "7.4        233506\n",
       "9.0        228576\n",
       "8.4        227493\n",
       "5.0        225904\n",
       "13.4       225843\n",
       "11.5       225399\n",
       "5.1        224797\n",
       "3.4        223571\n",
       "7.2        223120\n",
       "3.5        222786\n",
       "3.7        222159\n",
       "4.7        221048\n",
       "8.9        219412\n",
       "9.6        216626\n",
       "13.5       216276\n",
       "1.7        213967\n",
       "11.3       212926\n",
       "3.9        212805\n",
       "11.2       212323\n",
       "2.6        211936\n",
       "5.9        208900\n",
       "5.4        206769\n",
       "6.4        206468\n",
       "11.7       206199\n",
       "2.1        206004\n",
       "6.6        204936\n",
       "10.6       204804\n",
       "2.7        199785\n",
       "9.4        197179\n",
       "6.0        196985\n",
       "2.4        196042\n",
       "9.8        194754\n",
       "4.8        193853\n",
       "3.0        192650\n",
       "10.7       191705\n",
       "7.7        190070\n",
       "14.8       188844\n",
       "12.2       188444\n",
       "7.8        186923\n",
       "5.6        183638\n",
       "11.0       183505\n",
       "9.2        182411\n",
       "12.1       181986\n",
       "13.7       181882\n",
       "6.2        178656\n",
       "8.1        176805\n",
       "12.6       174427\n",
       "13.3       173797\n",
       "13.6       172962\n",
       "11.1       169709\n",
       "9.9        169251\n",
       "9.3        168917\n",
       "14.4       168272\n",
       "8.7        166742\n",
       "9.5        165789\n",
       "10.2       165789\n",
       "10.9       165607\n",
       "12.0       164717\n",
       "13.8       162616\n",
       "4.3        162367\n",
       "12.9       160860\n",
       "2.2        160243\n",
       "14.9       156433\n",
       "1.9        156179\n",
       "1.5        154527\n",
       "2.8        153979\n",
       "12.5       152781\n",
       "8.0        151542\n",
       "11.6       148742\n",
       "13.9       145234\n",
       "4.6        144069\n",
       "7.1        140813\n",
       "14.6       139880\n",
       "10.1       139263\n",
       "8.5        139244\n",
       "10.4       133058\n",
       "14.5       129540\n",
       "10.0       127842\n",
       "11.9       127349\n",
       "12.7       124544\n",
       "9.7        120777\n",
       "14.2       119314\n",
       "13.1       117047\n",
       "1.0        115143\n",
       "13.0       114503\n",
       "7.6        113878\n",
       "12.4        97866\n",
       "15.0        97261\n",
       "10.8        89927\n",
       "21.1        33805\n",
       "19.6        28383\n",
       "22.3        19430\n",
       "24.2        15891\n",
       "18.2        14923\n",
       "23.2        14866\n",
       "25.0        13772\n",
       "23.8        12585\n",
       "21.6        10598\n",
       "18.7        10503\n",
       "23.1         9135\n",
       "23.6         8458\n",
       "18.6         8451\n",
       "18.1         8027\n",
       "21.3         7647\n",
       "15.3         7495\n",
       "24.7         7283\n",
       "20.7         6568\n",
       "19.3         6537\n",
       "24.9         5781\n",
       "20.0         5775\n",
       "19.7         5538\n",
       "19.4         5457\n",
       "20.4         5351\n",
       "22.1         5204\n",
       "15.9         5078\n",
       "16.9         4971\n",
       "23.3         4803\n",
       "16.8         4795\n",
       "15.7         4551\n",
       "14900.0      4429\n",
       "18.8         4363\n",
       "24.0         4327\n",
       "17.3         4309\n",
       "17.1         4231\n",
       "16.6         4212\n",
       "16.4         3892\n",
       "22.9         3884\n",
       "17.0         3836\n",
       "20.1         3745\n",
       "23.0         3265\n",
       "18.5         3105\n",
       "16.7         3105\n",
       "19.1         2926\n",
       "24.3         2889\n",
       "19.0         2823\n",
       "21.7         2553\n",
       "16.5         2541\n",
       "15.1         2422\n",
       "15.5         2325\n",
       "22.6         2275\n",
       "24.5         2148\n",
       "23.9         2074\n",
       "17.7         2073\n",
       "24.6         1962\n",
       "23.5         1924\n",
       "16.2         1823\n",
       "18.4         1762\n",
       "17.4         1721\n",
       "16.1         1622\n",
       "23.7         1346\n",
       "22.4         1280\n",
       "16.0         1272\n",
       "22.0         1182\n",
       "22.2         1178\n",
       "15.4         1175\n",
       "20.6         1167\n",
       "18.0         1135\n",
       "22.8         1089\n",
       "20.9         1075\n",
       "17.2         1001\n",
       "19.2          981\n",
       "17.8          981\n",
       "24.1          978\n",
       "20.5          945\n",
       "19.9          887\n",
       "20.8          852\n",
       "15.8          772\n",
       "22.5          706\n",
       "99999.0       698\n",
       "21.9          689\n",
       "17.6          640\n",
       "21.8          546\n",
       "24.4          499\n",
       "15.2          494\n",
       "18.9          483\n",
       "19.5          453\n",
       "24.8          410\n",
       "17.5          369\n",
       "23.4          368\n",
       "19.8          344\n",
       "15.6          333\n",
       "16.3          287\n",
       "20.3          236\n",
       "21.4          137\n",
       "17.9          137\n",
       "20.2          123\n",
       "22.7           99\n",
       "21.5           85\n",
       "18.3           11\n",
       "21.0            8\n",
       "Name: count, dtype: int64"
      ]
     },
     "execution_count": 23,
     "metadata": {},
     "output_type": "execute_result"
    }
   ],
   "source": [
    "# Adjust display options\n",
    "pd.set_option('display.max_rows', None)  # Show all rows\n",
    "pd.set_option('display.max_columns', None)  # Show all columns\n",
    "pd.set_option('display.width', None)  # Set width to fit all columns\n",
    "\n",
    "# Run value_counts\n",
    "df_ords_prods_merge['prices'].value_counts(dropna=False)"
   ]
  },
  {
   "cell_type": "code",
   "execution_count": 24,
   "id": "3dc8ca0d-188b-485d-881b-7eda68f4cfd3",
   "metadata": {},
   "outputs": [],
   "source": [
    "# Use of If-statement with a loc() function, to create a new column 'price_range_loc' in df_ords_prods_merge"
   ]
  },
  {
   "cell_type": "code",
   "execution_count": 25,
   "id": "bd6f8f5e-80dc-4c4c-8a66-1d04445d8464",
   "metadata": {},
   "outputs": [],
   "source": [
    "df_ords_prods_merge.loc[df_ords_prods_merge['prices']  <= 8, 'price_range_loc'] = 'Low Price Range'"
   ]
  },
  {
   "cell_type": "code",
   "execution_count": 26,
   "id": "93268a15-79ef-40ac-a95f-f9f1ee639e0b",
   "metadata": {},
   "outputs": [],
   "source": [
    "df_ords_prods_merge.loc[(df_ords_prods_merge['prices'] > 8) & (df_ords_prods_merge['prices'] <= 15), 'price_range_loc'] = 'Mid Price Range'"
   ]
  },
  {
   "cell_type": "code",
   "execution_count": 27,
   "id": "34fa3f83-8014-4531-b84f-b8642e61c36e",
   "metadata": {},
   "outputs": [],
   "source": [
    "df_ords_prods_merge.loc[df_ords_prods_merge['prices'] > 15, 'price_range_loc'] = 'High Price Range'"
   ]
  },
  {
   "cell_type": "code",
   "execution_count": 29,
   "id": "d0dea4d6-d702-44fb-8b22-85954c59b2e6",
   "metadata": {},
   "outputs": [
    {
     "data": {
      "text/plain": [
       "price_range_loc\n",
       "Low Price Range     17613834\n",
       "Mid Price Range     14373347\n",
       "High Price Range      417678\n",
       "Name: count, dtype: int64"
      ]
     },
     "execution_count": 29,
     "metadata": {},
     "output_type": "execute_result"
    }
   ],
   "source": [
    "# Check count \n",
    "df_ords_prods_merge['price_range_loc'].value_counts(dropna = False)"
   ]
  },
  {
   "cell_type": "code",
   "execution_count": 30,
   "id": "9a3de78f-4740-4df7-9b0e-7e5e4db77e7a",
   "metadata": {},
   "outputs": [
    {
     "data": {
      "text/plain": [
       "orders_day_of_week\n",
       "0    6204182\n",
       "1    5660230\n",
       "6    4496490\n",
       "2    4213830\n",
       "5    4205791\n",
       "3    3840534\n",
       "4    3783802\n",
       "Name: count, dtype: int64"
      ]
     },
     "execution_count": 30,
     "metadata": {},
     "output_type": "execute_result"
    }
   ],
   "source": [
    "# Frequency of orders per day\n",
    "df_ords_prods_merge['orders_day_of_week'].value_counts(dropna = False)"
   ]
  },
  {
   "cell_type": "markdown",
   "id": "c97f366b-d75f-4b1c-911a-3eca760aa661",
   "metadata": {},
   "source": [
    "## 04. Creating 'busiest_day' & 'busiest_days' columns"
   ]
  },
  {
   "cell_type": "code",
   "execution_count": 31,
   "id": "a29d8547",
   "metadata": {},
   "outputs": [],
   "source": [
    "# If-statement with for loop to find out the \"Busiest day\" and  \"Slowest day\"\n",
    "result = []\n",
    "for value in df_ords_prods_merge[\"orders_day_of_week\"]:\n",
    "    if value == 0:\n",
    "        result.append(\"Busiest day\")\n",
    "    elif value == 4:\n",
    "        result.append(\"Slowest day\")\n",
    "    else:\n",
    "        result.append(\"Regularly busy\")"
   ]
  },
  {
   "cell_type": "code",
   "execution_count": 32,
   "id": "e2296771",
   "metadata": {},
   "outputs": [],
   "source": [
    "# Create a new column within df_ords_prods_merge dataframe and set it equal to result\n",
    "df_ords_prods_merge['busiest_day'] = result"
   ]
  },
  {
   "cell_type": "code",
   "execution_count": 33,
   "id": "159a7cf5",
   "metadata": {},
   "outputs": [
    {
     "data": {
      "text/plain": [
       "busiest_day\n",
       "Regularly busy    22416875\n",
       "Busiest day        6204182\n",
       "Slowest day        3783802\n",
       "Name: count, dtype: int64"
      ]
     },
     "execution_count": 33,
     "metadata": {},
     "output_type": "execute_result"
    }
   ],
   "source": [
    "# Check frequency\n",
    "df_ords_prods_merge['busiest_day'].value_counts(dropna = False)"
   ]
  },
  {
   "cell_type": "code",
   "execution_count": 34,
   "id": "f437eba3-141c-4c59-a7d8-d6dfddfca4c0",
   "metadata": {},
   "outputs": [],
   "source": [
    "# Updated If-statement with for loop to reflect new requirement for the two \"Busiest days\" and two \"Slowest days\"\n",
    "result2 = []\n",
    "\n",
    "for value in df_ords_prods_merge[\"orders_day_of_week\"]:\n",
    "  if value == 0 or value == 1:\n",
    "    result2.append(\"Busiest days\")\n",
    "  elif value == 4 or value == 3:\n",
    "    result2.append(\"Slowest days\")\n",
    "  else:\n",
    "    result2.append(\"Regularly busy\")\n"
   ]
  },
  {
   "cell_type": "code",
   "execution_count": 35,
   "id": "1043b076-20a3-4585-a541-267753ed29d4",
   "metadata": {},
   "outputs": [],
   "source": [
    "# Create a new column within df_ords_prods_merge dataframe and set it equal to result2 (will serve as holder for results from the if statement)\n",
    "df_ords_prods_merge['busiest_days'] = result2"
   ]
  },
  {
   "cell_type": "code",
   "execution_count": 36,
   "id": "8d5f3da7-a3c4-4965-ac2a-75616e516bf8",
   "metadata": {},
   "outputs": [
    {
     "data": {
      "text/plain": [
       "busiest_days\n",
       "Regularly busy    12916111\n",
       "Busiest days      11864412\n",
       "Slowest days       7624336\n",
       "Name: count, dtype: int64"
      ]
     },
     "execution_count": 36,
     "metadata": {},
     "output_type": "execute_result"
    }
   ],
   "source": [
    "df_ords_prods_merge['busiest_days'].value_counts(dropna = False)"
   ]
  },
  {
   "cell_type": "code",
   "execution_count": 37,
   "id": "0fb6943f-81d9-42c2-9a26-b960ff38a980",
   "metadata": {},
   "outputs": [
    {
     "data": {
      "text/plain": [
       "(32404859, 17)"
      ]
     },
     "execution_count": 37,
     "metadata": {},
     "output_type": "execute_result"
    }
   ],
   "source": [
    "df_ords_prods_merge.shape"
   ]
  },
  {
   "cell_type": "code",
   "execution_count": 38,
   "id": "0379e599",
   "metadata": {},
   "outputs": [
    {
     "data": {
      "text/plain": [
       "Index(['order_id', 'user_id', 'order_number', 'orders_day_of_week',\n",
       "       'order_hour_of_day', 'days_since_prior_order', 'product_id',\n",
       "       'add_to_cart_order', 'reordered', 'product_name', 'aisle_id',\n",
       "       'department_id', 'prices', '_merge', 'price_range_loc', 'busiest_day',\n",
       "       'busiest_days'],\n",
       "      dtype='object')"
      ]
     },
     "execution_count": 38,
     "metadata": {},
     "output_type": "execute_result"
    }
   ],
   "source": [
    "df_ords_prods_merge.columns"
   ]
  },
  {
   "cell_type": "markdown",
   "id": "afaa5d7c-eb3a-417e-ad56-50c033472cad",
   "metadata": {},
   "source": [
    "With the new requirements, we now capture two days each for both peak and off-peak periods, and the updated numbers reflect these changes. The labeling adjustments are now more concise and meaningful."
   ]
  },
  {
   "cell_type": "markdown",
   "id": "b5a8183c-710e-459b-9f28-fde76ad61289",
   "metadata": {},
   "source": [
    "## 05. Creating “busiest_period_of_day” column"
   ]
  },
  {
   "cell_type": "code",
   "execution_count": 39,
   "id": "6484f023-a82d-487a-9ae6-90e11d7e3403",
   "metadata": {},
   "outputs": [
    {
     "data": {
      "text/plain": [
       "order_hour_of_day\n",
       "10    2761760\n",
       "11    2736140\n",
       "14    2689136\n",
       "15    2662144\n",
       "13    2660954\n",
       "12    2618532\n",
       "16    2535202\n",
       "9     2454203\n",
       "17    2087654\n",
       "8     1718118\n",
       "18    1636502\n",
       "19    1258305\n",
       "20     976156\n",
       "7      891054\n",
       "21     795637\n",
       "22     634225\n",
       "23     402316\n",
       "6      290493\n",
       "0      218769\n",
       "1      115700\n",
       "5       87961\n",
       "2       69375\n",
       "4       53242\n",
       "3       51281\n",
       "Name: count, dtype: int64"
      ]
     },
     "execution_count": 39,
     "metadata": {},
     "output_type": "execute_result"
    }
   ],
   "source": [
    "# Frequency of orders per hour\n",
    "df_ords_prods_merge['order_hour_of_day'].value_counts(dropna = False)"
   ]
  },
  {
   "cell_type": "code",
   "execution_count": 40,
   "id": "acf85e2c-fe90-456d-9e95-75a07734a086",
   "metadata": {},
   "outputs": [],
   "source": [
    "# If-statement with for loop to find out the \"Busiest period of day\"\n",
    "result3 = []\n",
    "\n",
    "for value in df_ords_prods_merge[\"order_hour_of_day\"]:\n",
    "  if value in [10, 11, 14, 15, 13, 12, 16, 9]:\n",
    "    result3.append(\"Most orders\")\n",
    "  elif value in [3, 4, 2, 5, 1, 0, 6, 23]:\n",
    "    result3.append(\"Fewest orders\")\n",
    "  else:\n",
    "    result3.append(\"Average orders\")"
   ]
  },
  {
   "cell_type": "code",
   "execution_count": 41,
   "id": "980a55ce-d990-463a-b925-061163bc9ea3",
   "metadata": {},
   "outputs": [],
   "source": [
    "# Create a new column within df_ords_prods_merge dataframe and set it equal to result3\n",
    "df_ords_prods_merge['busiest_period_of_day'] = result3"
   ]
  },
  {
   "cell_type": "code",
   "execution_count": 42,
   "id": "e2233a20-32c8-48bd-8fb0-7ff11f259947",
   "metadata": {},
   "outputs": [
    {
     "data": {
      "text/plain": [
       "busiest_period_of_day\n",
       "Most orders       21118071\n",
       "Average orders     9997651\n",
       "Fewest orders      1289137\n",
       "Name: count, dtype: int64"
      ]
     },
     "execution_count": 42,
     "metadata": {},
     "output_type": "execute_result"
    }
   ],
   "source": [
    "df_ords_prods_merge['busiest_period_of_day'].value_counts(dropna = False)"
   ]
  },
  {
   "cell_type": "code",
   "execution_count": 43,
   "id": "d78fbb7b-7894-4639-adde-6500bf57c165",
   "metadata": {},
   "outputs": [
    {
     "data": {
      "text/html": [
       "<div>\n",
       "<style scoped>\n",
       "    .dataframe tbody tr th:only-of-type {\n",
       "        vertical-align: middle;\n",
       "    }\n",
       "\n",
       "    .dataframe tbody tr th {\n",
       "        vertical-align: top;\n",
       "    }\n",
       "\n",
       "    .dataframe thead th {\n",
       "        text-align: right;\n",
       "    }\n",
       "</style>\n",
       "<table border=\"1\" class=\"dataframe\">\n",
       "  <thead>\n",
       "    <tr style=\"text-align: right;\">\n",
       "      <th></th>\n",
       "      <th>order_id</th>\n",
       "      <th>user_id</th>\n",
       "      <th>order_number</th>\n",
       "      <th>orders_day_of_week</th>\n",
       "      <th>order_hour_of_day</th>\n",
       "      <th>days_since_prior_order</th>\n",
       "      <th>product_id</th>\n",
       "      <th>add_to_cart_order</th>\n",
       "      <th>reordered</th>\n",
       "      <th>product_name</th>\n",
       "      <th>aisle_id</th>\n",
       "      <th>department_id</th>\n",
       "      <th>prices</th>\n",
       "      <th>_merge</th>\n",
       "      <th>price_range_loc</th>\n",
       "      <th>busiest_day</th>\n",
       "      <th>busiest_days</th>\n",
       "      <th>busiest_period_of_day</th>\n",
       "    </tr>\n",
       "  </thead>\n",
       "  <tbody>\n",
       "    <tr>\n",
       "      <th>0</th>\n",
       "      <td>2539329</td>\n",
       "      <td>1</td>\n",
       "      <td>1</td>\n",
       "      <td>2</td>\n",
       "      <td>8</td>\n",
       "      <td>NaN</td>\n",
       "      <td>196</td>\n",
       "      <td>1</td>\n",
       "      <td>0</td>\n",
       "      <td>Soda</td>\n",
       "      <td>77</td>\n",
       "      <td>7</td>\n",
       "      <td>9.0</td>\n",
       "      <td>both</td>\n",
       "      <td>Mid Price Range</td>\n",
       "      <td>Regularly busy</td>\n",
       "      <td>Regularly busy</td>\n",
       "      <td>Average orders</td>\n",
       "    </tr>\n",
       "    <tr>\n",
       "      <th>1</th>\n",
       "      <td>2398795</td>\n",
       "      <td>1</td>\n",
       "      <td>2</td>\n",
       "      <td>3</td>\n",
       "      <td>7</td>\n",
       "      <td>15.0</td>\n",
       "      <td>196</td>\n",
       "      <td>1</td>\n",
       "      <td>1</td>\n",
       "      <td>Soda</td>\n",
       "      <td>77</td>\n",
       "      <td>7</td>\n",
       "      <td>9.0</td>\n",
       "      <td>both</td>\n",
       "      <td>Mid Price Range</td>\n",
       "      <td>Regularly busy</td>\n",
       "      <td>Slowest days</td>\n",
       "      <td>Average orders</td>\n",
       "    </tr>\n",
       "  </tbody>\n",
       "</table>\n",
       "</div>"
      ],
      "text/plain": [
       "   order_id  user_id  order_number  orders_day_of_week  order_hour_of_day  \\\n",
       "0   2539329        1             1                   2                  8   \n",
       "1   2398795        1             2                   3                  7   \n",
       "\n",
       "   days_since_prior_order  product_id  add_to_cart_order  reordered  \\\n",
       "0                     NaN         196                  1          0   \n",
       "1                    15.0         196                  1          1   \n",
       "\n",
       "  product_name  aisle_id  department_id  prices _merge  price_range_loc  \\\n",
       "0         Soda        77              7     9.0   both  Mid Price Range   \n",
       "1         Soda        77              7     9.0   both  Mid Price Range   \n",
       "\n",
       "      busiest_day    busiest_days busiest_period_of_day  \n",
       "0  Regularly busy  Regularly busy        Average orders  \n",
       "1  Regularly busy    Slowest days        Average orders  "
      ]
     },
     "execution_count": 43,
     "metadata": {},
     "output_type": "execute_result"
    }
   ],
   "source": [
    "df_ords_prods_merge.head(2)"
   ]
  },
  {
   "cell_type": "code",
   "execution_count": 44,
   "id": "8b0f925d-b312-4610-a124-eaa6c1ac89be",
   "metadata": {},
   "outputs": [
    {
     "data": {
      "text/plain": [
       "(32404859, 18)"
      ]
     },
     "execution_count": 44,
     "metadata": {},
     "output_type": "execute_result"
    }
   ],
   "source": [
    "df_ords_prods_merge.shape"
   ]
  },
  {
   "cell_type": "code",
   "execution_count": 45,
   "id": "68a2a6e3",
   "metadata": {},
   "outputs": [
    {
     "data": {
      "text/plain": [
       "Index(['order_id', 'user_id', 'order_number', 'orders_day_of_week',\n",
       "       'order_hour_of_day', 'days_since_prior_order', 'product_id',\n",
       "       'add_to_cart_order', 'reordered', 'product_name', 'aisle_id',\n",
       "       'department_id', 'prices', '_merge', 'price_range_loc', 'busiest_day',\n",
       "       'busiest_days', 'busiest_period_of_day'],\n",
       "      dtype='object')"
      ]
     },
     "execution_count": 45,
     "metadata": {},
     "output_type": "execute_result"
    }
   ],
   "source": [
    "df_ords_prods_merge.columns"
   ]
  },
  {
   "cell_type": "code",
   "execution_count": 46,
   "id": "98210d12",
   "metadata": {},
   "outputs": [
    {
     "data": {
      "text/plain": [
       "99999.0"
      ]
     },
     "execution_count": 46,
     "metadata": {},
     "output_type": "execute_result"
    }
   ],
   "source": [
    "df_ords_prods_merge['prices'].max()"
   ]
  },
  {
   "cell_type": "code",
   "execution_count": 47,
   "id": "cf70ed18-db61-4f17-83fd-6e01195a9b2e",
   "metadata": {},
   "outputs": [],
   "source": [
    "# Export df_ords_prods_merge dataframe as “ords_prods_merge_derived.pkl” under “Prepared Data” folder. \n",
    "df_ords_prods_merge.to_pickle(os.path.join(path, '02 Data','Prepared Data', 'ords_prods_merge_derived.pkl'))"
   ]
  },
  {
   "cell_type": "code",
   "execution_count": null,
   "id": "cc753c06-19d7-4f31-bca9-6f6e84fee21d",
   "metadata": {},
   "outputs": [],
   "source": []
  },
  {
   "cell_type": "code",
   "execution_count": null,
   "id": "4d002518-f43d-4599-9f46-5ad13aa6e329",
   "metadata": {},
   "outputs": [],
   "source": []
  },
  {
   "cell_type": "code",
   "execution_count": null,
   "id": "a505a027-67c4-4483-9100-5a5329a25559",
   "metadata": {},
   "outputs": [],
   "source": []
  }
 ],
 "metadata": {
  "kernelspec": {
   "display_name": "Python 3 (ipykernel)",
   "language": "python",
   "name": "python3"
  },
  "language_info": {
   "codemirror_mode": {
    "name": "ipython",
    "version": 3
   },
   "file_extension": ".py",
   "mimetype": "text/x-python",
   "name": "python",
   "nbconvert_exporter": "python",
   "pygments_lexer": "ipython3",
   "version": "3.11.7"
  }
 },
 "nbformat": 4,
 "nbformat_minor": 5
}
