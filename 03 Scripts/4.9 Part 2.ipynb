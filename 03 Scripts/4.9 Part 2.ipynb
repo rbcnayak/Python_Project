{
 "cells": [
  {
   "cell_type": "markdown",
   "id": "3ede99e3-cf0f-4bbd-80eb-6c7a81d11bcc",
   "metadata": {},
   "source": [
    "## 01. Import libraries & data"
   ]
  },
  {
   "cell_type": "code",
   "execution_count": 1,
   "id": "718141b1-5eab-4854-84a9-2cfa12ae0943",
   "metadata": {},
   "outputs": [],
   "source": [
    "# Import libraries\n",
    "import pandas as pd\n",
    "import numpy as np\n",
    "import os\n",
    "import matplotlib.pyplot as plt\n",
    "import seaborn as sns\n",
    "import scipy"
   ]
  },
  {
   "cell_type": "code",
   "execution_count": 2,
   "id": "e562ceed-b4dd-4455-b4c1-c8e1970050c2",
   "metadata": {},
   "outputs": [],
   "source": [
    "# Use variable path \n",
    "path = r'/Users/rose/Documents/Career Foundry/Instacart Basket Analysis'"
   ]
  },
  {
   "cell_type": "code",
   "execution_count": 3,
   "id": "457d25b1-3489-4057-8932-213acac4e1f9",
   "metadata": {},
   "outputs": [],
   "source": [
    "# Import customers.csv, assign to a variable (df_customers)\n",
    "df_customers = pd.read_csv(os.path.join(path, '02 Data', 'Original Data', 'customers.csv'), index_col = False)"
   ]
  },
  {
   "cell_type": "code",
   "execution_count": 4,
   "id": "93e7d216-01cd-45d1-a453-204ce2aba7d1",
   "metadata": {},
   "outputs": [],
   "source": [
    "# Import latest ords dataframe: 'ords_prods_merge_aggregation2.pkl', assign to a variable ('ords_prods_marged')\n",
    "ords_prods_merged = pd.read_pickle(os.path.join(path, '02 Data', 'Prepared Data', 'ords_prods_merge_aggregation2.pkl')) "
   ]
  },
  {
   "cell_type": "code",
   "execution_count": 5,
   "id": "c0b32b8c-e7c0-44cb-9d82-286a7da55f19",
   "metadata": {},
   "outputs": [
    {
     "data": {
      "text/plain": [
       "(32404859, 24)"
      ]
     },
     "execution_count": 5,
     "metadata": {},
     "output_type": "execute_result"
    }
   ],
   "source": [
    "ords_prods_merged.shape"
   ]
  },
  {
   "cell_type": "code",
   "execution_count": 6,
   "id": "e4cdae9b-e259-43e3-b3d2-735911e38245",
   "metadata": {},
   "outputs": [
    {
     "data": {
      "text/plain": [
       "Index(['order_id', 'user_id', 'order_number', 'orders_day_of_week',\n",
       "       'order_hour_of_day', 'days_since_prior_order', 'product_id',\n",
       "       'add_to_cart_order', 'reordered', 'product_name', 'aisle_id',\n",
       "       'department_id', 'prices', '_merge', 'price_range_loc', 'busiest_day',\n",
       "       'busiest_days', 'busiest_period_of_day', 'max_order', 'loyalty_flag',\n",
       "       'average_spend', 'spend_flag', 'order_frequency', 'frequency_flag'],\n",
       "      dtype='object')"
      ]
     },
     "execution_count": 6,
     "metadata": {},
     "output_type": "execute_result"
    }
   ],
   "source": [
    "ords_prods_merged.columns"
   ]
  },
  {
   "cell_type": "code",
   "execution_count": 7,
   "id": "43545a82-278a-4640-9ee2-3fcc32655493",
   "metadata": {},
   "outputs": [],
   "source": [
    "# Delete the column '_merge' using drop() function\n",
    "ords_prods_merged = ords_prods_merged.drop(columns=['_merge'])"
   ]
  },
  {
   "cell_type": "code",
   "execution_count": 8,
   "id": "ffa0b312-ccba-408c-8186-81653a83705e",
   "metadata": {},
   "outputs": [
    {
     "data": {
      "text/plain": [
       "(32404859, 23)"
      ]
     },
     "execution_count": 8,
     "metadata": {},
     "output_type": "execute_result"
    }
   ],
   "source": [
    "# check if column is successfully dropped\n",
    "ords_prods_merged.shape"
   ]
  },
  {
   "cell_type": "markdown",
   "id": "755c4ccc-f130-43ef-a666-829b4621f291",
   "metadata": {},
   "source": [
    "## 02. Data Cleaning, Wrangling"
   ]
  },
  {
   "cell_type": "code",
   "execution_count": 9,
   "id": "cfaf66a5-8399-44d4-a1f1-e626de587855",
   "metadata": {},
   "outputs": [
    {
     "data": {
      "text/html": [
       "<div>\n",
       "<style scoped>\n",
       "    .dataframe tbody tr th:only-of-type {\n",
       "        vertical-align: middle;\n",
       "    }\n",
       "\n",
       "    .dataframe tbody tr th {\n",
       "        vertical-align: top;\n",
       "    }\n",
       "\n",
       "    .dataframe thead th {\n",
       "        text-align: right;\n",
       "    }\n",
       "</style>\n",
       "<table border=\"1\" class=\"dataframe\">\n",
       "  <thead>\n",
       "    <tr style=\"text-align: right;\">\n",
       "      <th></th>\n",
       "      <th>user_id</th>\n",
       "      <th>First Name</th>\n",
       "      <th>Surnam</th>\n",
       "      <th>Gender</th>\n",
       "      <th>STATE</th>\n",
       "      <th>Age</th>\n",
       "      <th>date_joined</th>\n",
       "      <th>n_dependants</th>\n",
       "      <th>fam_status</th>\n",
       "      <th>income</th>\n",
       "    </tr>\n",
       "  </thead>\n",
       "  <tbody>\n",
       "    <tr>\n",
       "      <th>0</th>\n",
       "      <td>26711</td>\n",
       "      <td>Deborah</td>\n",
       "      <td>Esquivel</td>\n",
       "      <td>Female</td>\n",
       "      <td>Missouri</td>\n",
       "      <td>48</td>\n",
       "      <td>1/1/2017</td>\n",
       "      <td>3</td>\n",
       "      <td>married</td>\n",
       "      <td>165665</td>\n",
       "    </tr>\n",
       "    <tr>\n",
       "      <th>1</th>\n",
       "      <td>33890</td>\n",
       "      <td>Patricia</td>\n",
       "      <td>Hart</td>\n",
       "      <td>Female</td>\n",
       "      <td>New Mexico</td>\n",
       "      <td>36</td>\n",
       "      <td>1/1/2017</td>\n",
       "      <td>0</td>\n",
       "      <td>single</td>\n",
       "      <td>59285</td>\n",
       "    </tr>\n",
       "  </tbody>\n",
       "</table>\n",
       "</div>"
      ],
      "text/plain": [
       "   user_id First Name    Surnam  Gender       STATE  Age date_joined  \\\n",
       "0    26711    Deborah  Esquivel  Female    Missouri   48    1/1/2017   \n",
       "1    33890   Patricia      Hart  Female  New Mexico   36    1/1/2017   \n",
       "\n",
       "   n_dependants fam_status  income  \n",
       "0             3    married  165665  \n",
       "1             0     single   59285  "
      ]
     },
     "execution_count": 9,
     "metadata": {},
     "output_type": "execute_result"
    }
   ],
   "source": [
    "# Print the first few rows of the new imported dataset, to get a sense of what the dataframe looks like, and its content\n",
    "df_customers.head(2)"
   ]
  },
  {
   "cell_type": "code",
   "execution_count": 10,
   "id": "92c32f61-3c3b-4aa3-b68c-d52fd77ffd5a",
   "metadata": {},
   "outputs": [],
   "source": [
    "# Rename column names for consistency\n",
    "df_customers.rename(columns = {'First Name' : 'first_name', 'Surnam': 'last_name', 'Gender': 'gender', 'STATE': 'state', 'Age': 'age'}, inplace = True)"
   ]
  },
  {
   "cell_type": "code",
   "execution_count": 11,
   "id": "bb05b5f2-3b0c-4055-9946-240cd8419048",
   "metadata": {},
   "outputs": [
    {
     "data": {
      "text/html": [
       "<div>\n",
       "<style scoped>\n",
       "    .dataframe tbody tr th:only-of-type {\n",
       "        vertical-align: middle;\n",
       "    }\n",
       "\n",
       "    .dataframe tbody tr th {\n",
       "        vertical-align: top;\n",
       "    }\n",
       "\n",
       "    .dataframe thead th {\n",
       "        text-align: right;\n",
       "    }\n",
       "</style>\n",
       "<table border=\"1\" class=\"dataframe\">\n",
       "  <thead>\n",
       "    <tr style=\"text-align: right;\">\n",
       "      <th></th>\n",
       "      <th>user_id</th>\n",
       "      <th>first_name</th>\n",
       "      <th>last_name</th>\n",
       "      <th>gender</th>\n",
       "      <th>state</th>\n",
       "      <th>age</th>\n",
       "      <th>date_joined</th>\n",
       "      <th>n_dependants</th>\n",
       "      <th>fam_status</th>\n",
       "      <th>income</th>\n",
       "    </tr>\n",
       "  </thead>\n",
       "  <tbody>\n",
       "    <tr>\n",
       "      <th>0</th>\n",
       "      <td>26711</td>\n",
       "      <td>Deborah</td>\n",
       "      <td>Esquivel</td>\n",
       "      <td>Female</td>\n",
       "      <td>Missouri</td>\n",
       "      <td>48</td>\n",
       "      <td>1/1/2017</td>\n",
       "      <td>3</td>\n",
       "      <td>married</td>\n",
       "      <td>165665</td>\n",
       "    </tr>\n",
       "  </tbody>\n",
       "</table>\n",
       "</div>"
      ],
      "text/plain": [
       "   user_id first_name last_name  gender     state  age date_joined  \\\n",
       "0    26711    Deborah  Esquivel  Female  Missouri   48    1/1/2017   \n",
       "\n",
       "   n_dependants fam_status  income  \n",
       "0             3    married  165665  "
      ]
     },
     "execution_count": 11,
     "metadata": {},
     "output_type": "execute_result"
    }
   ],
   "source": [
    "# Check if renames was successful\n",
    "df_customers.head(1)"
   ]
  },
  {
   "cell_type": "code",
   "execution_count": 12,
   "id": "53b34f83-7a4f-4941-a5aa-6bb80434f527",
   "metadata": {},
   "outputs": [
    {
     "data": {
      "text/html": [
       "<div>\n",
       "<style scoped>\n",
       "    .dataframe tbody tr th:only-of-type {\n",
       "        vertical-align: middle;\n",
       "    }\n",
       "\n",
       "    .dataframe tbody tr th {\n",
       "        vertical-align: top;\n",
       "    }\n",
       "\n",
       "    .dataframe thead th {\n",
       "        text-align: right;\n",
       "    }\n",
       "</style>\n",
       "<table border=\"1\" class=\"dataframe\">\n",
       "  <thead>\n",
       "    <tr style=\"text-align: right;\">\n",
       "      <th></th>\n",
       "      <th>user_id</th>\n",
       "      <th>age</th>\n",
       "      <th>n_dependants</th>\n",
       "      <th>income</th>\n",
       "    </tr>\n",
       "  </thead>\n",
       "  <tbody>\n",
       "    <tr>\n",
       "      <th>count</th>\n",
       "      <td>206209.000000</td>\n",
       "      <td>206209.000000</td>\n",
       "      <td>206209.000000</td>\n",
       "      <td>206209.000000</td>\n",
       "    </tr>\n",
       "    <tr>\n",
       "      <th>mean</th>\n",
       "      <td>103105.000000</td>\n",
       "      <td>49.501646</td>\n",
       "      <td>1.499823</td>\n",
       "      <td>94632.852548</td>\n",
       "    </tr>\n",
       "    <tr>\n",
       "      <th>std</th>\n",
       "      <td>59527.555167</td>\n",
       "      <td>18.480962</td>\n",
       "      <td>1.118433</td>\n",
       "      <td>42473.786988</td>\n",
       "    </tr>\n",
       "    <tr>\n",
       "      <th>min</th>\n",
       "      <td>1.000000</td>\n",
       "      <td>18.000000</td>\n",
       "      <td>0.000000</td>\n",
       "      <td>25903.000000</td>\n",
       "    </tr>\n",
       "    <tr>\n",
       "      <th>25%</th>\n",
       "      <td>51553.000000</td>\n",
       "      <td>33.000000</td>\n",
       "      <td>0.000000</td>\n",
       "      <td>59874.000000</td>\n",
       "    </tr>\n",
       "    <tr>\n",
       "      <th>50%</th>\n",
       "      <td>103105.000000</td>\n",
       "      <td>49.000000</td>\n",
       "      <td>1.000000</td>\n",
       "      <td>93547.000000</td>\n",
       "    </tr>\n",
       "    <tr>\n",
       "      <th>75%</th>\n",
       "      <td>154657.000000</td>\n",
       "      <td>66.000000</td>\n",
       "      <td>3.000000</td>\n",
       "      <td>124244.000000</td>\n",
       "    </tr>\n",
       "    <tr>\n",
       "      <th>max</th>\n",
       "      <td>206209.000000</td>\n",
       "      <td>81.000000</td>\n",
       "      <td>3.000000</td>\n",
       "      <td>593901.000000</td>\n",
       "    </tr>\n",
       "  </tbody>\n",
       "</table>\n",
       "</div>"
      ],
      "text/plain": [
       "             user_id            age   n_dependants         income\n",
       "count  206209.000000  206209.000000  206209.000000  206209.000000\n",
       "mean   103105.000000      49.501646       1.499823   94632.852548\n",
       "std     59527.555167      18.480962       1.118433   42473.786988\n",
       "min         1.000000      18.000000       0.000000   25903.000000\n",
       "25%     51553.000000      33.000000       0.000000   59874.000000\n",
       "50%    103105.000000      49.000000       1.000000   93547.000000\n",
       "75%    154657.000000      66.000000       3.000000  124244.000000\n",
       "max    206209.000000      81.000000       3.000000  593901.000000"
      ]
     },
     "execution_count": 12,
     "metadata": {},
     "output_type": "execute_result"
    }
   ],
   "source": [
    "# Consistency check\n",
    "df_customers.describe()"
   ]
  },
  {
   "cell_type": "markdown",
   "id": "af04a885-a381-457e-8b2a-cb937a00a503",
   "metadata": {},
   "source": [
    "## Finding and Fixing missing values "
   ]
  },
  {
   "cell_type": "code",
   "execution_count": 13,
   "id": "19710a2d-10c2-47b7-b08f-ad7eee66c2ec",
   "metadata": {},
   "outputs": [
    {
     "data": {
      "text/plain": [
       "user_id             0\n",
       "first_name      11259\n",
       "last_name           0\n",
       "gender              0\n",
       "state               0\n",
       "age                 0\n",
       "date_joined         0\n",
       "n_dependants        0\n",
       "fam_status          0\n",
       "income              0\n",
       "dtype: int64"
      ]
     },
     "execution_count": 13,
     "metadata": {},
     "output_type": "execute_result"
    }
   ],
   "source": [
    "# find missing values\n",
    "df_customers.isnull().sum() "
   ]
  },
  {
   "cell_type": "code",
   "execution_count": 14,
   "id": "7360ff75-7889-4123-8e38-3f9b83a191a1",
   "metadata": {},
   "outputs": [
    {
     "data": {
      "text/plain": [
       "(206209, 10)"
      ]
     },
     "execution_count": 14,
     "metadata": {},
     "output_type": "execute_result"
    }
   ],
   "source": [
    "df_customers.shape"
   ]
  },
  {
   "cell_type": "code",
   "execution_count": 15,
   "id": "4d161f1b-ed8e-44fd-9ad1-a4643cf55b86",
   "metadata": {},
   "outputs": [],
   "source": [
    "# Create a dataframe with missing values \n",
    "df_customers_nan = df_customers[df_customers['first_name'].isnull() == True]"
   ]
  },
  {
   "cell_type": "code",
   "execution_count": 16,
   "id": "de575d38-efcb-40f4-9145-08ab5c6cc467",
   "metadata": {},
   "outputs": [
    {
     "data": {
      "text/plain": [
       "(11259, 10)"
      ]
     },
     "execution_count": 16,
     "metadata": {},
     "output_type": "execute_result"
    }
   ],
   "source": [
    "df_customers_nan.shape"
   ]
  },
  {
   "cell_type": "code",
   "execution_count": 17,
   "id": "82f273c5-8f0b-419d-8d70-5e62d599b102",
   "metadata": {},
   "outputs": [
    {
     "data": {
      "text/html": [
       "<div>\n",
       "<style scoped>\n",
       "    .dataframe tbody tr th:only-of-type {\n",
       "        vertical-align: middle;\n",
       "    }\n",
       "\n",
       "    .dataframe tbody tr th {\n",
       "        vertical-align: top;\n",
       "    }\n",
       "\n",
       "    .dataframe thead th {\n",
       "        text-align: right;\n",
       "    }\n",
       "</style>\n",
       "<table border=\"1\" class=\"dataframe\">\n",
       "  <thead>\n",
       "    <tr style=\"text-align: right;\">\n",
       "      <th></th>\n",
       "      <th>user_id</th>\n",
       "      <th>first_name</th>\n",
       "      <th>last_name</th>\n",
       "      <th>gender</th>\n",
       "      <th>state</th>\n",
       "      <th>age</th>\n",
       "      <th>date_joined</th>\n",
       "      <th>n_dependants</th>\n",
       "      <th>fam_status</th>\n",
       "      <th>income</th>\n",
       "    </tr>\n",
       "  </thead>\n",
       "  <tbody>\n",
       "    <tr>\n",
       "      <th>53</th>\n",
       "      <td>76659</td>\n",
       "      <td>NaN</td>\n",
       "      <td>Gilbert</td>\n",
       "      <td>Male</td>\n",
       "      <td>Colorado</td>\n",
       "      <td>26</td>\n",
       "      <td>1/1/2017</td>\n",
       "      <td>2</td>\n",
       "      <td>married</td>\n",
       "      <td>41709</td>\n",
       "    </tr>\n",
       "    <tr>\n",
       "      <th>73</th>\n",
       "      <td>13738</td>\n",
       "      <td>NaN</td>\n",
       "      <td>Frost</td>\n",
       "      <td>Female</td>\n",
       "      <td>Louisiana</td>\n",
       "      <td>39</td>\n",
       "      <td>1/1/2017</td>\n",
       "      <td>0</td>\n",
       "      <td>single</td>\n",
       "      <td>82518</td>\n",
       "    </tr>\n",
       "    <tr>\n",
       "      <th>82</th>\n",
       "      <td>89996</td>\n",
       "      <td>NaN</td>\n",
       "      <td>Dawson</td>\n",
       "      <td>Female</td>\n",
       "      <td>Oregon</td>\n",
       "      <td>52</td>\n",
       "      <td>1/1/2017</td>\n",
       "      <td>3</td>\n",
       "      <td>married</td>\n",
       "      <td>117099</td>\n",
       "    </tr>\n",
       "    <tr>\n",
       "      <th>99</th>\n",
       "      <td>96166</td>\n",
       "      <td>NaN</td>\n",
       "      <td>Oconnor</td>\n",
       "      <td>Male</td>\n",
       "      <td>Oklahoma</td>\n",
       "      <td>51</td>\n",
       "      <td>1/1/2017</td>\n",
       "      <td>1</td>\n",
       "      <td>married</td>\n",
       "      <td>155673</td>\n",
       "    </tr>\n",
       "    <tr>\n",
       "      <th>105</th>\n",
       "      <td>29778</td>\n",
       "      <td>NaN</td>\n",
       "      <td>Dawson</td>\n",
       "      <td>Female</td>\n",
       "      <td>Utah</td>\n",
       "      <td>63</td>\n",
       "      <td>1/1/2017</td>\n",
       "      <td>3</td>\n",
       "      <td>married</td>\n",
       "      <td>151819</td>\n",
       "    </tr>\n",
       "  </tbody>\n",
       "</table>\n",
       "</div>"
      ],
      "text/plain": [
       "     user_id first_name last_name  gender      state  age date_joined  \\\n",
       "53     76659        NaN   Gilbert    Male   Colorado   26    1/1/2017   \n",
       "73     13738        NaN     Frost  Female  Louisiana   39    1/1/2017   \n",
       "82     89996        NaN    Dawson  Female     Oregon   52    1/1/2017   \n",
       "99     96166        NaN   Oconnor    Male   Oklahoma   51    1/1/2017   \n",
       "105    29778        NaN    Dawson  Female       Utah   63    1/1/2017   \n",
       "\n",
       "     n_dependants fam_status  income  \n",
       "53              2    married   41709  \n",
       "73              0     single   82518  \n",
       "82              3    married  117099  \n",
       "99              1    married  155673  \n",
       "105             3    married  151819  "
      ]
     },
     "execution_count": 17,
     "metadata": {},
     "output_type": "execute_result"
    }
   ],
   "source": [
    "df_customers_nan.head()"
   ]
  },
  {
   "cell_type": "code",
   "execution_count": 18,
   "id": "d0744d9e-6cb0-4da9-be3f-131d1544f1d4",
   "metadata": {},
   "outputs": [],
   "source": [
    "# Create a dataframe without the missing values \n",
    "df_customers_clean = df_customers[df_customers['first_name'].isnull() == False]"
   ]
  },
  {
   "cell_type": "code",
   "execution_count": 19,
   "id": "cbf7a7f2-7563-47f4-8579-ac2b7182a4b4",
   "metadata": {},
   "outputs": [
    {
     "data": {
      "text/plain": [
       "(194950, 10)"
      ]
     },
     "execution_count": 19,
     "metadata": {},
     "output_type": "execute_result"
    }
   ],
   "source": [
    "df_customers_clean.shape"
   ]
  },
  {
   "cell_type": "code",
   "execution_count": 20,
   "id": "a7d44ac7-fea1-4bef-803b-020704d2eeb0",
   "metadata": {},
   "outputs": [
    {
     "data": {
      "text/plain": [
       "206209"
      ]
     },
     "execution_count": 20,
     "metadata": {},
     "output_type": "execute_result"
    }
   ],
   "source": [
    "# Check lenth (number of rows) for the entire customers dataframe\n",
    "len(df_customers)"
   ]
  },
  {
   "cell_type": "code",
   "execution_count": 21,
   "id": "96f58311-967d-48a9-9587-47f0443ac3dc",
   "metadata": {},
   "outputs": [
    {
     "data": {
      "text/plain": [
       "206209"
      ]
     },
     "execution_count": 21,
     "metadata": {},
     "output_type": "execute_result"
    }
   ],
   "source": [
    "# Check lenth (number of rows) for the two seubsets that make up the customers dataframe\n",
    "len(df_customers_nan) + len(df_customers_clean)"
   ]
  },
  {
   "cell_type": "markdown",
   "id": "c6f7d48a-2e40-4d88-8757-6b18727d63c0",
   "metadata": {},
   "source": [
    "## Finding duplicates"
   ]
  },
  {
   "cell_type": "code",
   "execution_count": 22,
   "id": "78b65697-386d-45dd-b316-915a3e4113c5",
   "metadata": {},
   "outputs": [],
   "source": [
    "# Find duplicates\n",
    "df_dups = df_customers_clean[df_customers_clean.duplicated()]"
   ]
  },
  {
   "cell_type": "code",
   "execution_count": 23,
   "id": "2b2374d2-22a9-402d-8f8c-6acc34874acf",
   "metadata": {},
   "outputs": [
    {
     "data": {
      "text/html": [
       "<div>\n",
       "<style scoped>\n",
       "    .dataframe tbody tr th:only-of-type {\n",
       "        vertical-align: middle;\n",
       "    }\n",
       "\n",
       "    .dataframe tbody tr th {\n",
       "        vertical-align: top;\n",
       "    }\n",
       "\n",
       "    .dataframe thead th {\n",
       "        text-align: right;\n",
       "    }\n",
       "</style>\n",
       "<table border=\"1\" class=\"dataframe\">\n",
       "  <thead>\n",
       "    <tr style=\"text-align: right;\">\n",
       "      <th></th>\n",
       "      <th>user_id</th>\n",
       "      <th>first_name</th>\n",
       "      <th>last_name</th>\n",
       "      <th>gender</th>\n",
       "      <th>state</th>\n",
       "      <th>age</th>\n",
       "      <th>date_joined</th>\n",
       "      <th>n_dependants</th>\n",
       "      <th>fam_status</th>\n",
       "      <th>income</th>\n",
       "    </tr>\n",
       "  </thead>\n",
       "  <tbody>\n",
       "  </tbody>\n",
       "</table>\n",
       "</div>"
      ],
      "text/plain": [
       "Empty DataFrame\n",
       "Columns: [user_id, first_name, last_name, gender, state, age, date_joined, n_dependants, fam_status, income]\n",
       "Index: []"
      ]
     },
     "execution_count": 23,
     "metadata": {},
     "output_type": "execute_result"
    }
   ],
   "source": [
    "df_dups"
   ]
  },
  {
   "cell_type": "code",
   "execution_count": 24,
   "id": "ad340b74-ea5f-49c3-990c-0666d99d1ade",
   "metadata": {},
   "outputs": [
    {
     "data": {
      "text/plain": [
       "(0, 10)"
      ]
     },
     "execution_count": 24,
     "metadata": {},
     "output_type": "execute_result"
    }
   ],
   "source": [
    "df_dups.shape"
   ]
  },
  {
   "cell_type": "markdown",
   "id": "6e85b3f8-1c2d-4233-abfd-9754acd22db0",
   "metadata": {},
   "source": [
    "No duplicates found"
   ]
  },
  {
   "cell_type": "markdown",
   "id": "7087b55f-b102-46b3-9181-3430f565a8fc",
   "metadata": {},
   "source": [
    "### Consistency checks"
   ]
  },
  {
   "cell_type": "code",
   "execution_count": 25,
   "id": "8bdeb7e6-f7c3-48af-82e8-5f04a72a9f06",
   "metadata": {},
   "outputs": [
    {
     "data": {
      "text/html": [
       "<div>\n",
       "<style scoped>\n",
       "    .dataframe tbody tr th:only-of-type {\n",
       "        vertical-align: middle;\n",
       "    }\n",
       "\n",
       "    .dataframe tbody tr th {\n",
       "        vertical-align: top;\n",
       "    }\n",
       "\n",
       "    .dataframe thead th {\n",
       "        text-align: right;\n",
       "    }\n",
       "</style>\n",
       "<table border=\"1\" class=\"dataframe\">\n",
       "  <thead>\n",
       "    <tr style=\"text-align: right;\">\n",
       "      <th></th>\n",
       "      <th>user_id</th>\n",
       "      <th>age</th>\n",
       "      <th>n_dependants</th>\n",
       "      <th>income</th>\n",
       "    </tr>\n",
       "  </thead>\n",
       "  <tbody>\n",
       "    <tr>\n",
       "      <th>count</th>\n",
       "      <td>194950.000000</td>\n",
       "      <td>194950.000000</td>\n",
       "      <td>194950.000000</td>\n",
       "      <td>194950.000000</td>\n",
       "    </tr>\n",
       "    <tr>\n",
       "      <th>mean</th>\n",
       "      <td>103140.014947</td>\n",
       "      <td>49.511167</td>\n",
       "      <td>1.499600</td>\n",
       "      <td>94664.811495</td>\n",
       "    </tr>\n",
       "    <tr>\n",
       "      <th>std</th>\n",
       "      <td>59527.705810</td>\n",
       "      <td>18.476519</td>\n",
       "      <td>1.117959</td>\n",
       "      <td>42477.262653</td>\n",
       "    </tr>\n",
       "    <tr>\n",
       "      <th>min</th>\n",
       "      <td>1.000000</td>\n",
       "      <td>18.000000</td>\n",
       "      <td>0.000000</td>\n",
       "      <td>25903.000000</td>\n",
       "    </tr>\n",
       "    <tr>\n",
       "      <th>25%</th>\n",
       "      <td>51597.250000</td>\n",
       "      <td>33.000000</td>\n",
       "      <td>0.000000</td>\n",
       "      <td>59924.000000</td>\n",
       "    </tr>\n",
       "    <tr>\n",
       "      <th>50%</th>\n",
       "      <td>103091.500000</td>\n",
       "      <td>49.000000</td>\n",
       "      <td>1.000000</td>\n",
       "      <td>93572.500000</td>\n",
       "    </tr>\n",
       "    <tr>\n",
       "      <th>75%</th>\n",
       "      <td>154700.750000</td>\n",
       "      <td>66.000000</td>\n",
       "      <td>2.000000</td>\n",
       "      <td>124261.000000</td>\n",
       "    </tr>\n",
       "    <tr>\n",
       "      <th>max</th>\n",
       "      <td>206209.000000</td>\n",
       "      <td>81.000000</td>\n",
       "      <td>3.000000</td>\n",
       "      <td>593901.000000</td>\n",
       "    </tr>\n",
       "  </tbody>\n",
       "</table>\n",
       "</div>"
      ],
      "text/plain": [
       "             user_id            age   n_dependants         income\n",
       "count  194950.000000  194950.000000  194950.000000  194950.000000\n",
       "mean   103140.014947      49.511167       1.499600   94664.811495\n",
       "std     59527.705810      18.476519       1.117959   42477.262653\n",
       "min         1.000000      18.000000       0.000000   25903.000000\n",
       "25%     51597.250000      33.000000       0.000000   59924.000000\n",
       "50%    103091.500000      49.000000       1.000000   93572.500000\n",
       "75%    154700.750000      66.000000       2.000000  124261.000000\n",
       "max    206209.000000      81.000000       3.000000  593901.000000"
      ]
     },
     "execution_count": 25,
     "metadata": {},
     "output_type": "execute_result"
    }
   ],
   "source": [
    "df_customers_clean.describe()"
   ]
  },
  {
   "cell_type": "code",
   "execution_count": 26,
   "id": "600c5f8d-5aa3-4c29-b6d2-b6c2ab9f3360",
   "metadata": {},
   "outputs": [
    {
     "data": {
      "text/plain": [
       "<Axes: ylabel='Frequency'>"
      ]
     },
     "execution_count": 26,
     "metadata": {},
     "output_type": "execute_result"
    },
    {
     "data": {
      "image/png": "[encoded data removed]",
      "text/plain": [
       "<Figure size 640x480 with 1 Axes>"
      ]
     },
     "metadata": {},
     "output_type": "display_data"
    }
   ],
   "source": [
    "df_customers_clean['income'].plot.hist(bins = 25)"
   ]
  },
  {
   "cell_type": "markdown",
   "id": "3c69a975-7387-421d-84b6-380b2020ec43",
   "metadata": {},
   "source": [
    "Comment: The median income (of 93572.5) is less than the mean income (of 94664.8), indicating that the income distribution might be slightly skewed towards lower values, and presence of outliers that pull the mean higher than the median. The std (of 42477.3) indicates the spread of incomes around the mean. The max (of 593901) is an outlier. "
   ]
  },
  {
   "cell_type": "code",
   "execution_count": 27,
   "id": "ebb4b0be-3529-4b05-8883-ac38e7b66ecd",
   "metadata": {},
   "outputs": [
    {
     "data": {
      "text/plain": [
       "count    194950.000000\n",
       "mean      94664.811495\n",
       "std       42477.262653\n",
       "min       25903.000000\n",
       "25%       59924.000000\n",
       "50%       93572.500000\n",
       "75%      124261.000000\n",
       "max      593901.000000\n",
       "Name: income, dtype: float64"
      ]
     },
     "execution_count": 27,
     "metadata": {},
     "output_type": "execute_result"
    }
   ],
   "source": [
    "df_customers_clean['income'].describe()"
   ]
  },
  {
   "cell_type": "markdown",
   "id": "5a350e25-b4cb-4385-aa67-ee66be50f087",
   "metadata": {},
   "source": [
    "### Finding Mix type columns"
   ]
  },
  {
   "cell_type": "code",
   "execution_count": 28,
   "id": "b3d2d346-e6a8-44c9-9114-c3d616139587",
   "metadata": {},
   "outputs": [],
   "source": [
    "# Test for any mixed-type columns:\n",
    "for col in df_customers_clean.columns.tolist():\n",
    "  weird = (df_customers_clean[[col]].map(type) != df_customers_clean[[col]].iloc[0].apply(type)).any(axis = 1)\n",
    "  if len (df_customers_clean[weird]) > 0:\n",
    "    print (col)"
   ]
  },
  {
   "cell_type": "markdown",
   "id": "eeb30ba4-ee32-4a96-9b96-1a50a97a574b",
   "metadata": {},
   "source": [
    "There are no mix type columns. In the previous section, under 'Finding and Fixing Missing values', we found some missing values in the 'first_name' column and fixed it by isolating them into a new dataframe."
   ]
  },
  {
   "cell_type": "code",
   "execution_count": 29,
   "id": "e511cb83-83b4-46eb-9da6-fa9689f3ffc6",
   "metadata": {},
   "outputs": [
    {
     "name": "stdout",
     "output_type": "stream",
     "text": [
      "[18, 19, 20, 21, 22, 23, 24, 25, 26, 27, 28, 29, 30, 31, 32, 33, 34, 35, 36, 37, 38, 39, 40, 41, 42, 43, 44, 45, 46, 47, 48, 49, 50, 51, 52, 53, 54, 55, 56, 57, 58, 59, 60, 61, 62, 63, 64, 65, 66, 67, 68, 69, 70, 71, 72, 73, 74, 75, 76, 77, 78, 79, 80, 81]\n"
     ]
    }
   ],
   "source": [
    "# Test if 'age' contains mixed types. Use unique() function to investigate further\n",
    "print(sorted(df_customers_clean['age'].unique()))"
   ]
  },
  {
   "cell_type": "code",
   "execution_count": 30,
   "id": "7612f52c-f9eb-478b-9d3f-512ae29b0571",
   "metadata": {},
   "outputs": [
    {
     "name": "stdout",
     "output_type": "stream",
     "text": [
      "[0, 1, 2, 3]\n"
     ]
    }
   ],
   "source": [
    "# Test 'n_dependants' contains mixed types. Use unique() function to investigate further\n",
    "print(sorted(df_customers_clean['n_dependants'].unique()))"
   ]
  },
  {
   "cell_type": "markdown",
   "id": "72685215-fcd6-4baf-9cce-f3c3fb195426",
   "metadata": {},
   "source": [
    "## Combining dataframes"
   ]
  },
  {
   "cell_type": "code",
   "execution_count": 31,
   "id": "a484c470-5226-44eb-9e31-f5c61baeb2ed",
   "metadata": {},
   "outputs": [
    {
     "data": {
      "text/html": [
       "<div>\n",
       "<style scoped>\n",
       "    .dataframe tbody tr th:only-of-type {\n",
       "        vertical-align: middle;\n",
       "    }\n",
       "\n",
       "    .dataframe tbody tr th {\n",
       "        vertical-align: top;\n",
       "    }\n",
       "\n",
       "    .dataframe thead th {\n",
       "        text-align: right;\n",
       "    }\n",
       "</style>\n",
       "<table border=\"1\" class=\"dataframe\">\n",
       "  <thead>\n",
       "    <tr style=\"text-align: right;\">\n",
       "      <th></th>\n",
       "      <th>user_id</th>\n",
       "      <th>first_name</th>\n",
       "      <th>last_name</th>\n",
       "      <th>gender</th>\n",
       "      <th>state</th>\n",
       "      <th>age</th>\n",
       "      <th>date_joined</th>\n",
       "      <th>n_dependants</th>\n",
       "      <th>fam_status</th>\n",
       "      <th>income</th>\n",
       "    </tr>\n",
       "  </thead>\n",
       "  <tbody>\n",
       "    <tr>\n",
       "      <th>0</th>\n",
       "      <td>26711</td>\n",
       "      <td>Deborah</td>\n",
       "      <td>Esquivel</td>\n",
       "      <td>Female</td>\n",
       "      <td>Missouri</td>\n",
       "      <td>48</td>\n",
       "      <td>1/1/2017</td>\n",
       "      <td>3</td>\n",
       "      <td>married</td>\n",
       "      <td>165665</td>\n",
       "    </tr>\n",
       "  </tbody>\n",
       "</table>\n",
       "</div>"
      ],
      "text/plain": [
       "   user_id first_name last_name  gender     state  age date_joined  \\\n",
       "0    26711    Deborah  Esquivel  Female  Missouri   48    1/1/2017   \n",
       "\n",
       "   n_dependants fam_status  income  \n",
       "0             3    married  165665  "
      ]
     },
     "execution_count": 31,
     "metadata": {},
     "output_type": "execute_result"
    }
   ],
   "source": [
    "# Prep for merge--look for common key ('user_id)'\n",
    "df_customers_clean.head(1)"
   ]
  },
  {
   "cell_type": "code",
   "execution_count": 32,
   "id": "93ebf29d",
   "metadata": {},
   "outputs": [
    {
     "data": {
      "text/plain": [
       "(194950, 10)"
      ]
     },
     "execution_count": 32,
     "metadata": {},
     "output_type": "execute_result"
    }
   ],
   "source": [
    "df_customers_clean.shape"
   ]
  },
  {
   "cell_type": "code",
   "execution_count": 33,
   "id": "526861f4-2338-418a-b456-dec54505bf58",
   "metadata": {},
   "outputs": [
    {
     "data": {
      "text/html": [
       "<div>\n",
       "<style scoped>\n",
       "    .dataframe tbody tr th:only-of-type {\n",
       "        vertical-align: middle;\n",
       "    }\n",
       "\n",
       "    .dataframe tbody tr th {\n",
       "        vertical-align: top;\n",
       "    }\n",
       "\n",
       "    .dataframe thead th {\n",
       "        text-align: right;\n",
       "    }\n",
       "</style>\n",
       "<table border=\"1\" class=\"dataframe\">\n",
       "  <thead>\n",
       "    <tr style=\"text-align: right;\">\n",
       "      <th></th>\n",
       "      <th>order_id</th>\n",
       "      <th>user_id</th>\n",
       "      <th>order_number</th>\n",
       "      <th>orders_day_of_week</th>\n",
       "      <th>order_hour_of_day</th>\n",
       "      <th>days_since_prior_order</th>\n",
       "      <th>product_id</th>\n",
       "      <th>add_to_cart_order</th>\n",
       "      <th>reordered</th>\n",
       "      <th>product_name</th>\n",
       "      <th>...</th>\n",
       "      <th>price_range_loc</th>\n",
       "      <th>busiest_day</th>\n",
       "      <th>busiest_days</th>\n",
       "      <th>busiest_period_of_day</th>\n",
       "      <th>max_order</th>\n",
       "      <th>loyalty_flag</th>\n",
       "      <th>average_spend</th>\n",
       "      <th>spend_flag</th>\n",
       "      <th>order_frequency</th>\n",
       "      <th>frequency_flag</th>\n",
       "    </tr>\n",
       "  </thead>\n",
       "  <tbody>\n",
       "    <tr>\n",
       "      <th>0</th>\n",
       "      <td>2539329</td>\n",
       "      <td>1</td>\n",
       "      <td>1</td>\n",
       "      <td>2</td>\n",
       "      <td>8</td>\n",
       "      <td>NaN</td>\n",
       "      <td>196</td>\n",
       "      <td>1</td>\n",
       "      <td>0</td>\n",
       "      <td>Soda</td>\n",
       "      <td>...</td>\n",
       "      <td>Mid Price Range</td>\n",
       "      <td>Regularly busy</td>\n",
       "      <td>Regularly busy</td>\n",
       "      <td>Average orders</td>\n",
       "      <td>10</td>\n",
       "      <td>New customer</td>\n",
       "      <td>6.367797</td>\n",
       "      <td>Low_spender</td>\n",
       "      <td>20.5</td>\n",
       "      <td>Non-Frequent customer</td>\n",
       "    </tr>\n",
       "  </tbody>\n",
       "</table>\n",
       "<p>1 rows × 23 columns</p>\n",
       "</div>"
      ],
      "text/plain": [
       "   order_id  user_id  order_number  orders_day_of_week  order_hour_of_day  \\\n",
       "0   2539329        1             1                   2                  8   \n",
       "\n",
       "   days_since_prior_order  product_id  add_to_cart_order  reordered  \\\n",
       "0                     NaN         196                  1          0   \n",
       "\n",
       "  product_name  ...  price_range_loc     busiest_day    busiest_days  \\\n",
       "0         Soda  ...  Mid Price Range  Regularly busy  Regularly busy   \n",
       "\n",
       "  busiest_period_of_day max_order  loyalty_flag average_spend   spend_flag  \\\n",
       "0        Average orders        10  New customer      6.367797  Low_spender   \n",
       "\n",
       "  order_frequency         frequency_flag  \n",
       "0            20.5  Non-Frequent customer  \n",
       "\n",
       "[1 rows x 23 columns]"
      ]
     },
     "execution_count": 33,
     "metadata": {},
     "output_type": "execute_result"
    }
   ],
   "source": [
    "ords_prods_merged.head(1)"
   ]
  },
  {
   "cell_type": "code",
   "execution_count": 34,
   "id": "4f2e74ab",
   "metadata": {},
   "outputs": [
    {
     "data": {
      "text/plain": [
       "(32404859, 23)"
      ]
     },
     "execution_count": 34,
     "metadata": {},
     "output_type": "execute_result"
    }
   ],
   "source": [
    "ords_prods_merged.shape"
   ]
  },
  {
   "cell_type": "code",
   "execution_count": 35,
   "id": "9b0adfa2-9cf0-48d8-a8b4-c8247f0d1358",
   "metadata": {},
   "outputs": [
    {
     "data": {
      "text/plain": [
       "dtype('int64')"
      ]
     },
     "execution_count": 35,
     "metadata": {},
     "output_type": "execute_result"
    }
   ],
   "source": [
    "# 'user_id' is common column and will use as key; check data type for 'user_in' in the two dataframes being combined\n",
    "ords_prods_merged['user_id'].dtype"
   ]
  },
  {
   "cell_type": "code",
   "execution_count": 36,
   "id": "e333a2d6-35ab-4edb-920a-574c0aa56045",
   "metadata": {},
   "outputs": [
    {
     "data": {
      "text/plain": [
       "dtype('int64')"
      ]
     },
     "execution_count": 36,
     "metadata": {},
     "output_type": "execute_result"
    }
   ],
   "source": [
    "# Check data type\n",
    "df_customers_clean['user_id'].dtype"
   ]
  },
  {
   "cell_type": "code",
   "execution_count": 37,
   "id": "4a925fc6-e2ce-494d-884e-c97f94176033",
   "metadata": {},
   "outputs": [
    {
     "data": {
      "text/plain": [
       "(32404859, 23)"
      ]
     },
     "execution_count": 37,
     "metadata": {},
     "output_type": "execute_result"
    }
   ],
   "source": [
    "ords_prods_merged.shape"
   ]
  },
  {
   "cell_type": "code",
   "execution_count": 38,
   "id": "fb37f2f0-48f5-49e3-992b-8c61c7bfccdc",
   "metadata": {},
   "outputs": [
    {
     "data": {
      "text/plain": [
       "(194950, 10)"
      ]
     },
     "execution_count": 38,
     "metadata": {},
     "output_type": "execute_result"
    }
   ],
   "source": [
    "df_customers_clean.shape"
   ]
  },
  {
   "cell_type": "code",
   "execution_count": 39,
   "id": "9e3011f8-05fe-46cd-8c5d-8fa7f959cc85",
   "metadata": {},
   "outputs": [],
   "source": [
    "# Combine dataframe using merge"
   ]
  },
  {
   "cell_type": "code",
   "execution_count": 40,
   "id": "1ce0b43b-146d-45b3-80a4-d52e76753521",
   "metadata": {},
   "outputs": [],
   "source": [
    "df_ords_prods_cust = ords_prods_merged.merge(df_customers_clean, on = 'user_id', how = 'inner', indicator = True)"
   ]
  },
  {
   "cell_type": "code",
   "execution_count": 41,
   "id": "153375fa-3d6d-4a78-80b9-3d8545d9273b",
   "metadata": {},
   "outputs": [
    {
     "data": {
      "text/plain": [
       "(30629741, 33)"
      ]
     },
     "execution_count": 41,
     "metadata": {},
     "output_type": "execute_result"
    }
   ],
   "source": [
    "df_ords_prods_cust.shape"
   ]
  },
  {
   "cell_type": "code",
   "execution_count": 42,
   "id": "2925353b-d342-40b1-a0dc-036953be63cd",
   "metadata": {},
   "outputs": [
    {
     "data": {
      "text/html": [
       "<div>\n",
       "<style scoped>\n",
       "    .dataframe tbody tr th:only-of-type {\n",
       "        vertical-align: middle;\n",
       "    }\n",
       "\n",
       "    .dataframe tbody tr th {\n",
       "        vertical-align: top;\n",
       "    }\n",
       "\n",
       "    .dataframe thead th {\n",
       "        text-align: right;\n",
       "    }\n",
       "</style>\n",
       "<table border=\"1\" class=\"dataframe\">\n",
       "  <thead>\n",
       "    <tr style=\"text-align: right;\">\n",
       "      <th></th>\n",
       "      <th>order_id</th>\n",
       "      <th>user_id</th>\n",
       "      <th>order_number</th>\n",
       "      <th>orders_day_of_week</th>\n",
       "      <th>order_hour_of_day</th>\n",
       "      <th>days_since_prior_order</th>\n",
       "      <th>product_id</th>\n",
       "      <th>add_to_cart_order</th>\n",
       "      <th>reordered</th>\n",
       "      <th>product_name</th>\n",
       "      <th>...</th>\n",
       "      <th>first_name</th>\n",
       "      <th>last_name</th>\n",
       "      <th>gender</th>\n",
       "      <th>state</th>\n",
       "      <th>age</th>\n",
       "      <th>date_joined</th>\n",
       "      <th>n_dependants</th>\n",
       "      <th>fam_status</th>\n",
       "      <th>income</th>\n",
       "      <th>_merge</th>\n",
       "    </tr>\n",
       "  </thead>\n",
       "  <tbody>\n",
       "    <tr>\n",
       "      <th>0</th>\n",
       "      <td>2539329</td>\n",
       "      <td>1</td>\n",
       "      <td>1</td>\n",
       "      <td>2</td>\n",
       "      <td>8</td>\n",
       "      <td>NaN</td>\n",
       "      <td>196</td>\n",
       "      <td>1</td>\n",
       "      <td>0</td>\n",
       "      <td>Soda</td>\n",
       "      <td>...</td>\n",
       "      <td>Linda</td>\n",
       "      <td>Nguyen</td>\n",
       "      <td>Female</td>\n",
       "      <td>Alabama</td>\n",
       "      <td>31</td>\n",
       "      <td>2/17/2019</td>\n",
       "      <td>3</td>\n",
       "      <td>married</td>\n",
       "      <td>40423</td>\n",
       "      <td>both</td>\n",
       "    </tr>\n",
       "    <tr>\n",
       "      <th>1</th>\n",
       "      <td>2398795</td>\n",
       "      <td>1</td>\n",
       "      <td>2</td>\n",
       "      <td>3</td>\n",
       "      <td>7</td>\n",
       "      <td>15.0</td>\n",
       "      <td>196</td>\n",
       "      <td>1</td>\n",
       "      <td>1</td>\n",
       "      <td>Soda</td>\n",
       "      <td>...</td>\n",
       "      <td>Linda</td>\n",
       "      <td>Nguyen</td>\n",
       "      <td>Female</td>\n",
       "      <td>Alabama</td>\n",
       "      <td>31</td>\n",
       "      <td>2/17/2019</td>\n",
       "      <td>3</td>\n",
       "      <td>married</td>\n",
       "      <td>40423</td>\n",
       "      <td>both</td>\n",
       "    </tr>\n",
       "  </tbody>\n",
       "</table>\n",
       "<p>2 rows × 33 columns</p>\n",
       "</div>"
      ],
      "text/plain": [
       "   order_id  user_id  order_number  orders_day_of_week  order_hour_of_day  \\\n",
       "0   2539329        1             1                   2                  8   \n",
       "1   2398795        1             2                   3                  7   \n",
       "\n",
       "   days_since_prior_order  product_id  add_to_cart_order  reordered  \\\n",
       "0                     NaN         196                  1          0   \n",
       "1                    15.0         196                  1          1   \n",
       "\n",
       "  product_name  ...  first_name  last_name  gender    state age date_joined  \\\n",
       "0         Soda  ...       Linda     Nguyen  Female  Alabama  31   2/17/2019   \n",
       "1         Soda  ...       Linda     Nguyen  Female  Alabama  31   2/17/2019   \n",
       "\n",
       "  n_dependants  fam_status income  _merge  \n",
       "0            3     married  40423    both  \n",
       "1            3     married  40423    both  \n",
       "\n",
       "[2 rows x 33 columns]"
      ]
     },
     "execution_count": 42,
     "metadata": {},
     "output_type": "execute_result"
    }
   ],
   "source": [
    "df_ords_prods_cust.head(2)"
   ]
  },
  {
   "cell_type": "code",
   "execution_count": 43,
   "id": "a3e8c8e5-a3ca-4213-b52d-c67d62793553",
   "metadata": {},
   "outputs": [
    {
     "data": {
      "text/plain": [
       "_merge\n",
       "both          30629741\n",
       "left_only            0\n",
       "right_only           0\n",
       "Name: count, dtype: int64"
      ]
     },
     "execution_count": 43,
     "metadata": {},
     "output_type": "execute_result"
    }
   ],
   "source": [
    "# Check inner join value counts\n",
    "df_ords_prods_cust['_merge'].value_counts()"
   ]
  },
  {
   "cell_type": "code",
   "execution_count": 44,
   "id": "8ef8d829",
   "metadata": {},
   "outputs": [
    {
     "data": {
      "text/plain": [
       "25.0"
      ]
     },
     "execution_count": 44,
     "metadata": {},
     "output_type": "execute_result"
    }
   ],
   "source": [
    "df_ords_prods_cust['prices'].max()"
   ]
  },
  {
   "cell_type": "code",
   "execution_count": 47,
   "id": "9206d0db",
   "metadata": {},
   "outputs": [
    {
     "data": {
      "text/plain": [
       "loyalty_flag\n",
       "Loyal customer      13410522\n",
       "Regular customer    11317058\n",
       "New customer         5902161\n",
       "Name: count, dtype: int64"
      ]
     },
     "execution_count": 47,
     "metadata": {},
     "output_type": "execute_result"
    }
   ],
   "source": [
    "# Check frequency for loyalty flag\n",
    "df_ords_prods_cust['loyalty_flag'].value_counts(dropna = False)"
   ]
  },
  {
   "cell_type": "markdown",
   "id": "e4cccbb6-87e9-4fda-ba77-111cfee983f3",
   "metadata": {},
   "source": [
    "## 3.0 Exporting Dataframe"
   ]
  },
  {
   "cell_type": "code",
   "execution_count": 48,
   "id": "fed052fc-81dc-489c-ad33-0e6e719cb540",
   "metadata": {},
   "outputs": [],
   "source": [
    "df_ords_prods_cust.to_pickle(os.path.join(path, '02 Data','Prepared Data', 'orders_products_customers_combined.pkl'))"
   ]
  },
  {
   "cell_type": "code",
   "execution_count": null,
   "id": "bfb73bef-e938-4285-b269-2f4b6ee23e1b",
   "metadata": {},
   "outputs": [],
   "source": []
  }
 ],
 "metadata": {
  "kernelspec": {
   "display_name": "Python 3 (ipykernel)",
   "language": "python",
   "name": "python3"
  },
  "language_info": {
   "codemirror_mode": {
    "name": "ipython",
    "version": 3
   },
   "file_extension": ".py",
   "mimetype": "text/x-python",
   "name": "python",
   "nbconvert_exporter": "python",
   "pygments_lexer": "ipython3",
   "version": "3.11.7"
  }
 },
 "nbformat": 4,
 "nbformat_minor": 5
}
